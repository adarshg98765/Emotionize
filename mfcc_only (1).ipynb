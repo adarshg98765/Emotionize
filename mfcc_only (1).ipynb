{
  "nbformat": 4,
  "nbformat_minor": 0,
  "metadata": {
    "colab": {
      "provenance": []
    },
    "kernelspec": {
      "name": "python3",
      "display_name": "Python 3"
    },
    "language_info": {
      "name": "python"
    },
    "gpuClass": "standard"
  },
  "cells": [
    {
      "cell_type": "code",
      "execution_count": null,
      "metadata": {
        "id": "VEoqxQHH0d9J"
      },
      "outputs": [],
      "source": [
        "import numpy as np\n",
        "import pandas as pd\n",
        "import os\n",
        "import librosa\n",
        "import wave\n",
        "import matplotlib.pyplot as plt\n",
        "\n",
        "\n",
        "from sklearn.model_selection import train_test_split\n",
        "from sklearn.neural_network import MLPClassifier\n",
        "from sklearn.metrics import accuracy_score\n",
        "\n",
        "from tensorflow import keras\n",
        "from tensorflow.keras import layers\n",
        "from tensorflow.keras.utils import to_categorical\n",
        "from keras.models import Sequential\n",
        "from keras.layers import *\n",
        "from sklearn.preprocessing import LabelEncoder\n",
        "# from keras.optimizer_v1 import RMSprop"
      ]
    },
    {
      "cell_type": "code",
      "source": [
        "from google.colab import drive\n",
        "drive.mount('/content/drive')"
      ],
      "metadata": {
        "id": "Do2aY6-e2JK5",
        "colab": {
          "base_uri": "https://localhost:8080/"
        },
        "outputId": "6b3c8981-8bef-4604-fd9e-04acce205d13"
      },
      "execution_count": null,
      "outputs": [
        {
          "output_type": "stream",
          "name": "stdout",
          "text": [
            "Drive already mounted at /content/drive; to attempt to forcibly remount, call drive.mount(\"/content/drive\", force_remount=True).\n"
          ]
        }
      ]
    },
    {
      "cell_type": "code",
      "source": [
        "ravdess_df = pd.read_csv('/content/drive/MyDrive/combined.csv')\n",
        "ravdess_df = ravdess_df.iloc[:,1:]\n",
        "ravdess_df"
      ],
      "metadata": {
        "colab": {
          "base_uri": "https://localhost:8080/",
          "height": 424
        },
        "id": "rz2gTYew3NEM",
        "outputId": "b8eb9fbf-4d2b-4394-ea94-99dafa1e95fc"
      },
      "execution_count": null,
      "outputs": [
        {
          "output_type": "execute_result",
          "data": {
            "text/plain": [
              "      gender   emotion  actor  \\\n",
              "0     female      fear      1   \n",
              "1     female      fear      1   \n",
              "2     female      fear      1   \n",
              "3     female      fear      1   \n",
              "4     female      fear      1   \n",
              "...      ...       ...    ...   \n",
              "4235  female      fear     24   \n",
              "4236  female      fear     24   \n",
              "4237  female     angry     24   \n",
              "4238  female  surprise     24   \n",
              "4239  female  surprise     24   \n",
              "\n",
              "                                                   path  \n",
              "0     /content/drive/MyDrive/TESS Toronto emotional ...  \n",
              "1     /content/drive/MyDrive/TESS Toronto emotional ...  \n",
              "2     /content/drive/MyDrive/TESS Toronto emotional ...  \n",
              "3     /content/drive/MyDrive/TESS Toronto emotional ...  \n",
              "4     /content/drive/MyDrive/TESS Toronto emotional ...  \n",
              "...                                                 ...  \n",
              "4235  /content/drive/MyDrive/audio/Actor_24/03-01-06...  \n",
              "4236  /content/drive/MyDrive/audio/Actor_24/03-01-06...  \n",
              "4237  /content/drive/MyDrive/audio/Actor_24/03-01-05...  \n",
              "4238  /content/drive/MyDrive/audio/Actor_24/03-01-08...  \n",
              "4239  /content/drive/MyDrive/audio/Actor_24/03-01-08...  \n",
              "\n",
              "[4240 rows x 4 columns]"
            ],
            "text/html": [
              "\n",
              "  <div id=\"df-b92524fc-5b07-4f8d-9192-0370756d08b5\">\n",
              "    <div class=\"colab-df-container\">\n",
              "      <div>\n",
              "<style scoped>\n",
              "    .dataframe tbody tr th:only-of-type {\n",
              "        vertical-align: middle;\n",
              "    }\n",
              "\n",
              "    .dataframe tbody tr th {\n",
              "        vertical-align: top;\n",
              "    }\n",
              "\n",
              "    .dataframe thead th {\n",
              "        text-align: right;\n",
              "    }\n",
              "</style>\n",
              "<table border=\"1\" class=\"dataframe\">\n",
              "  <thead>\n",
              "    <tr style=\"text-align: right;\">\n",
              "      <th></th>\n",
              "      <th>gender</th>\n",
              "      <th>emotion</th>\n",
              "      <th>actor</th>\n",
              "      <th>path</th>\n",
              "    </tr>\n",
              "  </thead>\n",
              "  <tbody>\n",
              "    <tr>\n",
              "      <th>0</th>\n",
              "      <td>female</td>\n",
              "      <td>fear</td>\n",
              "      <td>1</td>\n",
              "      <td>/content/drive/MyDrive/TESS Toronto emotional ...</td>\n",
              "    </tr>\n",
              "    <tr>\n",
              "      <th>1</th>\n",
              "      <td>female</td>\n",
              "      <td>fear</td>\n",
              "      <td>1</td>\n",
              "      <td>/content/drive/MyDrive/TESS Toronto emotional ...</td>\n",
              "    </tr>\n",
              "    <tr>\n",
              "      <th>2</th>\n",
              "      <td>female</td>\n",
              "      <td>fear</td>\n",
              "      <td>1</td>\n",
              "      <td>/content/drive/MyDrive/TESS Toronto emotional ...</td>\n",
              "    </tr>\n",
              "    <tr>\n",
              "      <th>3</th>\n",
              "      <td>female</td>\n",
              "      <td>fear</td>\n",
              "      <td>1</td>\n",
              "      <td>/content/drive/MyDrive/TESS Toronto emotional ...</td>\n",
              "    </tr>\n",
              "    <tr>\n",
              "      <th>4</th>\n",
              "      <td>female</td>\n",
              "      <td>fear</td>\n",
              "      <td>1</td>\n",
              "      <td>/content/drive/MyDrive/TESS Toronto emotional ...</td>\n",
              "    </tr>\n",
              "    <tr>\n",
              "      <th>...</th>\n",
              "      <td>...</td>\n",
              "      <td>...</td>\n",
              "      <td>...</td>\n",
              "      <td>...</td>\n",
              "    </tr>\n",
              "    <tr>\n",
              "      <th>4235</th>\n",
              "      <td>female</td>\n",
              "      <td>fear</td>\n",
              "      <td>24</td>\n",
              "      <td>/content/drive/MyDrive/audio/Actor_24/03-01-06...</td>\n",
              "    </tr>\n",
              "    <tr>\n",
              "      <th>4236</th>\n",
              "      <td>female</td>\n",
              "      <td>fear</td>\n",
              "      <td>24</td>\n",
              "      <td>/content/drive/MyDrive/audio/Actor_24/03-01-06...</td>\n",
              "    </tr>\n",
              "    <tr>\n",
              "      <th>4237</th>\n",
              "      <td>female</td>\n",
              "      <td>angry</td>\n",
              "      <td>24</td>\n",
              "      <td>/content/drive/MyDrive/audio/Actor_24/03-01-05...</td>\n",
              "    </tr>\n",
              "    <tr>\n",
              "      <th>4238</th>\n",
              "      <td>female</td>\n",
              "      <td>surprise</td>\n",
              "      <td>24</td>\n",
              "      <td>/content/drive/MyDrive/audio/Actor_24/03-01-08...</td>\n",
              "    </tr>\n",
              "    <tr>\n",
              "      <th>4239</th>\n",
              "      <td>female</td>\n",
              "      <td>surprise</td>\n",
              "      <td>24</td>\n",
              "      <td>/content/drive/MyDrive/audio/Actor_24/03-01-08...</td>\n",
              "    </tr>\n",
              "  </tbody>\n",
              "</table>\n",
              "<p>4240 rows × 4 columns</p>\n",
              "</div>\n",
              "      <button class=\"colab-df-convert\" onclick=\"convertToInteractive('df-b92524fc-5b07-4f8d-9192-0370756d08b5')\"\n",
              "              title=\"Convert this dataframe to an interactive table.\"\n",
              "              style=\"display:none;\">\n",
              "        \n",
              "  <svg xmlns=\"http://www.w3.org/2000/svg\" height=\"24px\"viewBox=\"0 0 24 24\"\n",
              "       width=\"24px\">\n",
              "    <path d=\"M0 0h24v24H0V0z\" fill=\"none\"/>\n",
              "    <path d=\"M18.56 5.44l.94 2.06.94-2.06 2.06-.94-2.06-.94-.94-2.06-.94 2.06-2.06.94zm-11 1L8.5 8.5l.94-2.06 2.06-.94-2.06-.94L8.5 2.5l-.94 2.06-2.06.94zm10 10l.94 2.06.94-2.06 2.06-.94-2.06-.94-.94-2.06-.94 2.06-2.06.94z\"/><path d=\"M17.41 7.96l-1.37-1.37c-.4-.4-.92-.59-1.43-.59-.52 0-1.04.2-1.43.59L10.3 9.45l-7.72 7.72c-.78.78-.78 2.05 0 2.83L4 21.41c.39.39.9.59 1.41.59.51 0 1.02-.2 1.41-.59l7.78-7.78 2.81-2.81c.8-.78.8-2.07 0-2.86zM5.41 20L4 18.59l7.72-7.72 1.47 1.35L5.41 20z\"/>\n",
              "  </svg>\n",
              "      </button>\n",
              "      \n",
              "  <style>\n",
              "    .colab-df-container {\n",
              "      display:flex;\n",
              "      flex-wrap:wrap;\n",
              "      gap: 12px;\n",
              "    }\n",
              "\n",
              "    .colab-df-convert {\n",
              "      background-color: #E8F0FE;\n",
              "      border: none;\n",
              "      border-radius: 50%;\n",
              "      cursor: pointer;\n",
              "      display: none;\n",
              "      fill: #1967D2;\n",
              "      height: 32px;\n",
              "      padding: 0 0 0 0;\n",
              "      width: 32px;\n",
              "    }\n",
              "\n",
              "    .colab-df-convert:hover {\n",
              "      background-color: #E2EBFA;\n",
              "      box-shadow: 0px 1px 2px rgba(60, 64, 67, 0.3), 0px 1px 3px 1px rgba(60, 64, 67, 0.15);\n",
              "      fill: #174EA6;\n",
              "    }\n",
              "\n",
              "    [theme=dark] .colab-df-convert {\n",
              "      background-color: #3B4455;\n",
              "      fill: #D2E3FC;\n",
              "    }\n",
              "\n",
              "    [theme=dark] .colab-df-convert:hover {\n",
              "      background-color: #434B5C;\n",
              "      box-shadow: 0px 1px 3px 1px rgba(0, 0, 0, 0.15);\n",
              "      filter: drop-shadow(0px 1px 2px rgba(0, 0, 0, 0.3));\n",
              "      fill: #FFFFFF;\n",
              "    }\n",
              "  </style>\n",
              "\n",
              "      <script>\n",
              "        const buttonEl =\n",
              "          document.querySelector('#df-b92524fc-5b07-4f8d-9192-0370756d08b5 button.colab-df-convert');\n",
              "        buttonEl.style.display =\n",
              "          google.colab.kernel.accessAllowed ? 'block' : 'none';\n",
              "\n",
              "        async function convertToInteractive(key) {\n",
              "          const element = document.querySelector('#df-b92524fc-5b07-4f8d-9192-0370756d08b5');\n",
              "          const dataTable =\n",
              "            await google.colab.kernel.invokeFunction('convertToInteractive',\n",
              "                                                     [key], {});\n",
              "          if (!dataTable) return;\n",
              "\n",
              "          const docLinkHtml = 'Like what you see? Visit the ' +\n",
              "            '<a target=\"_blank\" href=https://colab.research.google.com/notebooks/data_table.ipynb>data table notebook</a>'\n",
              "            + ' to learn more about interactive tables.';\n",
              "          element.innerHTML = '';\n",
              "          dataTable['output_type'] = 'display_data';\n",
              "          await google.colab.output.renderOutput(dataTable, element);\n",
              "          const docLink = document.createElement('div');\n",
              "          docLink.innerHTML = docLinkHtml;\n",
              "          element.appendChild(docLink);\n",
              "        }\n",
              "      </script>\n",
              "    </div>\n",
              "  </div>\n",
              "  "
            ]
          },
          "metadata": {},
          "execution_count": 55
        }
      ]
    },
    {
      "cell_type": "code",
      "source": [
        "def extract_mfcc(wave_file_name):\n",
        "  y,sr = librosa.load(wave_file_name)\n",
        "  # S = librosa.feature.melspectrogram(y=y, sr=sr, n_mels=128,fmax=8000)\n",
        "  mfcc=librosa.feature.mfcc(y=y,sr=sr,n_mfcc=40)\n",
        "  mean_mfcc = np.mean(mfcc.T,axis=0)\n",
        "  # mean_mfcc=np.hstack((mfcc,emo))\n",
        "  return mean_mfcc"
      ],
      "metadata": {
        "id": "EDSpWFFu3eZh"
      },
      "execution_count": null,
      "outputs": []
    },
    {
      "cell_type": "code",
      "source": [],
      "metadata": {
        "id": "beJKSsqhTtgB"
      },
      "execution_count": null,
      "outputs": []
    },
    {
      "cell_type": "code",
      "source": [
        "y,sr = librosa.load('/content/drive/MyDrive/audio/Actor_01/03-01-03-01-02-02-01.wav')\n",
        "# # S = librosa.feature.melspectrogram(y=y, sr=sr, n_mels=128,fmax=8000)\n",
        "# mfcc=librosa.feature.mfcc(y=y,sr=sr,n_mfcc=40)\n",
        "# # mean_mfcc = np.mean(mfcc,axis=1)\n",
        "# mfcc[0]\n",
        "emo = np.full(shape=(25,1),fill_value=1,dtype=np.int)\n",
        "mfcc=librosa.feature.mfcc(y=y,sr=sr,n_mfcc=25)\n",
        "mean_mfcc=np.hstack((mfcc,emo))\n",
        "mean_mfcc\n"
      ],
      "metadata": {
        "colab": {
          "base_uri": "https://localhost:8080/"
        },
        "id": "ThxHRARkvG2W",
        "outputId": "a6c0f509-8394-4017-8878-0751718dfe99"
      },
      "execution_count": null,
      "outputs": [
        {
          "output_type": "stream",
          "name": "stderr",
          "text": [
            "/usr/local/lib/python3.7/dist-packages/ipykernel_launcher.py:6: DeprecationWarning: `np.int` is a deprecated alias for the builtin `int`. To silence this warning, use `int` by itself. Doing this will not modify any behavior and is safe. When replacing `np.int`, you may wish to use e.g. `np.int64` or `np.int32` to specify the precision. If you wish to review your current use, check the release note link for additional information.\n",
            "Deprecated in NumPy 1.20; for more details and guidance: https://numpy.org/devdocs/release/1.20.0-notes.html#deprecations\n",
            "  \n"
          ]
        },
        {
          "output_type": "execute_result",
          "data": {
            "text/plain": [
              "array([[-8.47577759e+02, -8.48061157e+02, -8.46535583e+02, ...,\n",
              "        -8.52842651e+02, -8.52842651e+02,  1.00000000e+00],\n",
              "       [ 7.41549921e+00,  6.73676395e+00,  8.88323021e+00, ...,\n",
              "         0.00000000e+00,  0.00000000e+00,  1.00000000e+00],\n",
              "       [ 7.32543182e+00,  6.66115856e+00,  8.77499390e+00, ...,\n",
              "         0.00000000e+00,  0.00000000e+00,  1.00000000e+00],\n",
              "       ...,\n",
              "       [ 8.22967052e-01,  8.06548297e-01,  7.52291799e-01, ...,\n",
              "         0.00000000e+00,  0.00000000e+00,  1.00000000e+00],\n",
              "       [ 6.98275626e-01,  6.56508327e-01,  5.82611740e-01, ...,\n",
              "         0.00000000e+00,  0.00000000e+00,  1.00000000e+00],\n",
              "       [ 6.10736787e-01,  5.38181663e-01,  4.59045440e-01, ...,\n",
              "         0.00000000e+00,  0.00000000e+00,  1.00000000e+00]])"
            ]
          },
          "metadata": {},
          "execution_count": 75
        }
      ]
    },
    {
      "cell_type": "code",
      "source": [
        "from IPython.display import Audio\n",
        "y,sr = librosa.load('/content/drive/MyDrive/audio/Actor_01/03-01-06-01-01-01-01.wav')\n",
        "Audio(data=y,rate=sr)"
      ],
      "metadata": {
        "colab": {
          "base_uri": "https://localhost:8080/",
          "height": 76
        },
        "id": "CG6_Lafw1_lD",
        "outputId": "964d5e12-c7e9-435a-c43f-59e08decbb0c"
      },
      "execution_count": null,
      "outputs": [
        {
          "output_type": "execute_result",
          "data": {
            "text/plain": [
              "<IPython.lib.display.Audio object>"
            ],
            "text/html": [
              "\n",
              "                <audio  controls=\"controls\" >\n",
              "                    <source src=\"data:audio/wav;base64,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\" type=\"audio/wav\" />\n",
              "                    Your browser does not support the audio element.\n",
              "                </audio>\n",
              "              "
            ]
          },
          "metadata": {},
          "execution_count": 60
        }
      ]
    },
    {
      "cell_type": "code",
      "execution_count": null,
      "metadata": {
        "id": "R40Hxg7DK6U8"
      },
      "outputs": [],
      "source": [
        "# TRAIN TEST SPLIT DATA\n",
        "train,test = train_test_split(ravdess_df, test_size=0.2, random_state=0,\n",
        "                               stratify=ravdess_df[['emotion','gender','actor']])"
      ]
    },
    {
      "cell_type": "code",
      "source": [
        "X_train = train.iloc[:, 3:]\n",
        "y_train = train.iloc[:,:2].drop(columns=['gender'])\n",
        "print(X_train.shape)\n",
        "print(test)"
      ],
      "metadata": {
        "colab": {
          "base_uri": "https://localhost:8080/"
        },
        "id": "swaO4kdo6pMS",
        "outputId": "354b1560-d204-48cb-e17c-9c1dcaae3782"
      },
      "execution_count": null,
      "outputs": [
        {
          "output_type": "stream",
          "name": "stdout",
          "text": [
            "(3392, 1)\n",
            "      gender  emotion  actor  \\\n",
            "2300  female  neutral      1   \n",
            "1908  female     fear      1   \n",
            "2277  female  neutral      1   \n",
            "1143  female    happy      1   \n",
            "577   female      sad      1   \n",
            "...      ...      ...    ...   \n",
            "1139  female    happy      1   \n",
            "195   female     fear      1   \n",
            "3144  female  neutral      6   \n",
            "1570  female    angry      1   \n",
            "3208    male    happy      7   \n",
            "\n",
            "                                                   path  \n",
            "2300  /content/drive/MyDrive/TESS Toronto emotional ...  \n",
            "1908  /content/drive/MyDrive/TESS Toronto emotional ...  \n",
            "2277  /content/drive/MyDrive/TESS Toronto emotional ...  \n",
            "1143  /content/drive/MyDrive/TESS Toronto emotional ...  \n",
            "577   /content/drive/MyDrive/TESS Toronto emotional ...  \n",
            "...                                                 ...  \n",
            "1139  /content/drive/MyDrive/TESS Toronto emotional ...  \n",
            "195   /content/drive/MyDrive/TESS Toronto emotional ...  \n",
            "3144  /content/drive/MyDrive/audio/Actor_06/03-01-01...  \n",
            "1570  /content/drive/MyDrive/TESS Toronto emotional ...  \n",
            "3208  /content/drive/MyDrive/audio/Actor_07/03-01-03...  \n",
            "\n",
            "[848 rows x 4 columns]\n"
          ]
        }
      ]
    },
    {
      "cell_type": "code",
      "source": [
        "df = pd.DataFrame(columns=['log_spec'])\n",
        "counter=0\n",
        "\n",
        "for index,path in enumerate(train.path):\n",
        "  mfcc = extract_mfcc(path)\n",
        "  df.loc[counter] = [mfcc]\n",
        "  counter += 1\n",
        "  print(counter)\n",
        "print(len(df))\n",
        "# df =pd.read_csv('/content/drive/MyDrive/model/mfcc.csv')\n",
        "# df = df.iloc[: , 1:]\n",
        "# df"
      ],
      "metadata": {
        "colab": {
          "base_uri": "https://localhost:8080/",
          "height": 424
        },
        "id": "6s3pR6i84VVm",
        "outputId": "242fdd3f-f308-4d36-e4d6-68d09a1d4b86"
      },
      "execution_count": null,
      "outputs": [
        {
          "output_type": "execute_result",
          "data": {
            "text/plain": [
              "                                               log_spec\n",
              "0     [-507.20383, 32.65665, -14.149189, -2.398801, ...\n",
              "1     [-424.9115, 72.836365, 13.582559, -14.813837, ...\n",
              "2     [-662.9571, 41.473816, -18.418589, 3.3182235, ...\n",
              "3     [-611.10657, 79.3806, 2.8244593, 16.471415, 10...\n",
              "4     [-540.01166, 51.239983, -22.972181, 10.175825,...\n",
              "...                                                 ...\n",
              "3387  [-502.05188, 43.8599, -2.604773, 1.1265347, -5...\n",
              "3388  [-729.59503, 70.42137, 6.7205696, 23.453606, 4...\n",
              "3389  [-667.15466, 92.27366, 3.1087892, 20.048185, 9...\n",
              "3390  [-347.64536, 54.039684, -15.52315, 13.06215, -...\n",
              "3391  [-295.21622, 30.571106, -14.999253, 29.672844,...\n",
              "\n",
              "[3392 rows x 1 columns]"
            ],
            "text/html": [
              "\n",
              "  <div id=\"df-2c1981e4-cac2-49e5-875e-238892a1fbcd\">\n",
              "    <div class=\"colab-df-container\">\n",
              "      <div>\n",
              "<style scoped>\n",
              "    .dataframe tbody tr th:only-of-type {\n",
              "        vertical-align: middle;\n",
              "    }\n",
              "\n",
              "    .dataframe tbody tr th {\n",
              "        vertical-align: top;\n",
              "    }\n",
              "\n",
              "    .dataframe thead th {\n",
              "        text-align: right;\n",
              "    }\n",
              "</style>\n",
              "<table border=\"1\" class=\"dataframe\">\n",
              "  <thead>\n",
              "    <tr style=\"text-align: right;\">\n",
              "      <th></th>\n",
              "      <th>log_spec</th>\n",
              "    </tr>\n",
              "  </thead>\n",
              "  <tbody>\n",
              "    <tr>\n",
              "      <th>0</th>\n",
              "      <td>[-507.20383, 32.65665, -14.149189, -2.398801, ...</td>\n",
              "    </tr>\n",
              "    <tr>\n",
              "      <th>1</th>\n",
              "      <td>[-424.9115, 72.836365, 13.582559, -14.813837, ...</td>\n",
              "    </tr>\n",
              "    <tr>\n",
              "      <th>2</th>\n",
              "      <td>[-662.9571, 41.473816, -18.418589, 3.3182235, ...</td>\n",
              "    </tr>\n",
              "    <tr>\n",
              "      <th>3</th>\n",
              "      <td>[-611.10657, 79.3806, 2.8244593, 16.471415, 10...</td>\n",
              "    </tr>\n",
              "    <tr>\n",
              "      <th>4</th>\n",
              "      <td>[-540.01166, 51.239983, -22.972181, 10.175825,...</td>\n",
              "    </tr>\n",
              "    <tr>\n",
              "      <th>...</th>\n",
              "      <td>...</td>\n",
              "    </tr>\n",
              "    <tr>\n",
              "      <th>3387</th>\n",
              "      <td>[-502.05188, 43.8599, -2.604773, 1.1265347, -5...</td>\n",
              "    </tr>\n",
              "    <tr>\n",
              "      <th>3388</th>\n",
              "      <td>[-729.59503, 70.42137, 6.7205696, 23.453606, 4...</td>\n",
              "    </tr>\n",
              "    <tr>\n",
              "      <th>3389</th>\n",
              "      <td>[-667.15466, 92.27366, 3.1087892, 20.048185, 9...</td>\n",
              "    </tr>\n",
              "    <tr>\n",
              "      <th>3390</th>\n",
              "      <td>[-347.64536, 54.039684, -15.52315, 13.06215, -...</td>\n",
              "    </tr>\n",
              "    <tr>\n",
              "      <th>3391</th>\n",
              "      <td>[-295.21622, 30.571106, -14.999253, 29.672844,...</td>\n",
              "    </tr>\n",
              "  </tbody>\n",
              "</table>\n",
              "<p>3392 rows × 1 columns</p>\n",
              "</div>\n",
              "      <button class=\"colab-df-convert\" onclick=\"convertToInteractive('df-2c1981e4-cac2-49e5-875e-238892a1fbcd')\"\n",
              "              title=\"Convert this dataframe to an interactive table.\"\n",
              "              style=\"display:none;\">\n",
              "        \n",
              "  <svg xmlns=\"http://www.w3.org/2000/svg\" height=\"24px\"viewBox=\"0 0 24 24\"\n",
              "       width=\"24px\">\n",
              "    <path d=\"M0 0h24v24H0V0z\" fill=\"none\"/>\n",
              "    <path d=\"M18.56 5.44l.94 2.06.94-2.06 2.06-.94-2.06-.94-.94-2.06-.94 2.06-2.06.94zm-11 1L8.5 8.5l.94-2.06 2.06-.94-2.06-.94L8.5 2.5l-.94 2.06-2.06.94zm10 10l.94 2.06.94-2.06 2.06-.94-2.06-.94-.94-2.06-.94 2.06-2.06.94z\"/><path d=\"M17.41 7.96l-1.37-1.37c-.4-.4-.92-.59-1.43-.59-.52 0-1.04.2-1.43.59L10.3 9.45l-7.72 7.72c-.78.78-.78 2.05 0 2.83L4 21.41c.39.39.9.59 1.41.59.51 0 1.02-.2 1.41-.59l7.78-7.78 2.81-2.81c.8-.78.8-2.07 0-2.86zM5.41 20L4 18.59l7.72-7.72 1.47 1.35L5.41 20z\"/>\n",
              "  </svg>\n",
              "      </button>\n",
              "      \n",
              "  <style>\n",
              "    .colab-df-container {\n",
              "      display:flex;\n",
              "      flex-wrap:wrap;\n",
              "      gap: 12px;\n",
              "    }\n",
              "\n",
              "    .colab-df-convert {\n",
              "      background-color: #E8F0FE;\n",
              "      border: none;\n",
              "      border-radius: 50%;\n",
              "      cursor: pointer;\n",
              "      display: none;\n",
              "      fill: #1967D2;\n",
              "      height: 32px;\n",
              "      padding: 0 0 0 0;\n",
              "      width: 32px;\n",
              "    }\n",
              "\n",
              "    .colab-df-convert:hover {\n",
              "      background-color: #E2EBFA;\n",
              "      box-shadow: 0px 1px 2px rgba(60, 64, 67, 0.3), 0px 1px 3px 1px rgba(60, 64, 67, 0.15);\n",
              "      fill: #174EA6;\n",
              "    }\n",
              "\n",
              "    [theme=dark] .colab-df-convert {\n",
              "      background-color: #3B4455;\n",
              "      fill: #D2E3FC;\n",
              "    }\n",
              "\n",
              "    [theme=dark] .colab-df-convert:hover {\n",
              "      background-color: #434B5C;\n",
              "      box-shadow: 0px 1px 3px 1px rgba(0, 0, 0, 0.15);\n",
              "      filter: drop-shadow(0px 1px 2px rgba(0, 0, 0, 0.3));\n",
              "      fill: #FFFFFF;\n",
              "    }\n",
              "  </style>\n",
              "\n",
              "      <script>\n",
              "        const buttonEl =\n",
              "          document.querySelector('#df-2c1981e4-cac2-49e5-875e-238892a1fbcd button.colab-df-convert');\n",
              "        buttonEl.style.display =\n",
              "          google.colab.kernel.accessAllowed ? 'block' : 'none';\n",
              "\n",
              "        async function convertToInteractive(key) {\n",
              "          const element = document.querySelector('#df-2c1981e4-cac2-49e5-875e-238892a1fbcd');\n",
              "          const dataTable =\n",
              "            await google.colab.kernel.invokeFunction('convertToInteractive',\n",
              "                                                     [key], {});\n",
              "          if (!dataTable) return;\n",
              "\n",
              "          const docLinkHtml = 'Like what you see? Visit the ' +\n",
              "            '<a target=\"_blank\" href=https://colab.research.google.com/notebooks/data_table.ipynb>data table notebook</a>'\n",
              "            + ' to learn more about interactive tables.';\n",
              "          element.innerHTML = '';\n",
              "          dataTable['output_type'] = 'display_data';\n",
              "          await google.colab.output.renderOutput(dataTable, element);\n",
              "          const docLink = document.createElement('div');\n",
              "          docLink.innerHTML = docLinkHtml;\n",
              "          element.appendChild(docLink);\n",
              "        }\n",
              "      </script>\n",
              "    </div>\n",
              "  </div>\n",
              "  "
            ]
          },
          "metadata": {},
          "execution_count": 37
        }
      ]
    },
    {
      "cell_type": "code",
      "source": [
        "count=0\n",
        "temp = pd.Series()\n",
        "for row in df['log_spec']:\n",
        "  temp.loc[count] = row\n",
        "  count+=1\n",
        "temp"
      ],
      "metadata": {
        "id": "uHykB8ZpElc_"
      },
      "execution_count": null,
      "outputs": []
    },
    {
      "cell_type": "code",
      "execution_count": null,
      "metadata": {
        "colab": {
          "base_uri": "https://localhost:8080/",
          "height": 424
        },
        "id": "E0Od7yJtK6VG",
        "outputId": "e1652479-c044-4082-b93d-ffbb5b349e2e"
      },
      "outputs": [
        {
          "output_type": "execute_result",
          "data": {
            "text/plain": [
              "       emotion\n",
              "0     surprise\n",
              "1         fear\n",
              "2     surprise\n",
              "3         calm\n",
              "4        happy\n",
              "...        ...\n",
              "3387   disgust\n",
              "3388      calm\n",
              "3389      calm\n",
              "3390      fear\n",
              "3391     happy\n",
              "\n",
              "[3392 rows x 1 columns]"
            ],
            "text/html": [
              "\n",
              "  <div id=\"df-546bb878-5f7d-4b83-bef0-cd5fe8e695b9\">\n",
              "    <div class=\"colab-df-container\">\n",
              "      <div>\n",
              "<style scoped>\n",
              "    .dataframe tbody tr th:only-of-type {\n",
              "        vertical-align: middle;\n",
              "    }\n",
              "\n",
              "    .dataframe tbody tr th {\n",
              "        vertical-align: top;\n",
              "    }\n",
              "\n",
              "    .dataframe thead th {\n",
              "        text-align: right;\n",
              "    }\n",
              "</style>\n",
              "<table border=\"1\" class=\"dataframe\">\n",
              "  <thead>\n",
              "    <tr style=\"text-align: right;\">\n",
              "      <th></th>\n",
              "      <th>emotion</th>\n",
              "    </tr>\n",
              "  </thead>\n",
              "  <tbody>\n",
              "    <tr>\n",
              "      <th>0</th>\n",
              "      <td>surprise</td>\n",
              "    </tr>\n",
              "    <tr>\n",
              "      <th>1</th>\n",
              "      <td>fear</td>\n",
              "    </tr>\n",
              "    <tr>\n",
              "      <th>2</th>\n",
              "      <td>surprise</td>\n",
              "    </tr>\n",
              "    <tr>\n",
              "      <th>3</th>\n",
              "      <td>calm</td>\n",
              "    </tr>\n",
              "    <tr>\n",
              "      <th>4</th>\n",
              "      <td>happy</td>\n",
              "    </tr>\n",
              "    <tr>\n",
              "      <th>...</th>\n",
              "      <td>...</td>\n",
              "    </tr>\n",
              "    <tr>\n",
              "      <th>3387</th>\n",
              "      <td>disgust</td>\n",
              "    </tr>\n",
              "    <tr>\n",
              "      <th>3388</th>\n",
              "      <td>calm</td>\n",
              "    </tr>\n",
              "    <tr>\n",
              "      <th>3389</th>\n",
              "      <td>calm</td>\n",
              "    </tr>\n",
              "    <tr>\n",
              "      <th>3390</th>\n",
              "      <td>fear</td>\n",
              "    </tr>\n",
              "    <tr>\n",
              "      <th>3391</th>\n",
              "      <td>happy</td>\n",
              "    </tr>\n",
              "  </tbody>\n",
              "</table>\n",
              "<p>3392 rows × 1 columns</p>\n",
              "</div>\n",
              "      <button class=\"colab-df-convert\" onclick=\"convertToInteractive('df-546bb878-5f7d-4b83-bef0-cd5fe8e695b9')\"\n",
              "              title=\"Convert this dataframe to an interactive table.\"\n",
              "              style=\"display:none;\">\n",
              "        \n",
              "  <svg xmlns=\"http://www.w3.org/2000/svg\" height=\"24px\"viewBox=\"0 0 24 24\"\n",
              "       width=\"24px\">\n",
              "    <path d=\"M0 0h24v24H0V0z\" fill=\"none\"/>\n",
              "    <path d=\"M18.56 5.44l.94 2.06.94-2.06 2.06-.94-2.06-.94-.94-2.06-.94 2.06-2.06.94zm-11 1L8.5 8.5l.94-2.06 2.06-.94-2.06-.94L8.5 2.5l-.94 2.06-2.06.94zm10 10l.94 2.06.94-2.06 2.06-.94-2.06-.94-.94-2.06-.94 2.06-2.06.94z\"/><path d=\"M17.41 7.96l-1.37-1.37c-.4-.4-.92-.59-1.43-.59-.52 0-1.04.2-1.43.59L10.3 9.45l-7.72 7.72c-.78.78-.78 2.05 0 2.83L4 21.41c.39.39.9.59 1.41.59.51 0 1.02-.2 1.41-.59l7.78-7.78 2.81-2.81c.8-.78.8-2.07 0-2.86zM5.41 20L4 18.59l7.72-7.72 1.47 1.35L5.41 20z\"/>\n",
              "  </svg>\n",
              "      </button>\n",
              "      \n",
              "  <style>\n",
              "    .colab-df-container {\n",
              "      display:flex;\n",
              "      flex-wrap:wrap;\n",
              "      gap: 12px;\n",
              "    }\n",
              "\n",
              "    .colab-df-convert {\n",
              "      background-color: #E8F0FE;\n",
              "      border: none;\n",
              "      border-radius: 50%;\n",
              "      cursor: pointer;\n",
              "      display: none;\n",
              "      fill: #1967D2;\n",
              "      height: 32px;\n",
              "      padding: 0 0 0 0;\n",
              "      width: 32px;\n",
              "    }\n",
              "\n",
              "    .colab-df-convert:hover {\n",
              "      background-color: #E2EBFA;\n",
              "      box-shadow: 0px 1px 2px rgba(60, 64, 67, 0.3), 0px 1px 3px 1px rgba(60, 64, 67, 0.15);\n",
              "      fill: #174EA6;\n",
              "    }\n",
              "\n",
              "    [theme=dark] .colab-df-convert {\n",
              "      background-color: #3B4455;\n",
              "      fill: #D2E3FC;\n",
              "    }\n",
              "\n",
              "    [theme=dark] .colab-df-convert:hover {\n",
              "      background-color: #434B5C;\n",
              "      box-shadow: 0px 1px 3px 1px rgba(0, 0, 0, 0.15);\n",
              "      filter: drop-shadow(0px 1px 2px rgba(0, 0, 0, 0.3));\n",
              "      fill: #FFFFFF;\n",
              "    }\n",
              "  </style>\n",
              "\n",
              "      <script>\n",
              "        const buttonEl =\n",
              "          document.querySelector('#df-546bb878-5f7d-4b83-bef0-cd5fe8e695b9 button.colab-df-convert');\n",
              "        buttonEl.style.display =\n",
              "          google.colab.kernel.accessAllowed ? 'block' : 'none';\n",
              "\n",
              "        async function convertToInteractive(key) {\n",
              "          const element = document.querySelector('#df-546bb878-5f7d-4b83-bef0-cd5fe8e695b9');\n",
              "          const dataTable =\n",
              "            await google.colab.kernel.invokeFunction('convertToInteractive',\n",
              "                                                     [key], {});\n",
              "          if (!dataTable) return;\n",
              "\n",
              "          const docLinkHtml = 'Like what you see? Visit the ' +\n",
              "            '<a target=\"_blank\" href=https://colab.research.google.com/notebooks/data_table.ipynb>data table notebook</a>'\n",
              "            + ' to learn more about interactive tables.';\n",
              "          element.innerHTML = '';\n",
              "          dataTable['output_type'] = 'display_data';\n",
              "          await google.colab.output.renderOutput(dataTable, element);\n",
              "          const docLink = document.createElement('div');\n",
              "          docLink.innerHTML = docLinkHtml;\n",
              "          element.appendChild(docLink);\n",
              "        }\n",
              "      </script>\n",
              "    </div>\n",
              "  </div>\n",
              "  "
            ]
          },
          "metadata": {},
          "execution_count": 60
        }
      ],
      "source": [
        "# EXTRACT EMOTION LABELS FROM TRAIN\n",
        "labels = pd.DataFrame(train.emotion)\n",
        "labels.reset_index(drop=True, inplace=True)\n",
        "labels"
      ]
    },
    {
      "cell_type": "code",
      "execution_count": null,
      "metadata": {
        "colab": {
          "base_uri": "https://localhost:8080/"
        },
        "id": "0cY-_OW0K6VG",
        "outputId": "df2448b4-b95c-4647-bb9b-c394b6f54c7c",
        "scrolled": true
      },
      "outputs": [
        {
          "output_type": "stream",
          "name": "stdout",
          "text": [
            "              0          1          2          3          4         5  \\\n",
            "0    -507.20383  32.656650 -14.149189  -2.398801  -6.611685 -4.475557   \n",
            "1    -424.91150  72.836365  13.582559 -14.813837 -15.483583  6.020358   \n",
            "2    -662.95710  41.473816 -18.418589   3.318224 -12.977219 -7.336224   \n",
            "3    -611.10657  79.380600   2.824459  16.471415  10.420895 -4.252988   \n",
            "4    -540.01166  51.239983 -22.972181  10.175825   1.167942 -8.053654   \n",
            "...         ...        ...        ...        ...        ...       ...   \n",
            "3387 -502.05188  43.859900  -2.604773   1.126535  -5.614835 -0.265754   \n",
            "3388 -729.59503  70.421370   6.720570  23.453606   4.594159  6.021837   \n",
            "3389 -667.15466  92.273660   3.108789  20.048185   9.216145 -0.450933   \n",
            "3390 -347.64536  54.039684 -15.523150  13.062150  -6.169755  3.703157   \n",
            "3391 -295.21622  30.571106 -14.999253  29.672844  -7.821387 -7.727045   \n",
            "\n",
            "              6          7          8         9  ...        31        32  \\\n",
            "0    -11.523510  -7.914782 -11.853230 -4.217081  ...  3.141099 -1.414575   \n",
            "1    -11.732384   5.955402 -17.852468 -5.906166  ...  0.386430 -3.698372   \n",
            "2    -11.320430 -14.533319  -9.974374 -5.557361  ...  1.424337  0.317421   \n",
            "3     -0.332738  -4.867650  -8.821871  1.940849  ... -1.887397 -3.486242   \n",
            "4     -1.710532  -9.832929  -2.802476 -1.464126  ...  3.146587  3.634718   \n",
            "...         ...        ...        ...       ...  ...       ...       ...   \n",
            "3387 -15.036654 -13.864769  -9.901254 -4.028796  ...  1.853130 -1.086178   \n",
            "3388  -2.202099   3.294228   0.536756  6.440284  ...  1.657300 -0.365339   \n",
            "3389 -12.057720  -9.685620   1.276145  2.078562  ... -0.381134 -2.543870   \n",
            "3390  -6.078752 -11.714536 -13.542357  5.625887  ...  6.362086 -2.329728   \n",
            "3391  -8.047218  -9.664738  -4.616383 -2.845304  ...  2.911048 -3.477996   \n",
            "\n",
            "            33        34        35        36        37        38        39  \\\n",
            "0    -0.608415 -2.243408  1.668388  0.557390  0.738123  0.407085  2.972007   \n",
            "1    -2.359355  0.525397  2.094145 -4.072193  0.831913 -4.101292  0.082907   \n",
            "2     3.119349  0.068752  1.490845 -1.150846  1.657690  0.109153  0.849677   \n",
            "3    -1.849411 -3.482877 -0.303797 -3.329178 -2.793863 -4.038559 -2.321982   \n",
            "4     8.796452  6.198578  5.092316  2.126676  3.177321  3.404370  5.235992   \n",
            "...        ...       ...       ...       ...       ...       ...       ...   \n",
            "3387  0.423127 -0.418280  3.166987  0.212238  0.325814 -1.025998 -0.498045   \n",
            "3388  0.584623  0.511120  1.652351 -3.105796 -2.382192 -2.994608 -0.887968   \n",
            "3389 -0.217840 -3.859147 -4.564312 -7.368496 -1.820121 -3.363920 -0.662408   \n",
            "3390 -2.529495 -9.231550  0.290030  1.129973 -1.206243 -4.214062  3.731706   \n",
            "3391  3.098792  1.807947  7.685647  0.705828  1.244122 -4.595193 -2.219147   \n",
            "\n",
            "       emotion  \n",
            "0     surprise  \n",
            "1         fear  \n",
            "2     surprise  \n",
            "3         calm  \n",
            "4        happy  \n",
            "...        ...  \n",
            "3387   disgust  \n",
            "3388      calm  \n",
            "3389      calm  \n",
            "3390      fear  \n",
            "3391     happy  \n",
            "\n",
            "[3392 rows x 41 columns]\n"
          ]
        }
      ],
      "source": [
        "# ADD CORRESPONDING EMOTION LABELS TO DF['LOG_SPEC']\n",
        "# type(df['log_spec'])\n",
        "# mfcc_df = pd.DataFrame(df['log_spec'].values.tolist())\n",
        "# mfcc = pd.concat([mfcc_df,labels], axis=1,ignore_index=True)\n",
        "# mfcc = mfcc.rename(index=str, columns={40: \"emotion\"})\n",
        "# mfcc = mfcc.iloc[:,:109]\n",
        "mfcc = pd.read_csv('/content/drive/MyDrive/mfcc.csv')\n",
        "mfcc = mfcc.iloc[:,1:]\n",
        "print(mfcc)"
      ]
    },
    {
      "cell_type": "code",
      "source": [
        "combined_df = pd.concat([mfcc], ignore_index=True)\n",
        "combined_df = combined_df.fillna(0)\n",
        "combined_df.tail()"
      ],
      "metadata": {
        "colab": {
          "base_uri": "https://localhost:8080/",
          "height": 300
        },
        "id": "aj7nhydQ9i8Y",
        "outputId": "a2ccf357-6afe-4f15-9dcc-9dd44a5103ae"
      },
      "execution_count": null,
      "outputs": [
        {
          "output_type": "execute_result",
          "data": {
            "text/plain": [
              "              0          1          2          3         4         5  \\\n",
              "3387 -502.05188  43.859900  -2.604773   1.126535 -5.614835 -0.265754   \n",
              "3388 -729.59503  70.421370   6.720570  23.453606  4.594159  6.021837   \n",
              "3389 -667.15466  92.273660   3.108789  20.048185  9.216145 -0.450933   \n",
              "3390 -347.64536  54.039684 -15.523150  13.062150 -6.169755  3.703157   \n",
              "3391 -295.21622  30.571106 -14.999253  29.672844 -7.821387 -7.727045   \n",
              "\n",
              "              6          7          8         9  ...        31        32  \\\n",
              "3387 -15.036654 -13.864769  -9.901254 -4.028796  ...  1.853130 -1.086178   \n",
              "3388  -2.202099   3.294228   0.536756  6.440284  ...  1.657300 -0.365339   \n",
              "3389 -12.057720  -9.685620   1.276145  2.078562  ... -0.381134 -2.543870   \n",
              "3390  -6.078752 -11.714536 -13.542357  5.625887  ...  6.362086 -2.329728   \n",
              "3391  -8.047218  -9.664738  -4.616383 -2.845304  ...  2.911048 -3.477996   \n",
              "\n",
              "            33        34        35        36        37        38        39  \\\n",
              "3387  0.423127 -0.418280  3.166987  0.212238  0.325814 -1.025998 -0.498045   \n",
              "3388  0.584623  0.511120  1.652351 -3.105796 -2.382192 -2.994608 -0.887968   \n",
              "3389 -0.217840 -3.859147 -4.564312 -7.368496 -1.820121 -3.363920 -0.662408   \n",
              "3390 -2.529495 -9.231550  0.290030  1.129973 -1.206243 -4.214062  3.731706   \n",
              "3391  3.098792  1.807947  7.685647  0.705828  1.244122 -4.595193 -2.219147   \n",
              "\n",
              "      emotion  \n",
              "3387  disgust  \n",
              "3388     calm  \n",
              "3389     calm  \n",
              "3390     fear  \n",
              "3391    happy  \n",
              "\n",
              "[5 rows x 41 columns]"
            ],
            "text/html": [
              "\n",
              "  <div id=\"df-e10e50db-72be-4e53-9c6d-129f37705a4d\">\n",
              "    <div class=\"colab-df-container\">\n",
              "      <div>\n",
              "<style scoped>\n",
              "    .dataframe tbody tr th:only-of-type {\n",
              "        vertical-align: middle;\n",
              "    }\n",
              "\n",
              "    .dataframe tbody tr th {\n",
              "        vertical-align: top;\n",
              "    }\n",
              "\n",
              "    .dataframe thead th {\n",
              "        text-align: right;\n",
              "    }\n",
              "</style>\n",
              "<table border=\"1\" class=\"dataframe\">\n",
              "  <thead>\n",
              "    <tr style=\"text-align: right;\">\n",
              "      <th></th>\n",
              "      <th>0</th>\n",
              "      <th>1</th>\n",
              "      <th>2</th>\n",
              "      <th>3</th>\n",
              "      <th>4</th>\n",
              "      <th>5</th>\n",
              "      <th>6</th>\n",
              "      <th>7</th>\n",
              "      <th>8</th>\n",
              "      <th>9</th>\n",
              "      <th>...</th>\n",
              "      <th>31</th>\n",
              "      <th>32</th>\n",
              "      <th>33</th>\n",
              "      <th>34</th>\n",
              "      <th>35</th>\n",
              "      <th>36</th>\n",
              "      <th>37</th>\n",
              "      <th>38</th>\n",
              "      <th>39</th>\n",
              "      <th>emotion</th>\n",
              "    </tr>\n",
              "  </thead>\n",
              "  <tbody>\n",
              "    <tr>\n",
              "      <th>3387</th>\n",
              "      <td>-502.05188</td>\n",
              "      <td>43.859900</td>\n",
              "      <td>-2.604773</td>\n",
              "      <td>1.126535</td>\n",
              "      <td>-5.614835</td>\n",
              "      <td>-0.265754</td>\n",
              "      <td>-15.036654</td>\n",
              "      <td>-13.864769</td>\n",
              "      <td>-9.901254</td>\n",
              "      <td>-4.028796</td>\n",
              "      <td>...</td>\n",
              "      <td>1.853130</td>\n",
              "      <td>-1.086178</td>\n",
              "      <td>0.423127</td>\n",
              "      <td>-0.418280</td>\n",
              "      <td>3.166987</td>\n",
              "      <td>0.212238</td>\n",
              "      <td>0.325814</td>\n",
              "      <td>-1.025998</td>\n",
              "      <td>-0.498045</td>\n",
              "      <td>disgust</td>\n",
              "    </tr>\n",
              "    <tr>\n",
              "      <th>3388</th>\n",
              "      <td>-729.59503</td>\n",
              "      <td>70.421370</td>\n",
              "      <td>6.720570</td>\n",
              "      <td>23.453606</td>\n",
              "      <td>4.594159</td>\n",
              "      <td>6.021837</td>\n",
              "      <td>-2.202099</td>\n",
              "      <td>3.294228</td>\n",
              "      <td>0.536756</td>\n",
              "      <td>6.440284</td>\n",
              "      <td>...</td>\n",
              "      <td>1.657300</td>\n",
              "      <td>-0.365339</td>\n",
              "      <td>0.584623</td>\n",
              "      <td>0.511120</td>\n",
              "      <td>1.652351</td>\n",
              "      <td>-3.105796</td>\n",
              "      <td>-2.382192</td>\n",
              "      <td>-2.994608</td>\n",
              "      <td>-0.887968</td>\n",
              "      <td>calm</td>\n",
              "    </tr>\n",
              "    <tr>\n",
              "      <th>3389</th>\n",
              "      <td>-667.15466</td>\n",
              "      <td>92.273660</td>\n",
              "      <td>3.108789</td>\n",
              "      <td>20.048185</td>\n",
              "      <td>9.216145</td>\n",
              "      <td>-0.450933</td>\n",
              "      <td>-12.057720</td>\n",
              "      <td>-9.685620</td>\n",
              "      <td>1.276145</td>\n",
              "      <td>2.078562</td>\n",
              "      <td>...</td>\n",
              "      <td>-0.381134</td>\n",
              "      <td>-2.543870</td>\n",
              "      <td>-0.217840</td>\n",
              "      <td>-3.859147</td>\n",
              "      <td>-4.564312</td>\n",
              "      <td>-7.368496</td>\n",
              "      <td>-1.820121</td>\n",
              "      <td>-3.363920</td>\n",
              "      <td>-0.662408</td>\n",
              "      <td>calm</td>\n",
              "    </tr>\n",
              "    <tr>\n",
              "      <th>3390</th>\n",
              "      <td>-347.64536</td>\n",
              "      <td>54.039684</td>\n",
              "      <td>-15.523150</td>\n",
              "      <td>13.062150</td>\n",
              "      <td>-6.169755</td>\n",
              "      <td>3.703157</td>\n",
              "      <td>-6.078752</td>\n",
              "      <td>-11.714536</td>\n",
              "      <td>-13.542357</td>\n",
              "      <td>5.625887</td>\n",
              "      <td>...</td>\n",
              "      <td>6.362086</td>\n",
              "      <td>-2.329728</td>\n",
              "      <td>-2.529495</td>\n",
              "      <td>-9.231550</td>\n",
              "      <td>0.290030</td>\n",
              "      <td>1.129973</td>\n",
              "      <td>-1.206243</td>\n",
              "      <td>-4.214062</td>\n",
              "      <td>3.731706</td>\n",
              "      <td>fear</td>\n",
              "    </tr>\n",
              "    <tr>\n",
              "      <th>3391</th>\n",
              "      <td>-295.21622</td>\n",
              "      <td>30.571106</td>\n",
              "      <td>-14.999253</td>\n",
              "      <td>29.672844</td>\n",
              "      <td>-7.821387</td>\n",
              "      <td>-7.727045</td>\n",
              "      <td>-8.047218</td>\n",
              "      <td>-9.664738</td>\n",
              "      <td>-4.616383</td>\n",
              "      <td>-2.845304</td>\n",
              "      <td>...</td>\n",
              "      <td>2.911048</td>\n",
              "      <td>-3.477996</td>\n",
              "      <td>3.098792</td>\n",
              "      <td>1.807947</td>\n",
              "      <td>7.685647</td>\n",
              "      <td>0.705828</td>\n",
              "      <td>1.244122</td>\n",
              "      <td>-4.595193</td>\n",
              "      <td>-2.219147</td>\n",
              "      <td>happy</td>\n",
              "    </tr>\n",
              "  </tbody>\n",
              "</table>\n",
              "<p>5 rows × 41 columns</p>\n",
              "</div>\n",
              "      <button class=\"colab-df-convert\" onclick=\"convertToInteractive('df-e10e50db-72be-4e53-9c6d-129f37705a4d')\"\n",
              "              title=\"Convert this dataframe to an interactive table.\"\n",
              "              style=\"display:none;\">\n",
              "        \n",
              "  <svg xmlns=\"http://www.w3.org/2000/svg\" height=\"24px\"viewBox=\"0 0 24 24\"\n",
              "       width=\"24px\">\n",
              "    <path d=\"M0 0h24v24H0V0z\" fill=\"none\"/>\n",
              "    <path d=\"M18.56 5.44l.94 2.06.94-2.06 2.06-.94-2.06-.94-.94-2.06-.94 2.06-2.06.94zm-11 1L8.5 8.5l.94-2.06 2.06-.94-2.06-.94L8.5 2.5l-.94 2.06-2.06.94zm10 10l.94 2.06.94-2.06 2.06-.94-2.06-.94-.94-2.06-.94 2.06-2.06.94z\"/><path d=\"M17.41 7.96l-1.37-1.37c-.4-.4-.92-.59-1.43-.59-.52 0-1.04.2-1.43.59L10.3 9.45l-7.72 7.72c-.78.78-.78 2.05 0 2.83L4 21.41c.39.39.9.59 1.41.59.51 0 1.02-.2 1.41-.59l7.78-7.78 2.81-2.81c.8-.78.8-2.07 0-2.86zM5.41 20L4 18.59l7.72-7.72 1.47 1.35L5.41 20z\"/>\n",
              "  </svg>\n",
              "      </button>\n",
              "      \n",
              "  <style>\n",
              "    .colab-df-container {\n",
              "      display:flex;\n",
              "      flex-wrap:wrap;\n",
              "      gap: 12px;\n",
              "    }\n",
              "\n",
              "    .colab-df-convert {\n",
              "      background-color: #E8F0FE;\n",
              "      border: none;\n",
              "      border-radius: 50%;\n",
              "      cursor: pointer;\n",
              "      display: none;\n",
              "      fill: #1967D2;\n",
              "      height: 32px;\n",
              "      padding: 0 0 0 0;\n",
              "      width: 32px;\n",
              "    }\n",
              "\n",
              "    .colab-df-convert:hover {\n",
              "      background-color: #E2EBFA;\n",
              "      box-shadow: 0px 1px 2px rgba(60, 64, 67, 0.3), 0px 1px 3px 1px rgba(60, 64, 67, 0.15);\n",
              "      fill: #174EA6;\n",
              "    }\n",
              "\n",
              "    [theme=dark] .colab-df-convert {\n",
              "      background-color: #3B4455;\n",
              "      fill: #D2E3FC;\n",
              "    }\n",
              "\n",
              "    [theme=dark] .colab-df-convert:hover {\n",
              "      background-color: #434B5C;\n",
              "      box-shadow: 0px 1px 3px 1px rgba(0, 0, 0, 0.15);\n",
              "      filter: drop-shadow(0px 1px 2px rgba(0, 0, 0, 0.3));\n",
              "      fill: #FFFFFF;\n",
              "    }\n",
              "  </style>\n",
              "\n",
              "      <script>\n",
              "        const buttonEl =\n",
              "          document.querySelector('#df-e10e50db-72be-4e53-9c6d-129f37705a4d button.colab-df-convert');\n",
              "        buttonEl.style.display =\n",
              "          google.colab.kernel.accessAllowed ? 'block' : 'none';\n",
              "\n",
              "        async function convertToInteractive(key) {\n",
              "          const element = document.querySelector('#df-e10e50db-72be-4e53-9c6d-129f37705a4d');\n",
              "          const dataTable =\n",
              "            await google.colab.kernel.invokeFunction('convertToInteractive',\n",
              "                                                     [key], {});\n",
              "          if (!dataTable) return;\n",
              "\n",
              "          const docLinkHtml = 'Like what you see? Visit the ' +\n",
              "            '<a target=\"_blank\" href=https://colab.research.google.com/notebooks/data_table.ipynb>data table notebook</a>'\n",
              "            + ' to learn more about interactive tables.';\n",
              "          element.innerHTML = '';\n",
              "          dataTable['output_type'] = 'display_data';\n",
              "          await google.colab.output.renderOutput(dataTable, element);\n",
              "          const docLink = document.createElement('div');\n",
              "          docLink.innerHTML = docLinkHtml;\n",
              "          element.appendChild(docLink);\n",
              "        }\n",
              "      </script>\n",
              "    </div>\n",
              "  </div>\n",
              "  "
            ]
          },
          "metadata": {},
          "execution_count": 62
        }
      ]
    },
    {
      "cell_type": "code",
      "source": [
        "X_train = combined_df.iloc[:, :-1]\n",
        "y_train = combined_df.iloc[:, -1:]"
      ],
      "metadata": {
        "id": "JxthWs5d9mIS"
      },
      "execution_count": null,
      "outputs": []
    },
    {
      "cell_type": "code",
      "source": [
        "df = pd.DataFrame(columns=['mel_spectrogram'])\n",
        "counter=0\n",
        "\n",
        "for index,path in enumerate(test.path):\n",
        "  mfcc = extract_mfcc(path)\n",
        "  df.loc[counter] = [mfcc]\n",
        "  counter += 1\n",
        "  print(counter)\n",
        "  # print (\"\\033[A                             \\033[A\")\n",
        "print(len(df))\n",
        "df.head()"
      ],
      "metadata": {
        "id": "1kUQvdQP90ls"
      },
      "execution_count": null,
      "outputs": []
    },
    {
      "cell_type": "code",
      "source": [
        "# test = test.loc[test.index.repeat(25)].reset_index(drop=True)\n",
        "test.reset_index(drop=True,inplace=True)\n"
      ],
      "metadata": {
        "id": "51NZEQdG-rgs"
      },
      "execution_count": null,
      "outputs": []
    },
    {
      "cell_type": "code",
      "source": [
        "# df_combined = pd.concat([test,pd.DataFrame(df['mel_spectrogram'].values.tolist())],axis=1)\n",
        "# df_combined = df_combined.fillna(0)\n",
        "df_combined = pd.read_csv('/content/drive/MyDrive/mfcc_test.csv')\n",
        "df_combined = df_combined.iloc[:,1:]"
      ],
      "metadata": {
        "id": "rTPDmYjf-ujT"
      },
      "execution_count": null,
      "outputs": []
    },
    {
      "cell_type": "code",
      "execution_count": null,
      "metadata": {
        "id": "3cO6AsAxK6VL"
      },
      "outputs": [],
      "source": [
        "# DROP PATH COLUMN FOR MODELING\n",
        "df_combined.drop(columns='path',inplace=True)"
      ]
    },
    {
      "cell_type": "code",
      "execution_count": null,
      "metadata": {
        "colab": {
          "base_uri": "https://localhost:8080/",
          "height": 317
        },
        "id": "rnu0ZEUPK6VL",
        "outputId": "3c6eaddf-7cbf-427d-e1ec-9ad7919df012",
        "scrolled": false
      },
      "outputs": [
        {
          "output_type": "stream",
          "name": "stdout",
          "text": [
            "(848, 43)\n"
          ]
        },
        {
          "output_type": "execute_result",
          "data": {
            "text/plain": [
              "   gender  emotion  actor          0          1          2          3  \\\n",
              "0  female  neutral      1 -423.85110  72.622010   5.002045  34.543220   \n",
              "1  female     fear      1 -275.35068  48.786465 -23.029780  23.829979   \n",
              "2  female  neutral      1 -462.33862  79.389380  28.032906  46.177563   \n",
              "3  female    happy      1 -436.39105  64.843220   7.770212  -4.279943   \n",
              "4  female      sad      1 -540.85640  80.595900  23.293245  18.689896   \n",
              "\n",
              "           4          5          6  ...         30         31        32  \\\n",
              "0   2.988348  -6.102084  -7.146608  ... -10.017267   1.003834  0.785221   \n",
              "1   2.007111 -13.883335 -11.679904  ...  -3.491931   3.237022 -0.913629   \n",
              "2  -4.787593   0.363241   2.618909  ...  -6.901717   0.561534  0.330665   \n",
              "3  -9.480633   7.624158 -16.362133  ...  -0.448711   6.618950 -0.563480   \n",
              "4  18.706978  14.204223  -3.318747  ...   7.220472  12.138967  2.937183   \n",
              "\n",
              "          33         34         35         36         37        38         39  \n",
              "0  15.430670  23.043825  32.179350  25.739586  15.907831  3.179427  -1.214063  \n",
              "1   0.011729  -6.144578   1.180668   0.865935  -0.295077 -0.515710   3.326320  \n",
              "2  10.256723  16.561417  29.265001  21.282614  19.126707  5.411518   1.594192  \n",
              "3   3.798247   0.387800   6.184574   0.441807   4.829961  6.215880  11.550493  \n",
              "4   5.546771   6.373443  10.849830  11.667699  12.886155  8.057577   7.176181  \n",
              "\n",
              "[5 rows x 43 columns]"
            ],
            "text/html": [
              "\n",
              "  <div id=\"df-8e0b501e-6dbd-4e05-9891-a65dcf72be1a\">\n",
              "    <div class=\"colab-df-container\">\n",
              "      <div>\n",
              "<style scoped>\n",
              "    .dataframe tbody tr th:only-of-type {\n",
              "        vertical-align: middle;\n",
              "    }\n",
              "\n",
              "    .dataframe tbody tr th {\n",
              "        vertical-align: top;\n",
              "    }\n",
              "\n",
              "    .dataframe thead th {\n",
              "        text-align: right;\n",
              "    }\n",
              "</style>\n",
              "<table border=\"1\" class=\"dataframe\">\n",
              "  <thead>\n",
              "    <tr style=\"text-align: right;\">\n",
              "      <th></th>\n",
              "      <th>gender</th>\n",
              "      <th>emotion</th>\n",
              "      <th>actor</th>\n",
              "      <th>0</th>\n",
              "      <th>1</th>\n",
              "      <th>2</th>\n",
              "      <th>3</th>\n",
              "      <th>4</th>\n",
              "      <th>5</th>\n",
              "      <th>6</th>\n",
              "      <th>...</th>\n",
              "      <th>30</th>\n",
              "      <th>31</th>\n",
              "      <th>32</th>\n",
              "      <th>33</th>\n",
              "      <th>34</th>\n",
              "      <th>35</th>\n",
              "      <th>36</th>\n",
              "      <th>37</th>\n",
              "      <th>38</th>\n",
              "      <th>39</th>\n",
              "    </tr>\n",
              "  </thead>\n",
              "  <tbody>\n",
              "    <tr>\n",
              "      <th>0</th>\n",
              "      <td>female</td>\n",
              "      <td>neutral</td>\n",
              "      <td>1</td>\n",
              "      <td>-423.85110</td>\n",
              "      <td>72.622010</td>\n",
              "      <td>5.002045</td>\n",
              "      <td>34.543220</td>\n",
              "      <td>2.988348</td>\n",
              "      <td>-6.102084</td>\n",
              "      <td>-7.146608</td>\n",
              "      <td>...</td>\n",
              "      <td>-10.017267</td>\n",
              "      <td>1.003834</td>\n",
              "      <td>0.785221</td>\n",
              "      <td>15.430670</td>\n",
              "      <td>23.043825</td>\n",
              "      <td>32.179350</td>\n",
              "      <td>25.739586</td>\n",
              "      <td>15.907831</td>\n",
              "      <td>3.179427</td>\n",
              "      <td>-1.214063</td>\n",
              "    </tr>\n",
              "    <tr>\n",
              "      <th>1</th>\n",
              "      <td>female</td>\n",
              "      <td>fear</td>\n",
              "      <td>1</td>\n",
              "      <td>-275.35068</td>\n",
              "      <td>48.786465</td>\n",
              "      <td>-23.029780</td>\n",
              "      <td>23.829979</td>\n",
              "      <td>2.007111</td>\n",
              "      <td>-13.883335</td>\n",
              "      <td>-11.679904</td>\n",
              "      <td>...</td>\n",
              "      <td>-3.491931</td>\n",
              "      <td>3.237022</td>\n",
              "      <td>-0.913629</td>\n",
              "      <td>0.011729</td>\n",
              "      <td>-6.144578</td>\n",
              "      <td>1.180668</td>\n",
              "      <td>0.865935</td>\n",
              "      <td>-0.295077</td>\n",
              "      <td>-0.515710</td>\n",
              "      <td>3.326320</td>\n",
              "    </tr>\n",
              "    <tr>\n",
              "      <th>2</th>\n",
              "      <td>female</td>\n",
              "      <td>neutral</td>\n",
              "      <td>1</td>\n",
              "      <td>-462.33862</td>\n",
              "      <td>79.389380</td>\n",
              "      <td>28.032906</td>\n",
              "      <td>46.177563</td>\n",
              "      <td>-4.787593</td>\n",
              "      <td>0.363241</td>\n",
              "      <td>2.618909</td>\n",
              "      <td>...</td>\n",
              "      <td>-6.901717</td>\n",
              "      <td>0.561534</td>\n",
              "      <td>0.330665</td>\n",
              "      <td>10.256723</td>\n",
              "      <td>16.561417</td>\n",
              "      <td>29.265001</td>\n",
              "      <td>21.282614</td>\n",
              "      <td>19.126707</td>\n",
              "      <td>5.411518</td>\n",
              "      <td>1.594192</td>\n",
              "    </tr>\n",
              "    <tr>\n",
              "      <th>3</th>\n",
              "      <td>female</td>\n",
              "      <td>happy</td>\n",
              "      <td>1</td>\n",
              "      <td>-436.39105</td>\n",
              "      <td>64.843220</td>\n",
              "      <td>7.770212</td>\n",
              "      <td>-4.279943</td>\n",
              "      <td>-9.480633</td>\n",
              "      <td>7.624158</td>\n",
              "      <td>-16.362133</td>\n",
              "      <td>...</td>\n",
              "      <td>-0.448711</td>\n",
              "      <td>6.618950</td>\n",
              "      <td>-0.563480</td>\n",
              "      <td>3.798247</td>\n",
              "      <td>0.387800</td>\n",
              "      <td>6.184574</td>\n",
              "      <td>0.441807</td>\n",
              "      <td>4.829961</td>\n",
              "      <td>6.215880</td>\n",
              "      <td>11.550493</td>\n",
              "    </tr>\n",
              "    <tr>\n",
              "      <th>4</th>\n",
              "      <td>female</td>\n",
              "      <td>sad</td>\n",
              "      <td>1</td>\n",
              "      <td>-540.85640</td>\n",
              "      <td>80.595900</td>\n",
              "      <td>23.293245</td>\n",
              "      <td>18.689896</td>\n",
              "      <td>18.706978</td>\n",
              "      <td>14.204223</td>\n",
              "      <td>-3.318747</td>\n",
              "      <td>...</td>\n",
              "      <td>7.220472</td>\n",
              "      <td>12.138967</td>\n",
              "      <td>2.937183</td>\n",
              "      <td>5.546771</td>\n",
              "      <td>6.373443</td>\n",
              "      <td>10.849830</td>\n",
              "      <td>11.667699</td>\n",
              "      <td>12.886155</td>\n",
              "      <td>8.057577</td>\n",
              "      <td>7.176181</td>\n",
              "    </tr>\n",
              "  </tbody>\n",
              "</table>\n",
              "<p>5 rows × 43 columns</p>\n",
              "</div>\n",
              "      <button class=\"colab-df-convert\" onclick=\"convertToInteractive('df-8e0b501e-6dbd-4e05-9891-a65dcf72be1a')\"\n",
              "              title=\"Convert this dataframe to an interactive table.\"\n",
              "              style=\"display:none;\">\n",
              "        \n",
              "  <svg xmlns=\"http://www.w3.org/2000/svg\" height=\"24px\"viewBox=\"0 0 24 24\"\n",
              "       width=\"24px\">\n",
              "    <path d=\"M0 0h24v24H0V0z\" fill=\"none\"/>\n",
              "    <path d=\"M18.56 5.44l.94 2.06.94-2.06 2.06-.94-2.06-.94-.94-2.06-.94 2.06-2.06.94zm-11 1L8.5 8.5l.94-2.06 2.06-.94-2.06-.94L8.5 2.5l-.94 2.06-2.06.94zm10 10l.94 2.06.94-2.06 2.06-.94-2.06-.94-.94-2.06-.94 2.06-2.06.94z\"/><path d=\"M17.41 7.96l-1.37-1.37c-.4-.4-.92-.59-1.43-.59-.52 0-1.04.2-1.43.59L10.3 9.45l-7.72 7.72c-.78.78-.78 2.05 0 2.83L4 21.41c.39.39.9.59 1.41.59.51 0 1.02-.2 1.41-.59l7.78-7.78 2.81-2.81c.8-.78.8-2.07 0-2.86zM5.41 20L4 18.59l7.72-7.72 1.47 1.35L5.41 20z\"/>\n",
              "  </svg>\n",
              "      </button>\n",
              "      \n",
              "  <style>\n",
              "    .colab-df-container {\n",
              "      display:flex;\n",
              "      flex-wrap:wrap;\n",
              "      gap: 12px;\n",
              "    }\n",
              "\n",
              "    .colab-df-convert {\n",
              "      background-color: #E8F0FE;\n",
              "      border: none;\n",
              "      border-radius: 50%;\n",
              "      cursor: pointer;\n",
              "      display: none;\n",
              "      fill: #1967D2;\n",
              "      height: 32px;\n",
              "      padding: 0 0 0 0;\n",
              "      width: 32px;\n",
              "    }\n",
              "\n",
              "    .colab-df-convert:hover {\n",
              "      background-color: #E2EBFA;\n",
              "      box-shadow: 0px 1px 2px rgba(60, 64, 67, 0.3), 0px 1px 3px 1px rgba(60, 64, 67, 0.15);\n",
              "      fill: #174EA6;\n",
              "    }\n",
              "\n",
              "    [theme=dark] .colab-df-convert {\n",
              "      background-color: #3B4455;\n",
              "      fill: #D2E3FC;\n",
              "    }\n",
              "\n",
              "    [theme=dark] .colab-df-convert:hover {\n",
              "      background-color: #434B5C;\n",
              "      box-shadow: 0px 1px 3px 1px rgba(0, 0, 0, 0.15);\n",
              "      filter: drop-shadow(0px 1px 2px rgba(0, 0, 0, 0.3));\n",
              "      fill: #FFFFFF;\n",
              "    }\n",
              "  </style>\n",
              "\n",
              "      <script>\n",
              "        const buttonEl =\n",
              "          document.querySelector('#df-8e0b501e-6dbd-4e05-9891-a65dcf72be1a button.colab-df-convert');\n",
              "        buttonEl.style.display =\n",
              "          google.colab.kernel.accessAllowed ? 'block' : 'none';\n",
              "\n",
              "        async function convertToInteractive(key) {\n",
              "          const element = document.querySelector('#df-8e0b501e-6dbd-4e05-9891-a65dcf72be1a');\n",
              "          const dataTable =\n",
              "            await google.colab.kernel.invokeFunction('convertToInteractive',\n",
              "                                                     [key], {});\n",
              "          if (!dataTable) return;\n",
              "\n",
              "          const docLinkHtml = 'Like what you see? Visit the ' +\n",
              "            '<a target=\"_blank\" href=https://colab.research.google.com/notebooks/data_table.ipynb>data table notebook</a>'\n",
              "            + ' to learn more about interactive tables.';\n",
              "          element.innerHTML = '';\n",
              "          dataTable['output_type'] = 'display_data';\n",
              "          await google.colab.output.renderOutput(dataTable, element);\n",
              "          const docLink = document.createElement('div');\n",
              "          docLink.innerHTML = docLinkHtml;\n",
              "          element.appendChild(docLink);\n",
              "        }\n",
              "      </script>\n",
              "    </div>\n",
              "  </div>\n",
              "  "
            ]
          },
          "metadata": {},
          "execution_count": 67
        }
      ],
      "source": [
        "# CHECK TOP 5 ROWS\n",
        "print(df_combined.shape)\n",
        "df_combined.head()"
      ]
    },
    {
      "cell_type": "code",
      "execution_count": null,
      "metadata": {
        "id": "QUxLwSbRK6VL",
        "colab": {
          "base_uri": "https://localhost:8080/"
        },
        "outputId": "2c399c17-24c9-4e5a-c9d2-6a9446c9212f"
      },
      "outputs": [
        {
          "output_type": "stream",
          "name": "stdout",
          "text": [
            "             0          1          2          3          4          5  \\\n",
            "0   -423.85110  72.622010   5.002045  34.543220   2.988348  -6.102084   \n",
            "1   -275.35068  48.786465 -23.029780  23.829979   2.007111 -13.883335   \n",
            "2   -462.33862  79.389380  28.032906  46.177563  -4.787593   0.363241   \n",
            "3   -436.39105  64.843220   7.770212  -4.279943  -9.480633   7.624158   \n",
            "4   -540.85640  80.595900  23.293245  18.689896  18.706978  14.204223   \n",
            "..         ...        ...        ...        ...        ...        ...   \n",
            "843 -445.29880  93.780860  16.292828  -8.900312  -1.940576  -0.654583   \n",
            "844 -430.77396  72.178080  12.635900 -10.016851  -8.728482   3.783648   \n",
            "845 -705.46200  52.509598 -12.874601  11.076167  -1.324863  -7.192864   \n",
            "846 -323.70233  38.732285 -17.726604   8.172358 -30.097532  -2.698441   \n",
            "847 -614.27765  73.949090 -10.266552  16.662582   6.028456  -0.473712   \n",
            "\n",
            "             6          7          8         9  ...         30         31  \\\n",
            "0    -7.146608 -12.150572  -5.767888  3.613931  ... -10.017267   1.003834   \n",
            "1   -11.679904   1.904347 -12.821539  6.149567  ...  -3.491931   3.237022   \n",
            "2     2.618909 -14.960351 -11.693154 -3.581748  ...  -6.901717   0.561534   \n",
            "3   -16.362133   1.362020 -18.282928  0.141305  ...  -0.448711   6.618950   \n",
            "4    -3.318747 -12.754893 -13.986621  0.504316  ...   7.220472  12.138967   \n",
            "..         ...        ...        ...       ...  ...        ...        ...   \n",
            "843 -11.628823   3.303247 -22.970630 -7.952340  ...   0.695478   7.077900   \n",
            "844 -15.051669  -0.823924 -19.694622  7.803307  ...   1.866642   3.313650   \n",
            "845 -12.604720  -7.810998  -7.533328  3.166590  ...   1.426728   8.216819   \n",
            "846  -3.667703 -11.717747 -11.791751  2.871677  ...   5.928524   8.990237   \n",
            "847 -12.144173  -9.069936  -1.970825  2.566823  ...  -1.682036   2.397399   \n",
            "\n",
            "           32         33         34         35         36         37  \\\n",
            "0    0.785221  15.430670  23.043825  32.179350  25.739586  15.907831   \n",
            "1   -0.913629   0.011729  -6.144578   1.180668   0.865935  -0.295077   \n",
            "2    0.330665  10.256723  16.561417  29.265001  21.282614  19.126707   \n",
            "3   -0.563480   3.798247   0.387800   6.184574   0.441807   4.829961   \n",
            "4    2.937183   5.546771   6.373443  10.849830  11.667699  12.886155   \n",
            "..        ...        ...        ...        ...        ...        ...   \n",
            "843  3.069184   5.717990   2.171856   7.155115   1.272574   5.585293   \n",
            "844 -2.905658  -5.283888  -2.948018   2.185151   0.419090   0.678018   \n",
            "845  8.336403  10.635717   6.237020   6.278434   0.692956   2.331112   \n",
            "846  5.383426   8.125984   2.105331   5.151316  -0.362230   5.772607   \n",
            "847 -0.530263   1.831260   0.646614   2.014602   2.580005   6.240959   \n",
            "\n",
            "           38         39  \n",
            "0    3.179427  -1.214063  \n",
            "1   -0.515710   3.326320  \n",
            "2    5.411518   1.594192  \n",
            "3    6.215880  11.550493  \n",
            "4    8.057577   7.176181  \n",
            "..        ...        ...  \n",
            "843  5.987736   7.753859  \n",
            "844 -8.987568   0.482189  \n",
            "845  3.656372   6.509308  \n",
            "846  0.740849   1.041642  \n",
            "847  7.102770   4.678233  \n",
            "\n",
            "[848 rows x 40 columns]\n"
          ]
        }
      ],
      "source": [
        "# SEPARATE DF_COMBINED INTO X_TEST AND Y_TEST\n",
        "X_test = df_combined.iloc[:, 3:]\n",
        "y_test = df_combined.iloc[:,:2].drop(columns=['gender'])\n",
        "# X_test.loc[0] = [-4.1287537e+02,  5.0520481e+01, -8.6483097e+00, -4.7108097e+00,\n",
        "#        -1.2350923e+01,  5.4682279e+00, -1.9826475e+01, -2.2179692e+00,\n",
        "#        -1.3606742e+01, -4.2214799e+00, -9.3492384e+00,  8.0879450e+00,\n",
        "#        -7.9176288e+00,  1.1303248e+00, -3.7942588e+00,  1.8726997e+00,\n",
        "#        -6.2138438e+00, -5.5670347e+00, -1.1563614e+01, -8.4239130e+00,\n",
        "#         6.4517802e-01,  8.0211363e+00,  1.0356618e+01,  2.6925550e+01,\n",
        "#         2.4552359e+01,  2.2129726e+01,  1.5090271e+01,  1.0901266e+01,\n",
        "#         2.5204284e+00,  1.0641685e+01,  9.5021925e+00,  1.2646760e+01,\n",
        "#         5.0759921e+00, -4.0321288e-01,  3.1849222e+00,  2.0790806e+00,\n",
        "#        -2.0313420e+00,  3.7414479e+00, -3.1421704e+00,  6.7317683e-01]\n",
        "print(X_test)"
      ]
    },
    {
      "cell_type": "code",
      "execution_count": null,
      "metadata": {
        "id": "XxAYEIz2K6VM"
      },
      "outputs": [],
      "source": [
        "# NORMALIZE DATA\n",
        "mean = np.mean(X_train, axis=0)\n",
        "std = np.std(X_train, axis=0)\n",
        "X_train = (X_train - mean)/std\n",
        "X_test = (X_test - mean)/std\n",
        "# np.save('/content/drive/MyDrive/mean.npy', mean)\n",
        "# np.save('/content/drive/MyDrive/std.npy', std)\n",
        "# mean = load('/content/drive/MyDrive/mean.npy')\n",
        "# std = load('/content/drive/MyDrive/std.npy')"
      ]
    },
    {
      "cell_type": "code",
      "execution_count": null,
      "metadata": {
        "id": "HtAK713mK6VM"
      },
      "outputs": [],
      "source": [
        "# TURN INTO ARRAYS\n",
        "X_train = np.array(X_train)\n",
        "y_train = np.array(y_train)\n",
        "X_test = np.array(X_test)\n",
        "y_test = np.array(y_test)"
      ]
    },
    {
      "cell_type": "code",
      "execution_count": null,
      "metadata": {
        "colab": {
          "base_uri": "https://localhost:8080/"
        },
        "id": "ibNVUM6sK6VO",
        "outputId": "bad242ff-9397-4544-f1d0-3f7538d2169b"
      },
      "outputs": [
        {
          "output_type": "stream",
          "name": "stdout",
          "text": [
            "[[0. 0. 0. 0. 0. 1. 0. 0.]\n",
            " [0. 0. 0. 1. 0. 0. 0. 0.]\n",
            " [0. 0. 0. 0. 0. 1. 0. 0.]\n",
            " [0. 0. 0. 0. 1. 0. 0. 0.]\n",
            " [0. 0. 0. 0. 0. 0. 1. 0.]\n",
            " [0. 1. 0. 0. 0. 0. 0. 0.]\n",
            " [0. 0. 0. 0. 0. 1. 0. 0.]\n",
            " [0. 0. 0. 0. 1. 0. 0. 0.]\n",
            " [1. 0. 0. 0. 0. 0. 0. 0.]\n",
            " [0. 0. 0. 0. 0. 0. 0. 1.]]\n"
          ]
        },
        {
          "output_type": "stream",
          "name": "stderr",
          "text": [
            "/usr/local/lib/python3.7/dist-packages/sklearn/preprocessing/_label.py:115: DataConversionWarning: A column-vector y was passed when a 1d array was expected. Please change the shape of y to (n_samples, ), for example using ravel().\n",
            "  y = column_or_1d(y, warn=True)\n"
          ]
        }
      ],
      "source": [
        "# ONE HOT ENCODE EMOTION LABELS\n",
        "lb = LabelEncoder()\n",
        "y_train = to_categorical(lb.fit_transform(y_train))\n",
        "y_test = to_categorical(lb.fit_transform(y_test))\n",
        "print(y_test[0:10])"
      ]
    },
    {
      "cell_type": "code",
      "source": [
        "print(lb.classes_)"
      ],
      "metadata": {
        "colab": {
          "base_uri": "https://localhost:8080/"
        },
        "id": "7zmym7vD_0QM",
        "outputId": "1e27cc49-4024-45cb-993c-2fa1077ee0d1"
      },
      "execution_count": null,
      "outputs": [
        {
          "output_type": "stream",
          "name": "stdout",
          "text": [
            "['angry' 'calm' 'disgust' 'fear' 'happy' 'neutral' 'sad' 'surprise']\n"
          ]
        }
      ]
    },
    {
      "cell_type": "code",
      "execution_count": null,
      "metadata": {
        "colab": {
          "base_uri": "https://localhost:8080/"
        },
        "id": "M0Fkpfm1K6VO",
        "outputId": "3d6f6bbf-cc0b-40c7-cfd6-5395edf3daf1",
        "scrolled": true
      },
      "outputs": [
        {
          "output_type": "execute_result",
          "data": {
            "text/plain": [
              "(848, 40, 1)"
            ]
          },
          "metadata": {},
          "execution_count": 73
        }
      ],
      "source": [
        "# RESHAPE TO ADD 3D TENSOR FOR 1D CNN INPUT\n",
        "X_train = X_train[:,:,np.newaxis]\n",
        "X_test = X_test[:,:,np.newaxis]\n",
        "X_test.shape"
      ]
    },
    {
      "cell_type": "code",
      "source": [
        "X_test"
      ],
      "metadata": {
        "id": "BgSEvxnVFMUy",
        "colab": {
          "base_uri": "https://localhost:8080/"
        },
        "outputId": "18207a28-77b2-46c2-80d1-c600310bc553"
      },
      "execution_count": null,
      "outputs": [
        {
          "output_type": "execute_result",
          "data": {
            "text/plain": [
              "array([[[ 3.89391129e-01],\n",
              "        [ 7.03459343e-01],\n",
              "        [ 3.10691599e-01],\n",
              "        ...,\n",
              "        [ 1.28259507e+00],\n",
              "        [ 8.59477184e-02],\n",
              "        [-1.02791815e+00]],\n",
              "\n",
              "       [[ 1.66008856e+00],\n",
              "        [-4.41044435e-01],\n",
              "        [-1.47489464e+00],\n",
              "        ...,\n",
              "        [-7.65467492e-01],\n",
              "        [-4.79448835e-01],\n",
              "        [-1.38415617e-01]],\n",
              "\n",
              "       [[ 6.00587744e-02],\n",
              "        [ 1.02840599e+00],\n",
              "        [ 1.77772375e+00],\n",
              "        ...,\n",
              "        [ 1.68946398e+00],\n",
              "        [ 4.27482122e-01],\n",
              "        [-4.77755440e-01]],\n",
              "\n",
              "       ...,\n",
              "\n",
              "       [[-2.02031417e+00],\n",
              "        [-2.62271942e-01],\n",
              "        [-8.28024597e-01],\n",
              "        ...,\n",
              "        [-4.33514776e-01],\n",
              "        [ 1.58925612e-01],\n",
              "        [ 4.85160818e-01]],\n",
              "\n",
              "       [[ 1.24635022e+00],\n",
              "        [-9.23812795e-01],\n",
              "        [-1.13709009e+00],\n",
              "        ...,\n",
              "        [ 1.49337760e-03],\n",
              "        [-2.87181539e-01],\n",
              "        [-5.86005022e-01]],\n",
              "\n",
              "       [[-1.24006237e+00],\n",
              "        [ 7.67181321e-01],\n",
              "        [-6.61895692e-01],\n",
              "        ...,\n",
              "        [ 6.06934660e-02],\n",
              "        [ 6.86262347e-01],\n",
              "        [ 1.26436412e-01]]])"
            ]
          },
          "metadata": {},
          "execution_count": 74
        }
      ]
    },
    {
      "cell_type": "code",
      "source": [
        "from numpy import load,save\n",
        "# type(X_train)\n",
        "save('/content/drive/MyDrive/X_train.npy', X_train)\n",
        "save('/content/drive/MyDrive/Y_train.npy', y_train)\n",
        "save('/content/drive/MyDrive/X_test.npy', X_test)\n",
        "save('/content/drive/MyDrive/Y_test.npy', y_test)\n",
        "# X_train = load('/content/drive/MyDrive/X_train.npy')\n",
        "# y_train = load('/content/drive/MyDrive/Y_train.npy')\n",
        "# X_test = load('/content/drive/MyDrive/X_test.npy')\n",
        "# y_test = load('/content/drive/MyDrive/Y_test.npy')"
      ],
      "metadata": {
        "id": "Z7xmpwBIIOWh"
      },
      "execution_count": null,
      "outputs": []
    },
    {
      "cell_type": "code",
      "source": [
        "model = Sequential()\n",
        "model.add(LSTM(128,return_sequences=False,input_shape=(X_train.shape[1],1)))\n",
        "model.add(Dense(64))\n",
        "model.add(Dropout(0.4))\n",
        "model.add(Activation('relu'))\n",
        "model.add(Dense(32))\n",
        "model.add(Dropout(0.4))\n",
        "model.add(Activation('relu'))\n",
        "model.add(Dense(8))\n",
        "model.add(Activation('softmax'))\n",
        "model.summary()\n"
      ],
      "metadata": {
        "colab": {
          "base_uri": "https://localhost:8080/"
        },
        "id": "DFD2Mm6DFPHX",
        "outputId": "2f577197-a581-4ee6-fcdd-e66c1d7f29c4"
      },
      "execution_count": null,
      "outputs": [
        {
          "output_type": "stream",
          "name": "stdout",
          "text": [
            "Model: \"sequential_4\"\n",
            "_________________________________________________________________\n",
            " Layer (type)                Output Shape              Param #   \n",
            "=================================================================\n",
            " lstm (LSTM)                 (None, 128)               66560     \n",
            "                                                                 \n",
            " dense_12 (Dense)            (None, 64)                8256      \n",
            "                                                                 \n",
            " dropout_16 (Dropout)        (None, 64)                0         \n",
            "                                                                 \n",
            " activation (Activation)     (None, 64)                0         \n",
            "                                                                 \n",
            " dense_13 (Dense)            (None, 32)                2080      \n",
            "                                                                 \n",
            " dropout_17 (Dropout)        (None, 32)                0         \n",
            "                                                                 \n",
            " activation_1 (Activation)   (None, 32)                0         \n",
            "                                                                 \n",
            " dense_14 (Dense)            (None, 8)                 264       \n",
            "                                                                 \n",
            " activation_2 (Activation)   (None, 8)                 0         \n",
            "                                                                 \n",
            "=================================================================\n",
            "Total params: 77,160\n",
            "Trainable params: 77,160\n",
            "Non-trainable params: 0\n",
            "_________________________________________________________________\n"
          ]
        }
      ]
    },
    {
      "cell_type": "code",
      "execution_count": null,
      "metadata": {
        "colab": {
          "base_uri": "https://localhost:8080/",
          "height": 1000
        },
        "id": "oaSXFq_CK6VQ",
        "outputId": "d3e18626-57a3-4e39-d5a5-307fad7edf75",
        "scrolled": true
      },
      "outputs": [
        {
          "output_type": "stream",
          "name": "stdout",
          "text": [
            "Epoch 1/133\n",
            "896/900 [============================>.] - ETA: 0s - loss: 2.0491 - accuracy: 0.1506\n",
            "Epoch 1: val_loss improved from inf to 2.05860, saving model to face_detector.h15\n"
          ]
        },
        {
          "output_type": "stream",
          "name": "stderr",
          "text": [
            "WARNING:absl:Found untraced functions such as lstm_cell_layer_call_fn, lstm_cell_layer_call_and_return_conditional_losses while saving (showing 2 of 2). These functions will not be directly callable after loading.\n"
          ]
        },
        {
          "output_type": "stream",
          "name": "stdout",
          "text": [
            "\b\b\b\b\b\b\b\b\b\b\b\b\b\b\b\b\b\b\b\b\b\b\b\b\b\b\b\b\b\b\b\b\b\b\b\b\b\b\b\b\b\b\b\b\b\b\b\b\b\b\b\b\b\b\b\b\b\b\b\b\b\b\b\b\b\b\b\b\b\b\b\b\b\b\b\b\b\b\b\b\b\b\b\b\r900/900 [==============================] - 11s 11ms/step - loss: 2.0490 - accuracy: 0.1502 - val_loss: 2.0586 - val_accuracy: 0.1467\n",
            "Epoch 2/133\n",
            "896/900 [============================>.] - ETA: 0s - loss: 2.0445 - accuracy: 0.1509\n",
            "Epoch 2: val_loss improved from 2.05860 to 2.05478, saving model to face_detector.h15\n"
          ]
        },
        {
          "output_type": "stream",
          "name": "stderr",
          "text": [
            "WARNING:absl:Found untraced functions such as lstm_cell_layer_call_fn, lstm_cell_layer_call_and_return_conditional_losses while saving (showing 2 of 2). These functions will not be directly callable after loading.\n"
          ]
        },
        {
          "output_type": "stream",
          "name": "stdout",
          "text": [
            "\b\b\b\b\b\b\b\b\b\b\b\b\b\b\b\b\b\b\b\b\b\b\b\b\b\b\b\b\b\b\b\b\b\b\b\b\b\b\b\b\b\b\b\b\b\b\b\b\b\b\b\b\b\b\b\b\b\b\b\b\b\b\b\b\b\b\b\b\b\b\b\b\b\b\b\b\b\b\b\b\b\b\b\b\r900/900 [==============================] - 9s 10ms/step - loss: 2.0446 - accuracy: 0.1509 - val_loss: 2.0548 - val_accuracy: 0.1513\n",
            "Epoch 3/133\n",
            "898/900 [============================>.] - ETA: 0s - loss: 2.0433 - accuracy: 0.1551\n",
            "Epoch 3: val_loss did not improve from 2.05478\n",
            "900/900 [==============================] - 8s 9ms/step - loss: 2.0433 - accuracy: 0.1551 - val_loss: 2.0578 - val_accuracy: 0.1514\n",
            "Epoch 4/133\n",
            "898/900 [============================>.] - ETA: 0s - loss: 2.0418 - accuracy: 0.1563\n",
            "Epoch 4: val_loss improved from 2.05478 to 2.05401, saving model to face_detector.h15\n"
          ]
        },
        {
          "output_type": "stream",
          "name": "stderr",
          "text": [
            "WARNING:absl:Found untraced functions such as lstm_cell_layer_call_fn, lstm_cell_layer_call_and_return_conditional_losses while saving (showing 2 of 2). These functions will not be directly callable after loading.\n"
          ]
        },
        {
          "output_type": "stream",
          "name": "stdout",
          "text": [
            "\b\b\b\b\b\b\b\b\b\b\b\b\b\b\b\b\b\b\b\b\b\b\b\b\b\b\b\b\b\b\b\b\b\b\b\b\b\b\b\b\b\b\b\b\b\b\b\b\b\b\b\b\b\b\b\b\b\b\b\b\b\b\b\b\b\b\b\b\b\b\b\b\b\b\b\b\b\b\b\b\b\b\b\b\r900/900 [==============================] - 9s 10ms/step - loss: 2.0417 - accuracy: 0.1566 - val_loss: 2.0540 - val_accuracy: 0.1483\n",
            "Epoch 5/133\n",
            "894/900 [============================>.] - ETA: 0s - loss: 2.0389 - accuracy: 0.1591\n",
            "Epoch 5: val_loss improved from 2.05401 to 2.05153, saving model to face_detector.h15\n"
          ]
        },
        {
          "output_type": "stream",
          "name": "stderr",
          "text": [
            "WARNING:absl:Found untraced functions such as lstm_cell_layer_call_fn, lstm_cell_layer_call_and_return_conditional_losses while saving (showing 2 of 2). These functions will not be directly callable after loading.\n"
          ]
        },
        {
          "output_type": "stream",
          "name": "stdout",
          "text": [
            "\b\b\b\b\b\b\b\b\b\b\b\b\b\b\b\b\b\b\b\b\b\b\b\b\b\b\b\b\b\b\b\b\b\b\b\b\b\b\b\b\b\b\b\b\b\b\b\b\b\b\b\b\b\b\b\b\b\b\b\b\b\b\b\b\b\b\b\b\b\b\b\b\b\b\b\b\b\b\b\b\b\b\b\b\r900/900 [==============================] - 9s 10ms/step - loss: 2.0390 - accuracy: 0.1591 - val_loss: 2.0515 - val_accuracy: 0.1585\n",
            "Epoch 6/133\n",
            "894/900 [============================>.] - ETA: 0s - loss: 2.0367 - accuracy: 0.1628\n",
            "Epoch 6: val_loss improved from 2.05153 to 2.04878, saving model to face_detector.h15\n"
          ]
        },
        {
          "output_type": "stream",
          "name": "stderr",
          "text": [
            "WARNING:absl:Found untraced functions such as lstm_cell_layer_call_fn, lstm_cell_layer_call_and_return_conditional_losses while saving (showing 2 of 2). These functions will not be directly callable after loading.\n"
          ]
        },
        {
          "output_type": "stream",
          "name": "stdout",
          "text": [
            "\b\b\b\b\b\b\b\b\b\b\b\b\b\b\b\b\b\b\b\b\b\b\b\b\b\b\b\b\b\b\b\b\b\b\b\b\b\b\b\b\b\b\b\b\b\b\b\b\b\b\b\b\b\b\b\b\b\b\b\b\b\b\b\b\b\b\b\b\b\b\b\b\b\b\b\b\b\b\b\b\b\b\b\b\r900/900 [==============================] - 9s 10ms/step - loss: 2.0364 - accuracy: 0.1633 - val_loss: 2.0488 - val_accuracy: 0.1583\n",
            "Epoch 7/133\n",
            "896/900 [============================>.] - ETA: 0s - loss: 2.0355 - accuracy: 0.1642\n",
            "Epoch 7: val_loss improved from 2.04878 to 2.04159, saving model to face_detector.h15\n"
          ]
        },
        {
          "output_type": "stream",
          "name": "stderr",
          "text": [
            "WARNING:absl:Found untraced functions such as lstm_cell_layer_call_fn, lstm_cell_layer_call_and_return_conditional_losses while saving (showing 2 of 2). These functions will not be directly callable after loading.\n"
          ]
        },
        {
          "output_type": "stream",
          "name": "stdout",
          "text": [
            "\b\b\b\b\b\b\b\b\b\b\b\b\b\b\b\b\b\b\b\b\b\b\b\b\b\b\b\b\b\b\b\b\b\b\b\b\b\b\b\b\b\b\b\b\b\b\b\b\b\b\b\b\b\b\b\b\b\b\b\b\b\b\b\b\b\b\b\b\b\b\b\b\b\b\b\b\b\b\b\b\b\b\b\b\r900/900 [==============================] - 9s 10ms/step - loss: 2.0356 - accuracy: 0.1640 - val_loss: 2.0416 - val_accuracy: 0.1665\n",
            "Epoch 8/133\n",
            "898/900 [============================>.] - ETA: 0s - loss: 2.0293 - accuracy: 0.1678\n",
            "Epoch 8: val_loss did not improve from 2.04159\n",
            "900/900 [==============================] - 8s 9ms/step - loss: 2.0294 - accuracy: 0.1678 - val_loss: 2.0480 - val_accuracy: 0.1564\n",
            "Epoch 9/133\n",
            "897/900 [============================>.] - ETA: 0s - loss: 2.0240 - accuracy: 0.1717\n",
            "Epoch 9: val_loss improved from 2.04159 to 2.04064, saving model to face_detector.h15\n"
          ]
        },
        {
          "output_type": "stream",
          "name": "stderr",
          "text": [
            "WARNING:absl:Found untraced functions such as lstm_cell_layer_call_fn, lstm_cell_layer_call_and_return_conditional_losses while saving (showing 2 of 2). These functions will not be directly callable after loading.\n"
          ]
        },
        {
          "output_type": "stream",
          "name": "stdout",
          "text": [
            "\b\b\b\b\b\b\b\b\b\b\b\b\b\b\b\b\b\b\b\b\b\b\b\b\b\b\b\b\b\b\b\b\b\b\b\b\b\b\b\b\b\b\b\b\b\b\b\b\b\b\b\b\b\b\b\b\b\b\b\b\b\b\b\b\b\b\b\b\b\b\b\b\b\b\b\b\b\b\b\b\b\b\b\b\r900/900 [==============================] - 10s 11ms/step - loss: 2.0239 - accuracy: 0.1720 - val_loss: 2.0406 - val_accuracy: 0.1697\n",
            "Epoch 10/133\n",
            "898/900 [============================>.] - ETA: 0s - loss: 2.0200 - accuracy: 0.1759\n",
            "Epoch 10: val_loss improved from 2.04064 to 2.03183, saving model to face_detector.h15\n"
          ]
        },
        {
          "output_type": "stream",
          "name": "stderr",
          "text": [
            "WARNING:absl:Found untraced functions such as lstm_cell_layer_call_fn, lstm_cell_layer_call_and_return_conditional_losses while saving (showing 2 of 2). These functions will not be directly callable after loading.\n"
          ]
        },
        {
          "output_type": "stream",
          "name": "stdout",
          "text": [
            "\b\b\b\b\b\b\b\b\b\b\b\b\b\b\b\b\b\b\b\b\b\b\b\b\b\b\b\b\b\b\b\b\b\b\b\b\b\b\b\b\b\b\b\b\b\b\b\b\b\b\b\b\b\b\b\b\b\b\b\b\b\b\b\b\b\b\b\b\b\b\b\b\b\b\b\b\b\b\b\b\b\b\b\b\r900/900 [==============================] - 9s 10ms/step - loss: 2.0200 - accuracy: 0.1760 - val_loss: 2.0318 - val_accuracy: 0.1760\n",
            "Epoch 11/133\n",
            "900/900 [==============================] - ETA: 0s - loss: 2.0192 - accuracy: 0.1770\n",
            "Epoch 11: val_loss did not improve from 2.03183\n",
            "900/900 [==============================] - 8s 9ms/step - loss: 2.0192 - accuracy: 0.1770 - val_loss: 2.0440 - val_accuracy: 0.1597\n",
            "Epoch 12/133\n",
            "897/900 [============================>.] - ETA: 0s - loss: 2.0174 - accuracy: 0.1797\n",
            "Epoch 12: val_loss did not improve from 2.03183\n",
            "900/900 [==============================] - 8s 9ms/step - loss: 2.0175 - accuracy: 0.1798 - val_loss: 2.0346 - val_accuracy: 0.1744\n",
            "Epoch 13/133\n",
            "898/900 [============================>.] - ETA: 0s - loss: 2.0132 - accuracy: 0.1833\n",
            "Epoch 13: val_loss improved from 2.03183 to 2.02766, saving model to face_detector.h15\n"
          ]
        },
        {
          "output_type": "stream",
          "name": "stderr",
          "text": [
            "WARNING:absl:Found untraced functions such as lstm_cell_layer_call_fn, lstm_cell_layer_call_and_return_conditional_losses while saving (showing 2 of 2). These functions will not be directly callable after loading.\n"
          ]
        },
        {
          "output_type": "stream",
          "name": "stdout",
          "text": [
            "\b\b\b\b\b\b\b\b\b\b\b\b\b\b\b\b\b\b\b\b\b\b\b\b\b\b\b\b\b\b\b\b\b\b\b\b\b\b\b\b\b\b\b\b\b\b\b\b\b\b\b\b\b\b\b\b\b\b\b\b\b\b\b\b\b\b\b\b\b\b\b\b\b\b\b\b\b\b\b\b\b\b\b\b\r900/900 [==============================] - 9s 11ms/step - loss: 2.0131 - accuracy: 0.1832 - val_loss: 2.0277 - val_accuracy: 0.1765\n",
            "Epoch 14/133\n",
            "897/900 [============================>.] - ETA: 0s - loss: 2.0102 - accuracy: 0.1821\n",
            "Epoch 14: val_loss improved from 2.02766 to 2.02697, saving model to face_detector.h15\n"
          ]
        },
        {
          "output_type": "stream",
          "name": "stderr",
          "text": [
            "WARNING:absl:Found untraced functions such as lstm_cell_layer_call_fn, lstm_cell_layer_call_and_return_conditional_losses while saving (showing 2 of 2). These functions will not be directly callable after loading.\n"
          ]
        },
        {
          "output_type": "stream",
          "name": "stdout",
          "text": [
            "\b\b\b\b\b\b\b\b\b\b\b\b\b\b\b\b\b\b\b\b\b\b\b\b\b\b\b\b\b\b\b\b\b\b\b\b\b\b\b\b\b\b\b\b\b\b\b\b\b\b\b\b\b\b\b\b\b\b\b\b\b\b\b\b\b\b\b\b\b\b\b\b\b\b\b\b\b\b\b\b\b\b\b\b\r900/900 [==============================] - 10s 11ms/step - loss: 2.0102 - accuracy: 0.1822 - val_loss: 2.0270 - val_accuracy: 0.1768\n",
            "Epoch 15/133\n",
            "895/900 [============================>.] - ETA: 0s - loss: 2.0079 - accuracy: 0.1825\n",
            "Epoch 15: val_loss improved from 2.02697 to 2.01884, saving model to face_detector.h15\n"
          ]
        },
        {
          "output_type": "stream",
          "name": "stderr",
          "text": [
            "WARNING:absl:Found untraced functions such as lstm_cell_layer_call_fn, lstm_cell_layer_call_and_return_conditional_losses while saving (showing 2 of 2). These functions will not be directly callable after loading.\n"
          ]
        },
        {
          "output_type": "stream",
          "name": "stdout",
          "text": [
            "\b\b\b\b\b\b\b\b\b\b\b\b\b\b\b\b\b\b\b\b\b\b\b\b\b\b\b\b\b\b\b\b\b\b\b\b\b\b\b\b\b\b\b\b\b\b\b\b\b\b\b\b\b\b\b\b\b\b\b\b\b\b\b\b\b\b\b\b\b\b\b\b\b\b\b\b\b\b\b\b\b\b\b\b\r900/900 [==============================] - 10s 11ms/step - loss: 2.0080 - accuracy: 0.1827 - val_loss: 2.0188 - val_accuracy: 0.1803\n",
            "Epoch 16/133\n",
            "897/900 [============================>.] - ETA: 0s - loss: 2.0018 - accuracy: 0.1872\n",
            "Epoch 16: val_loss did not improve from 2.01884\n",
            "900/900 [==============================] - 8s 9ms/step - loss: 2.0018 - accuracy: 0.1872 - val_loss: 2.0194 - val_accuracy: 0.1803\n",
            "Epoch 17/133\n",
            "898/900 [============================>.] - ETA: 0s - loss: 1.9951 - accuracy: 0.1899\n",
            "Epoch 17: val_loss did not improve from 2.01884\n",
            "900/900 [==============================] - 8s 9ms/step - loss: 1.9950 - accuracy: 0.1900 - val_loss: 2.0266 - val_accuracy: 0.1779\n",
            "Epoch 18/133\n",
            "895/900 [============================>.] - ETA: 0s - loss: 1.9909 - accuracy: 0.1942\n",
            "Epoch 18: val_loss improved from 2.01884 to 2.01152, saving model to face_detector.h15\n"
          ]
        },
        {
          "output_type": "stream",
          "name": "stderr",
          "text": [
            "WARNING:absl:Found untraced functions such as lstm_cell_layer_call_fn, lstm_cell_layer_call_and_return_conditional_losses while saving (showing 2 of 2). These functions will not be directly callable after loading.\n"
          ]
        },
        {
          "output_type": "stream",
          "name": "stdout",
          "text": [
            "\b\b\b\b\b\b\b\b\b\b\b\b\b\b\b\b\b\b\b\b\b\b\b\b\b\b\b\b\b\b\b\b\b\b\b\b\b\b\b\b\b\b\b\b\b\b\b\b\b\b\b\b\b\b\b\b\b\b\b\b\b\b\b\b\b\b\b\b\b\b\b\b\b\b\b\b\b\b\b\b\b\b\b\b\r900/900 [==============================] - 9s 10ms/step - loss: 1.9907 - accuracy: 0.1944 - val_loss: 2.0115 - val_accuracy: 0.1781\n",
            "Epoch 19/133\n",
            "895/900 [============================>.] - ETA: 0s - loss: 1.9852 - accuracy: 0.1954\n",
            "Epoch 19: val_loss did not improve from 2.01152\n",
            "900/900 [==============================] - 8s 8ms/step - loss: 1.9852 - accuracy: 0.1952 - val_loss: 2.0136 - val_accuracy: 0.1808\n",
            "Epoch 20/133\n",
            "895/900 [============================>.] - ETA: 0s - loss: 1.9834 - accuracy: 0.1984\n",
            "Epoch 20: val_loss improved from 2.01152 to 2.00255, saving model to face_detector.h15\n"
          ]
        },
        {
          "output_type": "stream",
          "name": "stderr",
          "text": [
            "WARNING:absl:Found untraced functions such as lstm_cell_layer_call_fn, lstm_cell_layer_call_and_return_conditional_losses while saving (showing 2 of 2). These functions will not be directly callable after loading.\n"
          ]
        },
        {
          "output_type": "stream",
          "name": "stdout",
          "text": [
            "\b\b\b\b\b\b\b\b\b\b\b\b\b\b\b\b\b\b\b\b\b\b\b\b\b\b\b\b\b\b\b\b\b\b\b\b\b\b\b\b\b\b\b\b\b\b\b\b\b\b\b\b\b\b\b\b\b\b\b\b\b\b\b\b\b\b\b\b\b\b\b\b\b\b\b\b\b\b\b\b\b\b\b\b\r900/900 [==============================] - 9s 10ms/step - loss: 1.9836 - accuracy: 0.1986 - val_loss: 2.0025 - val_accuracy: 0.1914\n",
            "Epoch 21/133\n",
            "896/900 [============================>.] - ETA: 0s - loss: 1.9815 - accuracy: 0.1978\n",
            "Epoch 21: val_loss improved from 2.00255 to 2.00068, saving model to face_detector.h15\n"
          ]
        },
        {
          "output_type": "stream",
          "name": "stderr",
          "text": [
            "WARNING:absl:Found untraced functions such as lstm_cell_layer_call_fn, lstm_cell_layer_call_and_return_conditional_losses while saving (showing 2 of 2). These functions will not be directly callable after loading.\n"
          ]
        },
        {
          "output_type": "stream",
          "name": "stdout",
          "text": [
            "\b\b\b\b\b\b\b\b\b\b\b\b\b\b\b\b\b\b\b\b\b\b\b\b\b\b\b\b\b\b\b\b\b\b\b\b\b\b\b\b\b\b\b\b\b\b\b\b\b\b\b\b\b\b\b\b\b\b\b\b\b\b\b\b\b\b\b\b\b\b\b\b\b\b\b\b\b\b\b\b\b\b\b\b\r900/900 [==============================] - 9s 10ms/step - loss: 1.9816 - accuracy: 0.1978 - val_loss: 2.0007 - val_accuracy: 0.1842\n",
            "Epoch 22/133\n",
            "899/900 [============================>.] - ETA: 0s - loss: 1.9766 - accuracy: 0.2011\n",
            "Epoch 22: val_loss improved from 2.00068 to 1.99951, saving model to face_detector.h15\n"
          ]
        },
        {
          "output_type": "stream",
          "name": "stderr",
          "text": [
            "WARNING:absl:Found untraced functions such as lstm_cell_layer_call_fn, lstm_cell_layer_call_and_return_conditional_losses while saving (showing 2 of 2). These functions will not be directly callable after loading.\n"
          ]
        },
        {
          "output_type": "stream",
          "name": "stdout",
          "text": [
            "\b\b\b\b\b\b\b\b\b\b\b\b\b\b\b\b\b\b\b\b\b\b\b\b\b\b\b\b\b\b\b\b\b\b\b\b\b\b\b\b\b\b\b\b\b\b\b\b\b\b\b\b\b\b\b\b\b\b\b\b\b\b\b\b\b\b\b\b\b\b\b\b\b\b\b\b\b\b\b\b\b\b\b\b\r900/900 [==============================] - 9s 10ms/step - loss: 1.9766 - accuracy: 0.2010 - val_loss: 1.9995 - val_accuracy: 0.1912\n",
            "Epoch 23/133\n",
            "900/900 [==============================] - ETA: 0s - loss: 1.9705 - accuracy: 0.2024\n",
            "Epoch 23: val_loss improved from 1.99951 to 1.99450, saving model to face_detector.h15\n"
          ]
        },
        {
          "output_type": "stream",
          "name": "stderr",
          "text": [
            "WARNING:absl:Found untraced functions such as lstm_cell_layer_call_fn, lstm_cell_layer_call_and_return_conditional_losses while saving (showing 2 of 2). These functions will not be directly callable after loading.\n"
          ]
        },
        {
          "output_type": "stream",
          "name": "stdout",
          "text": [
            "\b\b\b\b\b\b\b\b\b\b\b\b\b\b\b\b\b\b\b\b\b\b\b\b\b\b\b\b\b\b\b\b\b\b\b\b\b\b\b\b\b\b\b\b\b\b\b\b\b\b\b\b\b\b\b\b\b\b\b\b\b\b\b\b\b\b\b\b\b\b\b\b\b\b\b\b\b\b\b\b\b\b\b\b\r900/900 [==============================] - 9s 10ms/step - loss: 1.9705 - accuracy: 0.2024 - val_loss: 1.9945 - val_accuracy: 0.1896\n",
            "Epoch 24/133\n",
            "896/900 [============================>.] - ETA: 0s - loss: 1.9686 - accuracy: 0.2067\n",
            "Epoch 24: val_loss improved from 1.99450 to 1.99310, saving model to face_detector.h15\n"
          ]
        },
        {
          "output_type": "stream",
          "name": "stderr",
          "text": [
            "WARNING:absl:Found untraced functions such as lstm_cell_layer_call_fn, lstm_cell_layer_call_and_return_conditional_losses while saving (showing 2 of 2). These functions will not be directly callable after loading.\n"
          ]
        },
        {
          "output_type": "stream",
          "name": "stdout",
          "text": [
            "\b\b\b\b\b\b\b\b\b\b\b\b\b\b\b\b\b\b\b\b\b\b\b\b\b\b\b\b\b\b\b\b\b\b\b\b\b\b\b\b\b\b\b\b\b\b\b\b\b\b\b\b\b\b\b\b\b\b\b\b\b\b\b\b\b\b\b\b\b\b\b\b\b\b\b\b\b\b\b\b\b\b\b\b\r900/900 [==============================] - 9s 10ms/step - loss: 1.9688 - accuracy: 0.2068 - val_loss: 1.9931 - val_accuracy: 0.1971\n",
            "Epoch 25/133\n",
            "334/900 [==========>...................] - ETA: 4s - loss: 1.9630 - accuracy: 0.2110"
          ]
        },
        {
          "output_type": "error",
          "ename": "KeyboardInterrupt",
          "evalue": "ignored",
          "traceback": [
            "\u001b[0;31m---------------------------------------------------------------------------\u001b[0m",
            "\u001b[0;31mKeyboardInterrupt\u001b[0m                         Traceback (most recent call last)",
            "\u001b[0;32m<ipython-input-18-49ea17d24f81>\u001b[0m in \u001b[0;36m<module>\u001b[0;34m\u001b[0m\n\u001b[1;32m      4\u001b[0m \u001b[0;31m# FIT MODEL\u001b[0m\u001b[0;34m\u001b[0m\u001b[0;34m\u001b[0m\u001b[0;34m\u001b[0m\u001b[0m\n\u001b[1;32m      5\u001b[0m \u001b[0mmodel\u001b[0m\u001b[0;34m.\u001b[0m\u001b[0mcompile\u001b[0m\u001b[0;34m(\u001b[0m\u001b[0mloss\u001b[0m\u001b[0;34m=\u001b[0m\u001b[0;34m'categorical_crossentropy'\u001b[0m\u001b[0;34m,\u001b[0m \u001b[0moptimizer\u001b[0m\u001b[0;34m=\u001b[0m\u001b[0;34m'adam'\u001b[0m\u001b[0;34m,\u001b[0m\u001b[0mmetrics\u001b[0m\u001b[0;34m=\u001b[0m\u001b[0;34m[\u001b[0m\u001b[0;34m'accuracy'\u001b[0m\u001b[0;34m]\u001b[0m\u001b[0;34m)\u001b[0m\u001b[0;34m\u001b[0m\u001b[0;34m\u001b[0m\u001b[0m\n\u001b[0;32m----> 6\u001b[0;31m \u001b[0mmodel_history\u001b[0m\u001b[0;34m=\u001b[0m\u001b[0mmodel\u001b[0m\u001b[0;34m.\u001b[0m\u001b[0mfit\u001b[0m\u001b[0;34m(\u001b[0m\u001b[0mX_train\u001b[0m\u001b[0;34m,\u001b[0m \u001b[0my_train\u001b[0m\u001b[0;34m,\u001b[0m\u001b[0mbatch_size\u001b[0m\u001b[0;34m=\u001b[0m\u001b[0;36m32\u001b[0m\u001b[0;34m,\u001b[0m \u001b[0mepochs\u001b[0m\u001b[0;34m=\u001b[0m\u001b[0;36m133\u001b[0m\u001b[0;34m,\u001b[0m \u001b[0mvalidation_data\u001b[0m\u001b[0;34m=\u001b[0m\u001b[0;34m(\u001b[0m\u001b[0mX_test\u001b[0m\u001b[0;34m,\u001b[0m \u001b[0my_test\u001b[0m\u001b[0;34m)\u001b[0m\u001b[0;34m,\u001b[0m\u001b[0mcallbacks\u001b[0m\u001b[0;34m=\u001b[0m\u001b[0mcheckpoint\u001b[0m\u001b[0;34m,\u001b[0m\u001b[0mshuffle\u001b[0m\u001b[0;34m=\u001b[0m\u001b[0;32mTrue\u001b[0m\u001b[0;34m)\u001b[0m\u001b[0;34m\u001b[0m\u001b[0;34m\u001b[0m\u001b[0m\n\u001b[0m",
            "\u001b[0;32m/usr/local/lib/python3.7/dist-packages/keras/utils/traceback_utils.py\u001b[0m in \u001b[0;36merror_handler\u001b[0;34m(*args, **kwargs)\u001b[0m\n\u001b[1;32m     62\u001b[0m     \u001b[0mfiltered_tb\u001b[0m \u001b[0;34m=\u001b[0m \u001b[0;32mNone\u001b[0m\u001b[0;34m\u001b[0m\u001b[0;34m\u001b[0m\u001b[0m\n\u001b[1;32m     63\u001b[0m     \u001b[0;32mtry\u001b[0m\u001b[0;34m:\u001b[0m\u001b[0;34m\u001b[0m\u001b[0;34m\u001b[0m\u001b[0m\n\u001b[0;32m---> 64\u001b[0;31m       \u001b[0;32mreturn\u001b[0m \u001b[0mfn\u001b[0m\u001b[0;34m(\u001b[0m\u001b[0;34m*\u001b[0m\u001b[0margs\u001b[0m\u001b[0;34m,\u001b[0m \u001b[0;34m**\u001b[0m\u001b[0mkwargs\u001b[0m\u001b[0;34m)\u001b[0m\u001b[0;34m\u001b[0m\u001b[0;34m\u001b[0m\u001b[0m\n\u001b[0m\u001b[1;32m     65\u001b[0m     \u001b[0;32mexcept\u001b[0m \u001b[0mException\u001b[0m \u001b[0;32mas\u001b[0m \u001b[0me\u001b[0m\u001b[0;34m:\u001b[0m  \u001b[0;31m# pylint: disable=broad-except\u001b[0m\u001b[0;34m\u001b[0m\u001b[0;34m\u001b[0m\u001b[0m\n\u001b[1;32m     66\u001b[0m       \u001b[0mfiltered_tb\u001b[0m \u001b[0;34m=\u001b[0m \u001b[0m_process_traceback_frames\u001b[0m\u001b[0;34m(\u001b[0m\u001b[0me\u001b[0m\u001b[0;34m.\u001b[0m\u001b[0m__traceback__\u001b[0m\u001b[0;34m)\u001b[0m\u001b[0;34m\u001b[0m\u001b[0;34m\u001b[0m\u001b[0m\n",
            "\u001b[0;32m/usr/local/lib/python3.7/dist-packages/keras/engine/training.py\u001b[0m in \u001b[0;36mfit\u001b[0;34m(self, x, y, batch_size, epochs, verbose, callbacks, validation_split, validation_data, shuffle, class_weight, sample_weight, initial_epoch, steps_per_epoch, validation_steps, validation_batch_size, validation_freq, max_queue_size, workers, use_multiprocessing)\u001b[0m\n\u001b[1;32m   1407\u001b[0m                 _r=1):\n\u001b[1;32m   1408\u001b[0m               \u001b[0mcallbacks\u001b[0m\u001b[0;34m.\u001b[0m\u001b[0mon_train_batch_begin\u001b[0m\u001b[0;34m(\u001b[0m\u001b[0mstep\u001b[0m\u001b[0;34m)\u001b[0m\u001b[0;34m\u001b[0m\u001b[0;34m\u001b[0m\u001b[0m\n\u001b[0;32m-> 1409\u001b[0;31m               \u001b[0mtmp_logs\u001b[0m \u001b[0;34m=\u001b[0m \u001b[0mself\u001b[0m\u001b[0;34m.\u001b[0m\u001b[0mtrain_function\u001b[0m\u001b[0;34m(\u001b[0m\u001b[0miterator\u001b[0m\u001b[0;34m)\u001b[0m\u001b[0;34m\u001b[0m\u001b[0;34m\u001b[0m\u001b[0m\n\u001b[0m\u001b[1;32m   1410\u001b[0m               \u001b[0;32mif\u001b[0m \u001b[0mdata_handler\u001b[0m\u001b[0;34m.\u001b[0m\u001b[0mshould_sync\u001b[0m\u001b[0;34m:\u001b[0m\u001b[0;34m\u001b[0m\u001b[0;34m\u001b[0m\u001b[0m\n\u001b[1;32m   1411\u001b[0m                 \u001b[0mcontext\u001b[0m\u001b[0;34m.\u001b[0m\u001b[0masync_wait\u001b[0m\u001b[0;34m(\u001b[0m\u001b[0;34m)\u001b[0m\u001b[0;34m\u001b[0m\u001b[0;34m\u001b[0m\u001b[0m\n",
            "\u001b[0;32m/usr/local/lib/python3.7/dist-packages/tensorflow/python/util/traceback_utils.py\u001b[0m in \u001b[0;36merror_handler\u001b[0;34m(*args, **kwargs)\u001b[0m\n\u001b[1;32m    148\u001b[0m     \u001b[0mfiltered_tb\u001b[0m \u001b[0;34m=\u001b[0m \u001b[0;32mNone\u001b[0m\u001b[0;34m\u001b[0m\u001b[0;34m\u001b[0m\u001b[0m\n\u001b[1;32m    149\u001b[0m     \u001b[0;32mtry\u001b[0m\u001b[0;34m:\u001b[0m\u001b[0;34m\u001b[0m\u001b[0;34m\u001b[0m\u001b[0m\n\u001b[0;32m--> 150\u001b[0;31m       \u001b[0;32mreturn\u001b[0m \u001b[0mfn\u001b[0m\u001b[0;34m(\u001b[0m\u001b[0;34m*\u001b[0m\u001b[0margs\u001b[0m\u001b[0;34m,\u001b[0m \u001b[0;34m**\u001b[0m\u001b[0mkwargs\u001b[0m\u001b[0;34m)\u001b[0m\u001b[0;34m\u001b[0m\u001b[0;34m\u001b[0m\u001b[0m\n\u001b[0m\u001b[1;32m    151\u001b[0m     \u001b[0;32mexcept\u001b[0m \u001b[0mException\u001b[0m \u001b[0;32mas\u001b[0m \u001b[0me\u001b[0m\u001b[0;34m:\u001b[0m\u001b[0;34m\u001b[0m\u001b[0;34m\u001b[0m\u001b[0m\n\u001b[1;32m    152\u001b[0m       \u001b[0mfiltered_tb\u001b[0m \u001b[0;34m=\u001b[0m \u001b[0m_process_traceback_frames\u001b[0m\u001b[0;34m(\u001b[0m\u001b[0me\u001b[0m\u001b[0;34m.\u001b[0m\u001b[0m__traceback__\u001b[0m\u001b[0;34m)\u001b[0m\u001b[0;34m\u001b[0m\u001b[0;34m\u001b[0m\u001b[0m\n",
            "\u001b[0;32m/usr/local/lib/python3.7/dist-packages/tensorflow/python/eager/def_function.py\u001b[0m in \u001b[0;36m__call__\u001b[0;34m(self, *args, **kwds)\u001b[0m\n\u001b[1;32m    913\u001b[0m \u001b[0;34m\u001b[0m\u001b[0m\n\u001b[1;32m    914\u001b[0m       \u001b[0;32mwith\u001b[0m \u001b[0mOptionalXlaContext\u001b[0m\u001b[0;34m(\u001b[0m\u001b[0mself\u001b[0m\u001b[0;34m.\u001b[0m\u001b[0m_jit_compile\u001b[0m\u001b[0;34m)\u001b[0m\u001b[0;34m:\u001b[0m\u001b[0;34m\u001b[0m\u001b[0;34m\u001b[0m\u001b[0m\n\u001b[0;32m--> 915\u001b[0;31m         \u001b[0mresult\u001b[0m \u001b[0;34m=\u001b[0m \u001b[0mself\u001b[0m\u001b[0;34m.\u001b[0m\u001b[0m_call\u001b[0m\u001b[0;34m(\u001b[0m\u001b[0;34m*\u001b[0m\u001b[0margs\u001b[0m\u001b[0;34m,\u001b[0m \u001b[0;34m**\u001b[0m\u001b[0mkwds\u001b[0m\u001b[0;34m)\u001b[0m\u001b[0;34m\u001b[0m\u001b[0;34m\u001b[0m\u001b[0m\n\u001b[0m\u001b[1;32m    916\u001b[0m \u001b[0;34m\u001b[0m\u001b[0m\n\u001b[1;32m    917\u001b[0m       \u001b[0mnew_tracing_count\u001b[0m \u001b[0;34m=\u001b[0m \u001b[0mself\u001b[0m\u001b[0;34m.\u001b[0m\u001b[0mexperimental_get_tracing_count\u001b[0m\u001b[0;34m(\u001b[0m\u001b[0;34m)\u001b[0m\u001b[0;34m\u001b[0m\u001b[0;34m\u001b[0m\u001b[0m\n",
            "\u001b[0;32m/usr/local/lib/python3.7/dist-packages/tensorflow/python/eager/def_function.py\u001b[0m in \u001b[0;36m_call\u001b[0;34m(self, *args, **kwds)\u001b[0m\n\u001b[1;32m    945\u001b[0m       \u001b[0;31m# In this case we have created variables on the first call, so we run the\u001b[0m\u001b[0;34m\u001b[0m\u001b[0;34m\u001b[0m\u001b[0;34m\u001b[0m\u001b[0m\n\u001b[1;32m    946\u001b[0m       \u001b[0;31m# defunned version which is guaranteed to never create variables.\u001b[0m\u001b[0;34m\u001b[0m\u001b[0;34m\u001b[0m\u001b[0;34m\u001b[0m\u001b[0m\n\u001b[0;32m--> 947\u001b[0;31m       \u001b[0;32mreturn\u001b[0m \u001b[0mself\u001b[0m\u001b[0;34m.\u001b[0m\u001b[0m_stateless_fn\u001b[0m\u001b[0;34m(\u001b[0m\u001b[0;34m*\u001b[0m\u001b[0margs\u001b[0m\u001b[0;34m,\u001b[0m \u001b[0;34m**\u001b[0m\u001b[0mkwds\u001b[0m\u001b[0;34m)\u001b[0m  \u001b[0;31m# pylint: disable=not-callable\u001b[0m\u001b[0;34m\u001b[0m\u001b[0;34m\u001b[0m\u001b[0m\n\u001b[0m\u001b[1;32m    948\u001b[0m     \u001b[0;32melif\u001b[0m \u001b[0mself\u001b[0m\u001b[0;34m.\u001b[0m\u001b[0m_stateful_fn\u001b[0m \u001b[0;32mis\u001b[0m \u001b[0;32mnot\u001b[0m \u001b[0;32mNone\u001b[0m\u001b[0;34m:\u001b[0m\u001b[0;34m\u001b[0m\u001b[0;34m\u001b[0m\u001b[0m\n\u001b[1;32m    949\u001b[0m       \u001b[0;31m# Release the lock early so that multiple threads can perform the call\u001b[0m\u001b[0;34m\u001b[0m\u001b[0;34m\u001b[0m\u001b[0;34m\u001b[0m\u001b[0m\n",
            "\u001b[0;32m/usr/local/lib/python3.7/dist-packages/tensorflow/python/eager/function.py\u001b[0m in \u001b[0;36m__call__\u001b[0;34m(self, *args, **kwargs)\u001b[0m\n\u001b[1;32m   2450\u001b[0m     \u001b[0;32mwith\u001b[0m \u001b[0mself\u001b[0m\u001b[0;34m.\u001b[0m\u001b[0m_lock\u001b[0m\u001b[0;34m:\u001b[0m\u001b[0;34m\u001b[0m\u001b[0;34m\u001b[0m\u001b[0m\n\u001b[1;32m   2451\u001b[0m       (graph_function,\n\u001b[0;32m-> 2452\u001b[0;31m        filtered_flat_args) = self._maybe_define_function(args, kwargs)\n\u001b[0m\u001b[1;32m   2453\u001b[0m     return graph_function._call_flat(\n\u001b[1;32m   2454\u001b[0m         filtered_flat_args, captured_inputs=graph_function.captured_inputs)  # pylint: disable=protected-access\n",
            "\u001b[0;32m/usr/local/lib/python3.7/dist-packages/tensorflow/python/eager/function.py\u001b[0m in \u001b[0;36m_maybe_define_function\u001b[0;34m(self, args, kwargs)\u001b[0m\n\u001b[1;32m   2675\u001b[0m     \u001b[0;32mif\u001b[0m \u001b[0mself\u001b[0m\u001b[0;34m.\u001b[0m\u001b[0minput_signature\u001b[0m \u001b[0;32mis\u001b[0m \u001b[0;32mNone\u001b[0m\u001b[0;34m:\u001b[0m\u001b[0;34m\u001b[0m\u001b[0;34m\u001b[0m\u001b[0m\n\u001b[1;32m   2676\u001b[0m       cache_key, cache_key_deletion_observer = function_context.make_cache_key(\n\u001b[0;32m-> 2677\u001b[0;31m           (args, kwargs))\n\u001b[0m\u001b[1;32m   2678\u001b[0m     \u001b[0;32melse\u001b[0m\u001b[0;34m:\u001b[0m\u001b[0;34m\u001b[0m\u001b[0;34m\u001b[0m\u001b[0m\n\u001b[1;32m   2679\u001b[0m       cache_key, cache_key_deletion_observer = function_context.make_cache_key(\n",
            "\u001b[0;32m/usr/local/lib/python3.7/dist-packages/tensorflow/python/eager/function_context.py\u001b[0m in \u001b[0;36mmake_cache_key\u001b[0;34m(args, include_tensor_ranks_only)\u001b[0m\n\u001b[1;32m    129\u001b[0m       include_tensor_ranks_only)\n\u001b[1;32m    130\u001b[0m   function_signature = trace_type.make_function_signature(\n\u001b[0;32m--> 131\u001b[0;31m       args, signature_context)\n\u001b[0m\u001b[1;32m    132\u001b[0m   return function_cache.FunctionCacheKey(\n\u001b[1;32m    133\u001b[0m       \u001b[0mfunction_signature\u001b[0m\u001b[0;34m,\u001b[0m\u001b[0;34m\u001b[0m\u001b[0;34m\u001b[0m\u001b[0m\n",
            "\u001b[0;32m/usr/local/lib/python3.7/dist-packages/tensorflow/core/function/trace_type/signature_builder.py\u001b[0m in \u001b[0;36mmake_function_signature\u001b[0;34m(function_args, signature_context)\u001b[0m\n\u001b[1;32m    152\u001b[0m     \u001b[0mA\u001b[0m \u001b[0mTraceType\u001b[0m \u001b[0mobject\u001b[0m \u001b[0mrepresenting\u001b[0m \u001b[0mall\u001b[0m \u001b[0mthe\u001b[0m \u001b[0mgiven\u001b[0m \u001b[0minputs\u001b[0m\u001b[0;34m.\u001b[0m\u001b[0;34m\u001b[0m\u001b[0;34m\u001b[0m\u001b[0m\n\u001b[1;32m    153\u001b[0m   \"\"\"\n\u001b[0;32m--> 154\u001b[0;31m   \u001b[0;32mreturn\u001b[0m \u001b[0mcreate_trace_type\u001b[0m\u001b[0;34m(\u001b[0m\u001b[0mfunction_args\u001b[0m\u001b[0;34m,\u001b[0m \u001b[0msignature_context\u001b[0m\u001b[0;34m)\u001b[0m\u001b[0;34m\u001b[0m\u001b[0;34m\u001b[0m\u001b[0m\n\u001b[0m",
            "\u001b[0;32m/usr/local/lib/python3.7/dist-packages/tensorflow/core/function/trace_type/signature_builder.py\u001b[0m in \u001b[0;36mcreate_trace_type\u001b[0;34m(obj, context)\u001b[0m\n\u001b[1;32m    108\u001b[0m           type(obj), tuple(create_trace_type(c, context) for c in obj))\n\u001b[1;32m    109\u001b[0m     \u001b[0;32melse\u001b[0m\u001b[0;34m:\u001b[0m\u001b[0;34m\u001b[0m\u001b[0;34m\u001b[0m\u001b[0m\n\u001b[0;32m--> 110\u001b[0;31m       \u001b[0;32mreturn\u001b[0m \u001b[0mdefault_types\u001b[0m\u001b[0;34m.\u001b[0m\u001b[0mTuple\u001b[0m\u001b[0;34m(\u001b[0m\u001b[0;34m*\u001b[0m\u001b[0;34m(\u001b[0m\u001b[0mcreate_trace_type\u001b[0m\u001b[0;34m(\u001b[0m\u001b[0mc\u001b[0m\u001b[0;34m,\u001b[0m \u001b[0mcontext\u001b[0m\u001b[0;34m)\u001b[0m \u001b[0;32mfor\u001b[0m \u001b[0mc\u001b[0m \u001b[0;32min\u001b[0m \u001b[0mobj\u001b[0m\u001b[0;34m)\u001b[0m\u001b[0;34m)\u001b[0m\u001b[0;34m\u001b[0m\u001b[0;34m\u001b[0m\u001b[0m\n\u001b[0m\u001b[1;32m    111\u001b[0m \u001b[0;34m\u001b[0m\u001b[0m\n\u001b[1;32m    112\u001b[0m   \u001b[0;32mif\u001b[0m \u001b[0misinstance\u001b[0m\u001b[0;34m(\u001b[0m\u001b[0mobj\u001b[0m\u001b[0;34m,\u001b[0m \u001b[0mcollections\u001b[0m\u001b[0;34m.\u001b[0m\u001b[0mabc\u001b[0m\u001b[0;34m.\u001b[0m\u001b[0mMapping\u001b[0m\u001b[0;34m)\u001b[0m\u001b[0;34m:\u001b[0m\u001b[0;34m\u001b[0m\u001b[0;34m\u001b[0m\u001b[0m\n",
            "\u001b[0;32m/usr/local/lib/python3.7/dist-packages/tensorflow/core/function/trace_type/signature_builder.py\u001b[0m in \u001b[0;36m<genexpr>\u001b[0;34m(.0)\u001b[0m\n\u001b[1;32m    108\u001b[0m           type(obj), tuple(create_trace_type(c, context) for c in obj))\n\u001b[1;32m    109\u001b[0m     \u001b[0;32melse\u001b[0m\u001b[0;34m:\u001b[0m\u001b[0;34m\u001b[0m\u001b[0;34m\u001b[0m\u001b[0m\n\u001b[0;32m--> 110\u001b[0;31m       \u001b[0;32mreturn\u001b[0m \u001b[0mdefault_types\u001b[0m\u001b[0;34m.\u001b[0m\u001b[0mTuple\u001b[0m\u001b[0;34m(\u001b[0m\u001b[0;34m*\u001b[0m\u001b[0;34m(\u001b[0m\u001b[0mcreate_trace_type\u001b[0m\u001b[0;34m(\u001b[0m\u001b[0mc\u001b[0m\u001b[0;34m,\u001b[0m \u001b[0mcontext\u001b[0m\u001b[0;34m)\u001b[0m \u001b[0;32mfor\u001b[0m \u001b[0mc\u001b[0m \u001b[0;32min\u001b[0m \u001b[0mobj\u001b[0m\u001b[0;34m)\u001b[0m\u001b[0;34m)\u001b[0m\u001b[0;34m\u001b[0m\u001b[0;34m\u001b[0m\u001b[0m\n\u001b[0m\u001b[1;32m    111\u001b[0m \u001b[0;34m\u001b[0m\u001b[0m\n\u001b[1;32m    112\u001b[0m   \u001b[0;32mif\u001b[0m \u001b[0misinstance\u001b[0m\u001b[0;34m(\u001b[0m\u001b[0mobj\u001b[0m\u001b[0;34m,\u001b[0m \u001b[0mcollections\u001b[0m\u001b[0;34m.\u001b[0m\u001b[0mabc\u001b[0m\u001b[0;34m.\u001b[0m\u001b[0mMapping\u001b[0m\u001b[0;34m)\u001b[0m\u001b[0;34m:\u001b[0m\u001b[0;34m\u001b[0m\u001b[0;34m\u001b[0m\u001b[0m\n",
            "\u001b[0;32m/usr/local/lib/python3.7/dist-packages/tensorflow/core/function/trace_type/signature_builder.py\u001b[0m in \u001b[0;36mcreate_trace_type\u001b[0;34m(obj, context)\u001b[0m\n\u001b[1;32m     97\u001b[0m   \"\"\"\n\u001b[1;32m     98\u001b[0m \u001b[0;34m\u001b[0m\u001b[0m\n\u001b[0;32m---> 99\u001b[0;31m   \u001b[0;32mif\u001b[0m \u001b[0misinstance\u001b[0m\u001b[0;34m(\u001b[0m\u001b[0mobj\u001b[0m\u001b[0;34m,\u001b[0m \u001b[0mtrace\u001b[0m\u001b[0;34m.\u001b[0m\u001b[0mSupportsTracingProtocol\u001b[0m\u001b[0;34m)\u001b[0m\u001b[0;34m:\u001b[0m\u001b[0;34m\u001b[0m\u001b[0;34m\u001b[0m\u001b[0m\n\u001b[0m\u001b[1;32m    100\u001b[0m     \u001b[0;32mreturn\u001b[0m \u001b[0mobj\u001b[0m\u001b[0;34m.\u001b[0m\u001b[0m__tf_tracing_type__\u001b[0m\u001b[0;34m(\u001b[0m\u001b[0mcontext\u001b[0m\u001b[0;34m)\u001b[0m\u001b[0;34m\u001b[0m\u001b[0;34m\u001b[0m\u001b[0m\n\u001b[1;32m    101\u001b[0m \u001b[0;34m\u001b[0m\u001b[0m\n",
            "\u001b[0;32m/usr/local/lib/python3.7/dist-packages/typing_extensions.py\u001b[0m in \u001b[0;36m__instancecheck__\u001b[0;34m(cls, instance)\u001b[0m\n\u001b[1;32m    603\u001b[0m                        (not callable(getattr(cls, attr, None)) or\n\u001b[1;32m    604\u001b[0m                         getattr(instance, attr) is not None)\n\u001b[0;32m--> 605\u001b[0;31m                        for attr in _get_protocol_attrs(cls)):\n\u001b[0m\u001b[1;32m    606\u001b[0m                     \u001b[0;32mreturn\u001b[0m \u001b[0;32mTrue\u001b[0m\u001b[0;34m\u001b[0m\u001b[0;34m\u001b[0m\u001b[0m\n\u001b[1;32m    607\u001b[0m             \u001b[0;32mreturn\u001b[0m \u001b[0msuper\u001b[0m\u001b[0;34m(\u001b[0m\u001b[0;34m)\u001b[0m\u001b[0;34m.\u001b[0m\u001b[0m__instancecheck__\u001b[0m\u001b[0;34m(\u001b[0m\u001b[0minstance\u001b[0m\u001b[0;34m)\u001b[0m\u001b[0;34m\u001b[0m\u001b[0;34m\u001b[0m\u001b[0m\n",
            "\u001b[0;32m/usr/local/lib/python3.7/dist-packages/typing_extensions.py\u001b[0m in \u001b[0;36m_get_protocol_attrs\u001b[0;34m(cls)\u001b[0m\n\u001b[1;32m    564\u001b[0m         \u001b[0;32mfor\u001b[0m \u001b[0mattr\u001b[0m \u001b[0;32min\u001b[0m \u001b[0mlist\u001b[0m\u001b[0;34m(\u001b[0m\u001b[0mbase\u001b[0m\u001b[0;34m.\u001b[0m\u001b[0m__dict__\u001b[0m\u001b[0;34m.\u001b[0m\u001b[0mkeys\u001b[0m\u001b[0;34m(\u001b[0m\u001b[0;34m)\u001b[0m\u001b[0;34m)\u001b[0m \u001b[0;34m+\u001b[0m \u001b[0mlist\u001b[0m\u001b[0;34m(\u001b[0m\u001b[0mannotations\u001b[0m\u001b[0;34m.\u001b[0m\u001b[0mkeys\u001b[0m\u001b[0;34m(\u001b[0m\u001b[0;34m)\u001b[0m\u001b[0;34m)\u001b[0m\u001b[0;34m:\u001b[0m\u001b[0;34m\u001b[0m\u001b[0;34m\u001b[0m\u001b[0m\n\u001b[1;32m    565\u001b[0m             if (not attr.startswith('_abc_') and attr not in (\n\u001b[0;32m--> 566\u001b[0;31m                     \u001b[0;34m'__abstractmethods__'\u001b[0m\u001b[0;34m,\u001b[0m \u001b[0;34m'__annotations__'\u001b[0m\u001b[0;34m,\u001b[0m \u001b[0;34m'__weakref__'\u001b[0m\u001b[0;34m,\u001b[0m\u001b[0;34m\u001b[0m\u001b[0;34m\u001b[0m\u001b[0m\n\u001b[0m\u001b[1;32m    567\u001b[0m                     \u001b[0;34m'_is_protocol'\u001b[0m\u001b[0;34m,\u001b[0m \u001b[0;34m'_is_runtime_protocol'\u001b[0m\u001b[0;34m,\u001b[0m \u001b[0;34m'__dict__'\u001b[0m\u001b[0;34m,\u001b[0m\u001b[0;34m\u001b[0m\u001b[0;34m\u001b[0m\u001b[0m\n\u001b[1;32m    568\u001b[0m                     \u001b[0;34m'__args__'\u001b[0m\u001b[0;34m,\u001b[0m \u001b[0;34m'__slots__'\u001b[0m\u001b[0;34m,\u001b[0m\u001b[0;34m\u001b[0m\u001b[0;34m\u001b[0m\u001b[0m\n",
            "\u001b[0;31mKeyboardInterrupt\u001b[0m: "
          ]
        }
      ],
      "source": [
        "from keras.callbacks import ModelCheckpoint\n",
        "checkpoint = ModelCheckpoint('face_detector.h15', monitor= 'val_loss', mode= 'min', save_best_only = True, verbose= 1)\n",
        "\n",
        "# FIT MODEL\n",
        "model.compile(loss='categorical_crossentropy', optimizer='adam',metrics=['accuracy'])\n",
        "model_history=model.fit(X_train, y_train,batch_size=32, epochs=133, validation_data=(X_test, y_test),callbacks=checkpoint,shuffle=True)\n"
      ]
    },
    {
      "cell_type": "code",
      "source": [
        "# BUILD 1D CNN LAYERS\n",
        "from tensorflow.keras.layers import Conv2D, MaxPooling2D\n",
        "from tensorflow.keras.regularizers import l2\n",
        "\n",
        "# BUILD 1D CNN LAYERS\n",
        "model = Sequential()\n",
        "model.add(Conv1D(32, 8, activation='relu', padding='same',input_shape=(X_train.shape[1],1)))\n",
        "\n",
        "model.add(Conv1D(128, 8,activation='relu',padding='same',kernel_regularizer=l2(0.01), bias_regularizer=l2(0.01)))\n",
        "model.add(MaxPooling1D(pool_size=(2)))\n",
        "model.add(Dropout(0.25))\n",
        "\n",
        "model.add(Conv1D(128, 8,padding='same',activation='relu'))\n",
        "model.add(MaxPooling1D(pool_size=(2)))\n",
        "model.add(Dropout(0.25))\n",
        "model.add(Flatten())\n",
        "\n",
        "# model.add(Dense(256, activation='relu'))\n",
        "# model.add(Dropout(0.2))\n",
        "# model.add(Dense(128, activation='relu'))\n",
        "# model.add(Dropout(0.2))\n",
        "model.add(Dense(64, activation='relu'))\n",
        "model.add(Dropout(0.3))\n",
        "model.add(Dense(8, activation='softmax'))\n",
        "model.summary()\n",
        "opt = tf.keras.optimizers.Adam(lr=0.0001, decay=1e-6)"
      ],
      "metadata": {
        "id": "qhjkZcVOP2R3",
        "colab": {
          "base_uri": "https://localhost:8080/"
        },
        "outputId": "09950d6c-9ca4-4a32-9a88-c907babb93c2"
      },
      "execution_count": null,
      "outputs": [
        {
          "output_type": "stream",
          "name": "stdout",
          "text": [
            "Model: \"sequential\"\n",
            "_________________________________________________________________\n",
            " Layer (type)                Output Shape              Param #   \n",
            "=================================================================\n",
            " conv1d (Conv1D)             (None, 40, 32)            288       \n",
            "                                                                 \n",
            " conv1d_1 (Conv1D)           (None, 40, 128)           32896     \n",
            "                                                                 \n",
            " max_pooling1d (MaxPooling1D  (None, 20, 128)          0         \n",
            " )                                                               \n",
            "                                                                 \n",
            " dropout (Dropout)           (None, 20, 128)           0         \n",
            "                                                                 \n",
            " conv1d_2 (Conv1D)           (None, 20, 128)           131200    \n",
            "                                                                 \n",
            " max_pooling1d_1 (MaxPooling  (None, 10, 128)          0         \n",
            " 1D)                                                             \n",
            "                                                                 \n",
            " dropout_1 (Dropout)         (None, 10, 128)           0         \n",
            "                                                                 \n",
            " flatten (Flatten)           (None, 1280)              0         \n",
            "                                                                 \n",
            " dense (Dense)               (None, 64)                81984     \n",
            "                                                                 \n",
            " dropout_2 (Dropout)         (None, 64)                0         \n",
            "                                                                 \n",
            " dense_1 (Dense)             (None, 8)                 520       \n",
            "                                                                 \n",
            "=================================================================\n",
            "Total params: 246,888\n",
            "Trainable params: 246,888\n",
            "Non-trainable params: 0\n",
            "_________________________________________________________________\n"
          ]
        },
        {
          "output_type": "stream",
          "name": "stderr",
          "text": [
            "/usr/local/lib/python3.7/dist-packages/keras/optimizers/optimizer_v2/adam.py:110: UserWarning: The `lr` argument is deprecated, use `learning_rate` instead.\n",
            "  super(Adam, self).__init__(name, **kwargs)\n"
          ]
        }
      ]
    },
    {
      "cell_type": "code",
      "source": [
        "from keras.callbacks import ModelCheckpoint\n",
        "checkpoint = ModelCheckpoint('face_detector.h15', monitor= 'val_loss', mode= 'min', save_best_only = True, verbose= 1)\n",
        "\n",
        "# FIT MODEL\n",
        "model.compile(loss='categorical_crossentropy', optimizer=opt,metrics=['accuracy'])\n",
        "model_history=model.fit(X_train, y_train,batch_size=16, epochs=200, validation_data=(X_test, y_test),callbacks=checkpoint)\n"
      ],
      "metadata": {
        "id": "gmLukfSzQXaQ",
        "colab": {
          "base_uri": "https://localhost:8080/"
        },
        "outputId": "711b1585-0df5-440c-f14b-eba8fa5cd379"
      },
      "execution_count": null,
      "outputs": [
        {
          "output_type": "stream",
          "name": "stdout",
          "text": [
            "Epoch 1/200\n",
            "201/212 [===========================>..] - ETA: 0s - loss: 2.0718 - accuracy: 0.4055\n",
            "Epoch 1: val_loss improved from inf to 1.60384, saving model to face_detector.h15\n"
          ]
        },
        {
          "output_type": "stream",
          "name": "stderr",
          "text": [
            "WARNING:absl:Found untraced functions such as _jit_compiled_convolution_op, _jit_compiled_convolution_op, _jit_compiled_convolution_op while saving (showing 3 of 3). These functions will not be directly callable after loading.\n"
          ]
        },
        {
          "output_type": "stream",
          "name": "stdout",
          "text": [
            "\b\b\b\b\b\b\b\b\b\b\b\b\b\b\b\b\b\b\b\b\b\b\b\b\b\b\b\b\b\b\b\b\b\b\b\b\b\b\b\b\b\b\b\b\b\b\b\b\b\b\b\b\b\b\b\b\b\b\b\b\b\b\b\b\b\b\b\b\b\b\b\b\b\b\b\b\b\b\b\b\b\b\b\b\r212/212 [==============================] - 13s 12ms/step - loss: 2.0536 - accuracy: 0.4119 - val_loss: 1.6038 - val_accuracy: 0.5908\n",
            "Epoch 2/200\n",
            "207/212 [============================>.] - ETA: 0s - loss: 1.5592 - accuracy: 0.5999\n",
            "Epoch 2: val_loss improved from 1.60384 to 1.35469, saving model to face_detector.h15\n"
          ]
        },
        {
          "output_type": "stream",
          "name": "stderr",
          "text": [
            "WARNING:absl:Found untraced functions such as _jit_compiled_convolution_op, _jit_compiled_convolution_op, _jit_compiled_convolution_op while saving (showing 3 of 3). These functions will not be directly callable after loading.\n"
          ]
        },
        {
          "output_type": "stream",
          "name": "stdout",
          "text": [
            "\b\b\b\b\b\b\b\b\b\b\b\b\b\b\b\b\b\b\b\b\b\b\b\b\b\b\b\b\b\b\b\b\b\b\b\b\b\b\b\b\b\b\b\b\b\b\b\b\b\b\b\b\b\b\b\b\b\b\b\b\b\b\b\b\b\b\b\b\b\b\b\b\b\b\b\b\b\b\b\b\b\b\b\b\r212/212 [==============================] - 2s 11ms/step - loss: 1.5586 - accuracy: 0.6008 - val_loss: 1.3547 - val_accuracy: 0.6651\n",
            "Epoch 3/200\n",
            "204/212 [===========================>..] - ETA: 0s - loss: 1.3742 - accuracy: 0.6538\n",
            "Epoch 3: val_loss improved from 1.35469 to 1.21293, saving model to face_detector.h15\n"
          ]
        },
        {
          "output_type": "stream",
          "name": "stderr",
          "text": [
            "WARNING:absl:Found untraced functions such as _jit_compiled_convolution_op, _jit_compiled_convolution_op, _jit_compiled_convolution_op while saving (showing 3 of 3). These functions will not be directly callable after loading.\n"
          ]
        },
        {
          "output_type": "stream",
          "name": "stdout",
          "text": [
            "\b\b\b\b\b\b\b\b\b\b\b\b\b\b\b\b\b\b\b\b\b\b\b\b\b\b\b\b\b\b\b\b\b\b\b\b\b\b\b\b\b\b\b\b\b\b\b\b\b\b\b\b\b\b\b\b\b\b\b\b\b\b\b\b\b\b\b\b\b\b\b\b\b\b\b\b\b\b\b\b\b\b\b\b\r212/212 [==============================] - 2s 11ms/step - loss: 1.3719 - accuracy: 0.6539 - val_loss: 1.2129 - val_accuracy: 0.6863\n",
            "Epoch 4/200\n",
            "201/212 [===========================>..] - ETA: 0s - loss: 1.2473 - accuracy: 0.6772\n",
            "Epoch 4: val_loss improved from 1.21293 to 1.10927, saving model to face_detector.h15\n"
          ]
        },
        {
          "output_type": "stream",
          "name": "stderr",
          "text": [
            "WARNING:absl:Found untraced functions such as _jit_compiled_convolution_op, _jit_compiled_convolution_op, _jit_compiled_convolution_op while saving (showing 3 of 3). These functions will not be directly callable after loading.\n"
          ]
        },
        {
          "output_type": "stream",
          "name": "stdout",
          "text": [
            "\b\b\b\b\b\b\b\b\b\b\b\b\b\b\b\b\b\b\b\b\b\b\b\b\b\b\b\b\b\b\b\b\b\b\b\b\b\b\b\b\b\b\b\b\b\b\b\b\b\b\b\b\b\b\b\b\b\b\b\b\b\b\b\b\b\b\b\b\b\b\b\b\b\b\b\b\b\b\b\b\b\b\b\b\r212/212 [==============================] - 2s 11ms/step - loss: 1.2402 - accuracy: 0.6798 - val_loss: 1.1093 - val_accuracy: 0.6946\n",
            "Epoch 5/200\n",
            "201/212 [===========================>..] - ETA: 0s - loss: 1.1342 - accuracy: 0.6993\n",
            "Epoch 5: val_loss improved from 1.10927 to 1.03701, saving model to face_detector.h15\n"
          ]
        },
        {
          "output_type": "stream",
          "name": "stderr",
          "text": [
            "WARNING:absl:Found untraced functions such as _jit_compiled_convolution_op, _jit_compiled_convolution_op, _jit_compiled_convolution_op while saving (showing 3 of 3). These functions will not be directly callable after loading.\n"
          ]
        },
        {
          "output_type": "stream",
          "name": "stdout",
          "text": [
            "\b\b\b\b\b\b\b\b\b\b\b\b\b\b\b\b\b\b\b\b\b\b\b\b\b\b\b\b\b\b\b\b\b\b\b\b\b\b\b\b\b\b\b\b\b\b\b\b\b\b\b\b\b\b\b\b\b\b\b\b\b\b\b\b\b\b\b\b\b\b\b\b\b\b\b\b\b\b\b\b\b\b\b\b\r212/212 [==============================] - 2s 11ms/step - loss: 1.1379 - accuracy: 0.6987 - val_loss: 1.0370 - val_accuracy: 0.7075\n",
            "Epoch 6/200\n",
            "204/212 [===========================>..] - ETA: 0s - loss: 1.0573 - accuracy: 0.7053\n",
            "Epoch 6: val_loss improved from 1.03701 to 0.96926, saving model to face_detector.h15\n"
          ]
        },
        {
          "output_type": "stream",
          "name": "stderr",
          "text": [
            "WARNING:absl:Found untraced functions such as _jit_compiled_convolution_op, _jit_compiled_convolution_op, _jit_compiled_convolution_op while saving (showing 3 of 3). These functions will not be directly callable after loading.\n"
          ]
        },
        {
          "output_type": "stream",
          "name": "stdout",
          "text": [
            "\b\b\b\b\b\b\b\b\b\b\b\b\b\b\b\b\b\b\b\b\b\b\b\b\b\b\b\b\b\b\b\b\b\b\b\b\b\b\b\b\b\b\b\b\b\b\b\b\b\b\b\b\b\b\b\b\b\b\b\b\b\b\b\b\b\b\b\b\b\b\b\b\b\b\b\b\b\b\b\b\b\b\b\b\r212/212 [==============================] - 2s 12ms/step - loss: 1.0572 - accuracy: 0.7061 - val_loss: 0.9693 - val_accuracy: 0.7193\n",
            "Epoch 7/200\n",
            "206/212 [============================>.] - ETA: 0s - loss: 0.9810 - accuracy: 0.7233\n",
            "Epoch 7: val_loss improved from 0.96926 to 0.92937, saving model to face_detector.h15\n"
          ]
        },
        {
          "output_type": "stream",
          "name": "stderr",
          "text": [
            "WARNING:absl:Found untraced functions such as _jit_compiled_convolution_op, _jit_compiled_convolution_op, _jit_compiled_convolution_op while saving (showing 3 of 3). These functions will not be directly callable after loading.\n"
          ]
        },
        {
          "output_type": "stream",
          "name": "stdout",
          "text": [
            "\b\b\b\b\b\b\b\b\b\b\b\b\b\b\b\b\b\b\b\b\b\b\b\b\b\b\b\b\b\b\b\b\b\b\b\b\b\b\b\b\b\b\b\b\b\b\b\b\b\b\b\b\b\b\b\b\b\b\b\b\b\b\b\b\b\b\b\b\b\b\b\b\b\b\b\b\b\b\b\b\b\b\b\b\r212/212 [==============================] - 2s 10ms/step - loss: 0.9828 - accuracy: 0.7217 - val_loss: 0.9294 - val_accuracy: 0.7323\n",
            "Epoch 8/200\n",
            "202/212 [===========================>..] - ETA: 0s - loss: 0.9364 - accuracy: 0.7330\n",
            "Epoch 8: val_loss improved from 0.92937 to 0.88194, saving model to face_detector.h15\n"
          ]
        },
        {
          "output_type": "stream",
          "name": "stderr",
          "text": [
            "WARNING:absl:Found untraced functions such as _jit_compiled_convolution_op, _jit_compiled_convolution_op, _jit_compiled_convolution_op while saving (showing 3 of 3). These functions will not be directly callable after loading.\n"
          ]
        },
        {
          "output_type": "stream",
          "name": "stdout",
          "text": [
            "\b\b\b\b\b\b\b\b\b\b\b\b\b\b\b\b\b\b\b\b\b\b\b\b\b\b\b\b\b\b\b\b\b\b\b\b\b\b\b\b\b\b\b\b\b\b\b\b\b\b\b\b\b\b\b\b\b\b\b\b\b\b\b\b\b\b\b\b\b\b\b\b\b\b\b\b\b\b\b\b\b\b\b\b\r212/212 [==============================] - 2s 11ms/step - loss: 0.9342 - accuracy: 0.7335 - val_loss: 0.8819 - val_accuracy: 0.7406\n",
            "Epoch 9/200\n",
            "200/212 [===========================>..] - ETA: 0s - loss: 0.9037 - accuracy: 0.7322\n",
            "Epoch 9: val_loss improved from 0.88194 to 0.83568, saving model to face_detector.h15\n"
          ]
        },
        {
          "output_type": "stream",
          "name": "stderr",
          "text": [
            "WARNING:absl:Found untraced functions such as _jit_compiled_convolution_op, _jit_compiled_convolution_op, _jit_compiled_convolution_op while saving (showing 3 of 3). These functions will not be directly callable after loading.\n"
          ]
        },
        {
          "output_type": "stream",
          "name": "stdout",
          "text": [
            "\b\b\b\b\b\b\b\b\b\b\b\b\b\b\b\b\b\b\b\b\b\b\b\b\b\b\b\b\b\b\b\b\b\b\b\b\b\b\b\b\b\b\b\b\b\b\b\b\b\b\b\b\b\b\b\b\b\b\b\b\b\b\b\b\b\b\b\b\b\b\b\b\b\b\b\b\b\b\b\b\b\b\b\b\r212/212 [==============================] - 2s 11ms/step - loss: 0.8978 - accuracy: 0.7341 - val_loss: 0.8357 - val_accuracy: 0.7488\n",
            "Epoch 10/200\n",
            "203/212 [===========================>..] - ETA: 0s - loss: 0.8729 - accuracy: 0.7300\n",
            "Epoch 10: val_loss improved from 0.83568 to 0.81145, saving model to face_detector.h15\n"
          ]
        },
        {
          "output_type": "stream",
          "name": "stderr",
          "text": [
            "WARNING:absl:Found untraced functions such as _jit_compiled_convolution_op, _jit_compiled_convolution_op, _jit_compiled_convolution_op while saving (showing 3 of 3). These functions will not be directly callable after loading.\n"
          ]
        },
        {
          "output_type": "stream",
          "name": "stdout",
          "text": [
            "\b\b\b\b\b\b\b\b\b\b\b\b\b\b\b\b\b\b\b\b\b\b\b\b\b\b\b\b\b\b\b\b\b\b\b\b\b\b\b\b\b\b\b\b\b\b\b\b\b\b\b\b\b\b\b\b\b\b\b\b\b\b\b\b\b\b\b\b\b\b\b\b\b\b\b\b\b\b\b\b\b\b\b\b\r212/212 [==============================] - 3s 12ms/step - loss: 0.8718 - accuracy: 0.7305 - val_loss: 0.8114 - val_accuracy: 0.7559\n",
            "Epoch 11/200\n",
            "211/212 [============================>.] - ETA: 0s - loss: 0.8235 - accuracy: 0.7435\n",
            "Epoch 11: val_loss improved from 0.81145 to 0.78227, saving model to face_detector.h15\n"
          ]
        },
        {
          "output_type": "stream",
          "name": "stderr",
          "text": [
            "WARNING:absl:Found untraced functions such as _jit_compiled_convolution_op, _jit_compiled_convolution_op, _jit_compiled_convolution_op while saving (showing 3 of 3). These functions will not be directly callable after loading.\n"
          ]
        },
        {
          "output_type": "stream",
          "name": "stdout",
          "text": [
            "\b\b\b\b\b\b\b\b\b\b\b\b\b\b\b\b\b\b\b\b\b\b\b\b\b\b\b\b\b\b\b\b\b\b\b\b\b\b\b\b\b\b\b\b\b\b\b\b\b\b\b\b\b\b\b\b\b\b\b\b\b\b\b\b\b\b\b\b\b\b\b\b\b\b\b\b\b\b\b\b\b\b\b\b\r212/212 [==============================] - 2s 11ms/step - loss: 0.8231 - accuracy: 0.7435 - val_loss: 0.7823 - val_accuracy: 0.7630\n",
            "Epoch 12/200\n",
            "199/212 [===========================>..] - ETA: 0s - loss: 0.8024 - accuracy: 0.7535\n",
            "Epoch 12: val_loss improved from 0.78227 to 0.75976, saving model to face_detector.h15\n"
          ]
        },
        {
          "output_type": "stream",
          "name": "stderr",
          "text": [
            "WARNING:absl:Found untraced functions such as _jit_compiled_convolution_op, _jit_compiled_convolution_op, _jit_compiled_convolution_op while saving (showing 3 of 3). These functions will not be directly callable after loading.\n"
          ]
        },
        {
          "output_type": "stream",
          "name": "stdout",
          "text": [
            "\b\b\b\b\b\b\b\b\b\b\b\b\b\b\b\b\b\b\b\b\b\b\b\b\b\b\b\b\b\b\b\b\b\b\b\b\b\b\b\b\b\b\b\b\b\b\b\b\b\b\b\b\b\b\b\b\b\b\b\b\b\b\b\b\b\b\b\b\b\b\b\b\b\b\b\b\b\b\b\b\b\b\b\b\r212/212 [==============================] - 2s 11ms/step - loss: 0.7996 - accuracy: 0.7529 - val_loss: 0.7598 - val_accuracy: 0.7724\n",
            "Epoch 13/200\n",
            "209/212 [============================>.] - ETA: 0s - loss: 0.7627 - accuracy: 0.7647\n",
            "Epoch 13: val_loss improved from 0.75976 to 0.73363, saving model to face_detector.h15\n"
          ]
        },
        {
          "output_type": "stream",
          "name": "stderr",
          "text": [
            "WARNING:absl:Found untraced functions such as _jit_compiled_convolution_op, _jit_compiled_convolution_op, _jit_compiled_convolution_op while saving (showing 3 of 3). These functions will not be directly callable after loading.\n"
          ]
        },
        {
          "output_type": "stream",
          "name": "stdout",
          "text": [
            "\b\b\b\b\b\b\b\b\b\b\b\b\b\b\b\b\b\b\b\b\b\b\b\b\b\b\b\b\b\b\b\b\b\b\b\b\b\b\b\b\b\b\b\b\b\b\b\b\b\b\b\b\b\b\b\b\b\b\b\b\b\b\b\b\b\b\b\b\b\b\b\b\b\b\b\b\b\b\b\b\b\b\b\b\r212/212 [==============================] - 3s 13ms/step - loss: 0.7613 - accuracy: 0.7653 - val_loss: 0.7336 - val_accuracy: 0.7665\n",
            "Epoch 14/200\n",
            "204/212 [===========================>..] - ETA: 0s - loss: 0.7573 - accuracy: 0.7687\n",
            "Epoch 14: val_loss improved from 0.73363 to 0.72195, saving model to face_detector.h15\n"
          ]
        },
        {
          "output_type": "stream",
          "name": "stderr",
          "text": [
            "WARNING:absl:Found untraced functions such as _jit_compiled_convolution_op, _jit_compiled_convolution_op, _jit_compiled_convolution_op while saving (showing 3 of 3). These functions will not be directly callable after loading.\n"
          ]
        },
        {
          "output_type": "stream",
          "name": "stdout",
          "text": [
            "\b\b\b\b\b\b\b\b\b\b\b\b\b\b\b\b\b\b\b\b\b\b\b\b\b\b\b\b\b\b\b\b\b\b\b\b\b\b\b\b\b\b\b\b\b\b\b\b\b\b\b\b\b\b\b\b\b\b\b\b\b\b\b\b\b\b\b\b\b\b\b\b\b\b\b\b\b\b\b\b\b\b\b\b\r212/212 [==============================] - 4s 17ms/step - loss: 0.7546 - accuracy: 0.7700 - val_loss: 0.7220 - val_accuracy: 0.7677\n",
            "Epoch 15/200\n",
            "208/212 [============================>.] - ETA: 0s - loss: 0.7273 - accuracy: 0.7725\n",
            "Epoch 15: val_loss improved from 0.72195 to 0.70384, saving model to face_detector.h15\n"
          ]
        },
        {
          "output_type": "stream",
          "name": "stderr",
          "text": [
            "WARNING:absl:Found untraced functions such as _jit_compiled_convolution_op, _jit_compiled_convolution_op, _jit_compiled_convolution_op while saving (showing 3 of 3). These functions will not be directly callable after loading.\n"
          ]
        },
        {
          "output_type": "stream",
          "name": "stdout",
          "text": [
            "\b\b\b\b\b\b\b\b\b\b\b\b\b\b\b\b\b\b\b\b\b\b\b\b\b\b\b\b\b\b\b\b\b\b\b\b\b\b\b\b\b\b\b\b\b\b\b\b\b\b\b\b\b\b\b\b\b\b\b\b\b\b\b\b\b\b\b\b\b\b\b\b\b\b\b\b\b\b\b\b\b\b\b\b\r212/212 [==============================] - 3s 14ms/step - loss: 0.7267 - accuracy: 0.7730 - val_loss: 0.7038 - val_accuracy: 0.7771\n",
            "Epoch 16/200\n",
            "208/212 [============================>.] - ETA: 0s - loss: 0.7116 - accuracy: 0.7779\n",
            "Epoch 16: val_loss improved from 0.70384 to 0.68992, saving model to face_detector.h15\n"
          ]
        },
        {
          "output_type": "stream",
          "name": "stderr",
          "text": [
            "WARNING:absl:Found untraced functions such as _jit_compiled_convolution_op, _jit_compiled_convolution_op, _jit_compiled_convolution_op while saving (showing 3 of 3). These functions will not be directly callable after loading.\n"
          ]
        },
        {
          "output_type": "stream",
          "name": "stdout",
          "text": [
            "\b\b\b\b\b\b\b\b\b\b\b\b\b\b\b\b\b\b\b\b\b\b\b\b\b\b\b\b\b\b\b\b\b\b\b\b\b\b\b\b\b\b\b\b\b\b\b\b\b\b\b\b\b\b\b\b\b\b\b\b\b\b\b\b\b\b\b\b\b\b\b\b\b\b\b\b\b\b\b\b\b\b\b\b\r212/212 [==============================] - 2s 11ms/step - loss: 0.7111 - accuracy: 0.7777 - val_loss: 0.6899 - val_accuracy: 0.7818\n",
            "Epoch 17/200\n",
            "204/212 [===========================>..] - ETA: 0s - loss: 0.6805 - accuracy: 0.7806\n",
            "Epoch 17: val_loss improved from 0.68992 to 0.68509, saving model to face_detector.h15\n"
          ]
        },
        {
          "output_type": "stream",
          "name": "stderr",
          "text": [
            "WARNING:absl:Found untraced functions such as _jit_compiled_convolution_op, _jit_compiled_convolution_op, _jit_compiled_convolution_op while saving (showing 3 of 3). These functions will not be directly callable after loading.\n"
          ]
        },
        {
          "output_type": "stream",
          "name": "stdout",
          "text": [
            "\b\b\b\b\b\b\b\b\b\b\b\b\b\b\b\b\b\b\b\b\b\b\b\b\b\b\b\b\b\b\b\b\b\b\b\b\b\b\b\b\b\b\b\b\b\b\b\b\b\b\b\b\b\b\b\b\b\b\b\b\b\b\b\b\b\b\b\b\b\b\b\b\b\b\b\b\b\b\b\b\b\b\b\b\r212/212 [==============================] - 2s 11ms/step - loss: 0.6858 - accuracy: 0.7789 - val_loss: 0.6851 - val_accuracy: 0.7736\n",
            "Epoch 18/200\n",
            "204/212 [===========================>..] - ETA: 0s - loss: 0.6712 - accuracy: 0.7892\n",
            "Epoch 18: val_loss improved from 0.68509 to 0.66831, saving model to face_detector.h15\n"
          ]
        },
        {
          "output_type": "stream",
          "name": "stderr",
          "text": [
            "WARNING:absl:Found untraced functions such as _jit_compiled_convolution_op, _jit_compiled_convolution_op, _jit_compiled_convolution_op while saving (showing 3 of 3). These functions will not be directly callable after loading.\n"
          ]
        },
        {
          "output_type": "stream",
          "name": "stdout",
          "text": [
            "\b\b\b\b\b\b\b\b\b\b\b\b\b\b\b\b\b\b\b\b\b\b\b\b\b\b\b\b\b\b\b\b\b\b\b\b\b\b\b\b\b\b\b\b\b\b\b\b\b\b\b\b\b\b\b\b\b\b\b\b\b\b\b\b\b\b\b\b\b\b\b\b\b\b\b\b\b\b\b\b\b\b\b\b\r212/212 [==============================] - 2s 12ms/step - loss: 0.6732 - accuracy: 0.7883 - val_loss: 0.6683 - val_accuracy: 0.7807\n",
            "Epoch 19/200\n",
            "201/212 [===========================>..] - ETA: 0s - loss: 0.6624 - accuracy: 0.7858\n",
            "Epoch 19: val_loss improved from 0.66831 to 0.64670, saving model to face_detector.h15\n"
          ]
        },
        {
          "output_type": "stream",
          "name": "stderr",
          "text": [
            "WARNING:absl:Found untraced functions such as _jit_compiled_convolution_op, _jit_compiled_convolution_op, _jit_compiled_convolution_op while saving (showing 3 of 3). These functions will not be directly callable after loading.\n"
          ]
        },
        {
          "output_type": "stream",
          "name": "stdout",
          "text": [
            "\b\b\b\b\b\b\b\b\b\b\b\b\b\b\b\b\b\b\b\b\b\b\b\b\b\b\b\b\b\b\b\b\b\b\b\b\b\b\b\b\b\b\b\b\b\b\b\b\b\b\b\b\b\b\b\b\b\b\b\b\b\b\b\b\b\b\b\b\b\b\b\b\b\b\b\b\b\b\b\b\b\b\b\b\r212/212 [==============================] - 2s 11ms/step - loss: 0.6603 - accuracy: 0.7866 - val_loss: 0.6467 - val_accuracy: 0.7842\n",
            "Epoch 20/200\n",
            "199/212 [===========================>..] - ETA: 0s - loss: 0.6589 - accuracy: 0.7908\n",
            "Epoch 20: val_loss improved from 0.64670 to 0.63152, saving model to face_detector.h15\n"
          ]
        },
        {
          "output_type": "stream",
          "name": "stderr",
          "text": [
            "WARNING:absl:Found untraced functions such as _jit_compiled_convolution_op, _jit_compiled_convolution_op, _jit_compiled_convolution_op while saving (showing 3 of 3). These functions will not be directly callable after loading.\n"
          ]
        },
        {
          "output_type": "stream",
          "name": "stdout",
          "text": [
            "\b\b\b\b\b\b\b\b\b\b\b\b\b\b\b\b\b\b\b\b\b\b\b\b\b\b\b\b\b\b\b\b\b\b\b\b\b\b\b\b\b\b\b\b\b\b\b\b\b\b\b\b\b\b\b\b\b\b\b\b\b\b\b\b\b\b\b\b\b\b\b\b\b\b\b\b\b\b\b\b\b\b\b\b\r212/212 [==============================] - 2s 11ms/step - loss: 0.6508 - accuracy: 0.7942 - val_loss: 0.6315 - val_accuracy: 0.7866\n",
            "Epoch 21/200\n",
            "210/212 [============================>.] - ETA: 0s - loss: 0.6336 - accuracy: 0.8000\n",
            "Epoch 21: val_loss improved from 0.63152 to 0.62068, saving model to face_detector.h15\n"
          ]
        },
        {
          "output_type": "stream",
          "name": "stderr",
          "text": [
            "WARNING:absl:Found untraced functions such as _jit_compiled_convolution_op, _jit_compiled_convolution_op, _jit_compiled_convolution_op while saving (showing 3 of 3). These functions will not be directly callable after loading.\n"
          ]
        },
        {
          "output_type": "stream",
          "name": "stdout",
          "text": [
            "\b\b\b\b\b\b\b\b\b\b\b\b\b\b\b\b\b\b\b\b\b\b\b\b\b\b\b\b\b\b\b\b\b\b\b\b\b\b\b\b\b\b\b\b\b\b\b\b\b\b\b\b\b\b\b\b\b\b\b\b\b\b\b\b\b\b\b\b\b\b\b\b\b\b\b\b\b\b\b\b\b\b\b\b\r212/212 [==============================] - 2s 11ms/step - loss: 0.6341 - accuracy: 0.8001 - val_loss: 0.6207 - val_accuracy: 0.7889\n",
            "Epoch 22/200\n",
            "203/212 [===========================>..] - ETA: 0s - loss: 0.6295 - accuracy: 0.7965\n",
            "Epoch 22: val_loss improved from 0.62068 to 0.60785, saving model to face_detector.h15\n"
          ]
        },
        {
          "output_type": "stream",
          "name": "stderr",
          "text": [
            "WARNING:absl:Found untraced functions such as _jit_compiled_convolution_op, _jit_compiled_convolution_op, _jit_compiled_convolution_op while saving (showing 3 of 3). These functions will not be directly callable after loading.\n"
          ]
        },
        {
          "output_type": "stream",
          "name": "stdout",
          "text": [
            "\b\b\b\b\b\b\b\b\b\b\b\b\b\b\b\b\b\b\b\b\b\b\b\b\b\b\b\b\b\b\b\b\b\b\b\b\b\b\b\b\b\b\b\b\b\b\b\b\b\b\b\b\b\b\b\b\b\b\b\b\b\b\b\b\b\b\b\b\b\b\b\b\b\b\b\b\b\b\b\b\b\b\b\b\r212/212 [==============================] - 2s 12ms/step - loss: 0.6259 - accuracy: 0.7992 - val_loss: 0.6079 - val_accuracy: 0.7925\n",
            "Epoch 23/200\n",
            "209/212 [============================>.] - ETA: 0s - loss: 0.6078 - accuracy: 0.8017\n",
            "Epoch 23: val_loss improved from 0.60785 to 0.59918, saving model to face_detector.h15\n"
          ]
        },
        {
          "output_type": "stream",
          "name": "stderr",
          "text": [
            "WARNING:absl:Found untraced functions such as _jit_compiled_convolution_op, _jit_compiled_convolution_op, _jit_compiled_convolution_op while saving (showing 3 of 3). These functions will not be directly callable after loading.\n"
          ]
        },
        {
          "output_type": "stream",
          "name": "stdout",
          "text": [
            "\b\b\b\b\b\b\b\b\b\b\b\b\b\b\b\b\b\b\b\b\b\b\b\b\b\b\b\b\b\b\b\b\b\b\b\b\b\b\b\b\b\b\b\b\b\b\b\b\b\b\b\b\b\b\b\b\b\b\b\b\b\b\b\b\b\b\b\b\b\b\b\b\b\b\b\b\b\b\b\b\b\b\b\b\r212/212 [==============================] - 2s 11ms/step - loss: 0.6088 - accuracy: 0.8013 - val_loss: 0.5992 - val_accuracy: 0.7901\n",
            "Epoch 24/200\n",
            "206/212 [============================>.] - ETA: 0s - loss: 0.5940 - accuracy: 0.8107\n",
            "Epoch 24: val_loss improved from 0.59918 to 0.58883, saving model to face_detector.h15\n"
          ]
        },
        {
          "output_type": "stream",
          "name": "stderr",
          "text": [
            "WARNING:absl:Found untraced functions such as _jit_compiled_convolution_op, _jit_compiled_convolution_op, _jit_compiled_convolution_op while saving (showing 3 of 3). These functions will not be directly callable after loading.\n"
          ]
        },
        {
          "output_type": "stream",
          "name": "stdout",
          "text": [
            "\b\b\b\b\b\b\b\b\b\b\b\b\b\b\b\b\b\b\b\b\b\b\b\b\b\b\b\b\b\b\b\b\b\b\b\b\b\b\b\b\b\b\b\b\b\b\b\b\b\b\b\b\b\b\b\b\b\b\b\b\b\b\b\b\b\b\b\b\b\b\b\b\b\b\b\b\b\b\b\b\b\b\b\b\r212/212 [==============================] - 2s 11ms/step - loss: 0.5942 - accuracy: 0.8116 - val_loss: 0.5888 - val_accuracy: 0.8054\n",
            "Epoch 25/200\n",
            "208/212 [============================>.] - ETA: 0s - loss: 0.5962 - accuracy: 0.8086\n",
            "Epoch 25: val_loss did not improve from 0.58883\n",
            "212/212 [==============================] - 1s 5ms/step - loss: 0.5963 - accuracy: 0.8087 - val_loss: 0.5903 - val_accuracy: 0.8007\n",
            "Epoch 26/200\n",
            "201/212 [===========================>..] - ETA: 0s - loss: 0.5752 - accuracy: 0.8169\n",
            "Epoch 26: val_loss improved from 0.58883 to 0.57364, saving model to face_detector.h15\n"
          ]
        },
        {
          "output_type": "stream",
          "name": "stderr",
          "text": [
            "WARNING:absl:Found untraced functions such as _jit_compiled_convolution_op, _jit_compiled_convolution_op, _jit_compiled_convolution_op while saving (showing 3 of 3). These functions will not be directly callable after loading.\n"
          ]
        },
        {
          "output_type": "stream",
          "name": "stdout",
          "text": [
            "\b\b\b\b\b\b\b\b\b\b\b\b\b\b\b\b\b\b\b\b\b\b\b\b\b\b\b\b\b\b\b\b\b\b\b\b\b\b\b\b\b\b\b\b\b\b\b\b\b\b\b\b\b\b\b\b\b\b\b\b\b\b\b\b\b\b\b\b\b\b\b\b\b\b\b\b\b\b\b\b\b\b\b\b\r212/212 [==============================] - 3s 12ms/step - loss: 0.5791 - accuracy: 0.8149 - val_loss: 0.5736 - val_accuracy: 0.8090\n",
            "Epoch 27/200\n",
            "201/212 [===========================>..] - ETA: 0s - loss: 0.5705 - accuracy: 0.8109\n",
            "Epoch 27: val_loss improved from 0.57364 to 0.56514, saving model to face_detector.h15\n"
          ]
        },
        {
          "output_type": "stream",
          "name": "stderr",
          "text": [
            "WARNING:absl:Found untraced functions such as _jit_compiled_convolution_op, _jit_compiled_convolution_op, _jit_compiled_convolution_op while saving (showing 3 of 3). These functions will not be directly callable after loading.\n"
          ]
        },
        {
          "output_type": "stream",
          "name": "stdout",
          "text": [
            "\b\b\b\b\b\b\b\b\b\b\b\b\b\b\b\b\b\b\b\b\b\b\b\b\b\b\b\b\b\b\b\b\b\b\b\b\b\b\b\b\b\b\b\b\b\b\b\b\b\b\b\b\b\b\b\b\b\b\b\b\b\b\b\b\b\b\b\b\b\b\b\b\b\b\b\b\b\b\b\b\b\b\b\b\r212/212 [==============================] - 3s 15ms/step - loss: 0.5742 - accuracy: 0.8104 - val_loss: 0.5651 - val_accuracy: 0.8078\n",
            "Epoch 28/200\n",
            "199/212 [===========================>..] - ETA: 0s - loss: 0.5539 - accuracy: 0.8219\n",
            "Epoch 28: val_loss improved from 0.56514 to 0.56310, saving model to face_detector.h15\n"
          ]
        },
        {
          "output_type": "stream",
          "name": "stderr",
          "text": [
            "WARNING:absl:Found untraced functions such as _jit_compiled_convolution_op, _jit_compiled_convolution_op, _jit_compiled_convolution_op while saving (showing 3 of 3). These functions will not be directly callable after loading.\n"
          ]
        },
        {
          "output_type": "stream",
          "name": "stdout",
          "text": [
            "\b\b\b\b\b\b\b\b\b\b\b\b\b\b\b\b\b\b\b\b\b\b\b\b\b\b\b\b\b\b\b\b\b\b\b\b\b\b\b\b\b\b\b\b\b\b\b\b\b\b\b\b\b\b\b\b\b\b\b\b\b\b\b\b\b\b\b\b\b\b\b\b\b\b\b\b\b\b\b\b\b\b\b\b\r212/212 [==============================] - 2s 11ms/step - loss: 0.5523 - accuracy: 0.8219 - val_loss: 0.5631 - val_accuracy: 0.8019\n",
            "Epoch 29/200\n",
            "204/212 [===========================>..] - ETA: 0s - loss: 0.5432 - accuracy: 0.8266\n",
            "Epoch 29: val_loss improved from 0.56310 to 0.55264, saving model to face_detector.h15\n"
          ]
        },
        {
          "output_type": "stream",
          "name": "stderr",
          "text": [
            "WARNING:absl:Found untraced functions such as _jit_compiled_convolution_op, _jit_compiled_convolution_op, _jit_compiled_convolution_op while saving (showing 3 of 3). These functions will not be directly callable after loading.\n"
          ]
        },
        {
          "output_type": "stream",
          "name": "stdout",
          "text": [
            "\b\b\b\b\b\b\b\b\b\b\b\b\b\b\b\b\b\b\b\b\b\b\b\b\b\b\b\b\b\b\b\b\b\b\b\b\b\b\b\b\b\b\b\b\b\b\b\b\b\b\b\b\b\b\b\b\b\b\b\b\b\b\b\b\b\b\b\b\b\b\b\b\b\b\b\b\b\b\b\b\b\b\b\b\r212/212 [==============================] - 2s 11ms/step - loss: 0.5468 - accuracy: 0.8249 - val_loss: 0.5526 - val_accuracy: 0.8125\n",
            "Epoch 30/200\n",
            "211/212 [============================>.] - ETA: 0s - loss: 0.5365 - accuracy: 0.8320\n",
            "Epoch 30: val_loss improved from 0.55264 to 0.54796, saving model to face_detector.h15\n"
          ]
        },
        {
          "output_type": "stream",
          "name": "stderr",
          "text": [
            "WARNING:absl:Found untraced functions such as _jit_compiled_convolution_op, _jit_compiled_convolution_op, _jit_compiled_convolution_op while saving (showing 3 of 3). These functions will not be directly callable after loading.\n"
          ]
        },
        {
          "output_type": "stream",
          "name": "stdout",
          "text": [
            "\b\b\b\b\b\b\b\b\b\b\b\b\b\b\b\b\b\b\b\b\b\b\b\b\b\b\b\b\b\b\b\b\b\b\b\b\b\b\b\b\b\b\b\b\b\b\b\b\b\b\b\b\b\b\b\b\b\b\b\b\b\b\b\b\b\b\b\b\b\b\b\b\b\b\b\b\b\b\b\b\b\b\b\b\r212/212 [==============================] - 2s 11ms/step - loss: 0.5357 - accuracy: 0.8323 - val_loss: 0.5480 - val_accuracy: 0.8149\n",
            "Epoch 31/200\n",
            "209/212 [============================>.] - ETA: 0s - loss: 0.5394 - accuracy: 0.8292\n",
            "Epoch 31: val_loss improved from 0.54796 to 0.53840, saving model to face_detector.h15\n"
          ]
        },
        {
          "output_type": "stream",
          "name": "stderr",
          "text": [
            "WARNING:absl:Found untraced functions such as _jit_compiled_convolution_op, _jit_compiled_convolution_op, _jit_compiled_convolution_op while saving (showing 3 of 3). These functions will not be directly callable after loading.\n"
          ]
        },
        {
          "output_type": "stream",
          "name": "stdout",
          "text": [
            "\b\b\b\b\b\b\b\b\b\b\b\b\b\b\b\b\b\b\b\b\b\b\b\b\b\b\b\b\b\b\b\b\b\b\b\b\b\b\b\b\b\b\b\b\b\b\b\b\b\b\b\b\b\b\b\b\b\b\b\b\b\b\b\b\b\b\b\b\b\b\b\b\b\b\b\b\b\b\b\b\b\b\b\b\r212/212 [==============================] - 3s 12ms/step - loss: 0.5377 - accuracy: 0.8302 - val_loss: 0.5384 - val_accuracy: 0.8160\n",
            "Epoch 32/200\n",
            "211/212 [============================>.] - ETA: 0s - loss: 0.5237 - accuracy: 0.8383\n",
            "Epoch 32: val_loss improved from 0.53840 to 0.53008, saving model to face_detector.h15\n"
          ]
        },
        {
          "output_type": "stream",
          "name": "stderr",
          "text": [
            "WARNING:absl:Found untraced functions such as _jit_compiled_convolution_op, _jit_compiled_convolution_op, _jit_compiled_convolution_op while saving (showing 3 of 3). These functions will not be directly callable after loading.\n"
          ]
        },
        {
          "output_type": "stream",
          "name": "stdout",
          "text": [
            "\b\b\b\b\b\b\b\b\b\b\b\b\b\b\b\b\b\b\b\b\b\b\b\b\b\b\b\b\b\b\b\b\b\b\b\b\b\b\b\b\b\b\b\b\b\b\b\b\b\b\b\b\b\b\b\b\b\b\b\b\b\b\b\b\b\b\b\b\b\b\b\b\b\b\b\b\b\b\b\b\b\b\b\b\r212/212 [==============================] - 2s 11ms/step - loss: 0.5230 - accuracy: 0.8384 - val_loss: 0.5301 - val_accuracy: 0.8278\n",
            "Epoch 33/200\n",
            "199/212 [===========================>..] - ETA: 0s - loss: 0.5138 - accuracy: 0.8332\n",
            "Epoch 33: val_loss improved from 0.53008 to 0.52525, saving model to face_detector.h15\n"
          ]
        },
        {
          "output_type": "stream",
          "name": "stderr",
          "text": [
            "WARNING:absl:Found untraced functions such as _jit_compiled_convolution_op, _jit_compiled_convolution_op, _jit_compiled_convolution_op while saving (showing 3 of 3). These functions will not be directly callable after loading.\n"
          ]
        },
        {
          "output_type": "stream",
          "name": "stdout",
          "text": [
            "\b\b\b\b\b\b\b\b\b\b\b\b\b\b\b\b\b\b\b\b\b\b\b\b\b\b\b\b\b\b\b\b\b\b\b\b\b\b\b\b\b\b\b\b\b\b\b\b\b\b\b\b\b\b\b\b\b\b\b\b\b\b\b\b\b\b\b\b\b\b\b\b\b\b\b\b\b\b\b\b\b\b\b\b\r212/212 [==============================] - 2s 11ms/step - loss: 0.5152 - accuracy: 0.8311 - val_loss: 0.5252 - val_accuracy: 0.8231\n",
            "Epoch 34/200\n",
            "209/212 [============================>.] - ETA: 0s - loss: 0.5231 - accuracy: 0.8260\n",
            "Epoch 34: val_loss improved from 0.52525 to 0.52089, saving model to face_detector.h15\n"
          ]
        },
        {
          "output_type": "stream",
          "name": "stderr",
          "text": [
            "WARNING:absl:Found untraced functions such as _jit_compiled_convolution_op, _jit_compiled_convolution_op, _jit_compiled_convolution_op while saving (showing 3 of 3). These functions will not be directly callable after loading.\n"
          ]
        },
        {
          "output_type": "stream",
          "name": "stdout",
          "text": [
            "\b\b\b\b\b\b\b\b\b\b\b\b\b\b\b\b\b\b\b\b\b\b\b\b\b\b\b\b\b\b\b\b\b\b\b\b\b\b\b\b\b\b\b\b\b\b\b\b\b\b\b\b\b\b\b\b\b\b\b\b\b\b\b\b\b\b\b\b\b\b\b\b\b\b\b\b\b\b\b\b\b\b\b\b\r212/212 [==============================] - 2s 11ms/step - loss: 0.5212 - accuracy: 0.8272 - val_loss: 0.5209 - val_accuracy: 0.8196\n",
            "Epoch 35/200\n",
            "207/212 [============================>.] - ETA: 0s - loss: 0.5055 - accuracy: 0.8379\n",
            "Epoch 35: val_loss improved from 0.52089 to 0.51747, saving model to face_detector.h15\n"
          ]
        },
        {
          "output_type": "stream",
          "name": "stderr",
          "text": [
            "WARNING:absl:Found untraced functions such as _jit_compiled_convolution_op, _jit_compiled_convolution_op, _jit_compiled_convolution_op while saving (showing 3 of 3). These functions will not be directly callable after loading.\n"
          ]
        },
        {
          "output_type": "stream",
          "name": "stdout",
          "text": [
            "\b\b\b\b\b\b\b\b\b\b\b\b\b\b\b\b\b\b\b\b\b\b\b\b\b\b\b\b\b\b\b\b\b\b\b\b\b\b\b\b\b\b\b\b\b\b\b\b\b\b\b\b\b\b\b\b\b\b\b\b\b\b\b\b\b\b\b\b\b\b\b\b\b\b\b\b\b\b\b\b\b\b\b\b\r212/212 [==============================] - 3s 12ms/step - loss: 0.5056 - accuracy: 0.8379 - val_loss: 0.5175 - val_accuracy: 0.8219\n",
            "Epoch 36/200\n",
            "201/212 [===========================>..] - ETA: 0s - loss: 0.4876 - accuracy: 0.8486\n",
            "Epoch 36: val_loss improved from 0.51747 to 0.50821, saving model to face_detector.h15\n"
          ]
        },
        {
          "output_type": "stream",
          "name": "stderr",
          "text": [
            "WARNING:absl:Found untraced functions such as _jit_compiled_convolution_op, _jit_compiled_convolution_op, _jit_compiled_convolution_op while saving (showing 3 of 3). These functions will not be directly callable after loading.\n"
          ]
        },
        {
          "output_type": "stream",
          "name": "stdout",
          "text": [
            "\b\b\b\b\b\b\b\b\b\b\b\b\b\b\b\b\b\b\b\b\b\b\b\b\b\b\b\b\b\b\b\b\b\b\b\b\b\b\b\b\b\b\b\b\b\b\b\b\b\b\b\b\b\b\b\b\b\b\b\b\b\b\b\b\b\b\b\b\b\b\b\b\b\b\b\b\b\b\b\b\b\b\b\b\r212/212 [==============================] - 2s 11ms/step - loss: 0.4877 - accuracy: 0.8479 - val_loss: 0.5082 - val_accuracy: 0.8278\n",
            "Epoch 37/200\n",
            "209/212 [============================>.] - ETA: 0s - loss: 0.4848 - accuracy: 0.8499\n",
            "Epoch 37: val_loss improved from 0.50821 to 0.50540, saving model to face_detector.h15\n"
          ]
        },
        {
          "output_type": "stream",
          "name": "stderr",
          "text": [
            "WARNING:absl:Found untraced functions such as _jit_compiled_convolution_op, _jit_compiled_convolution_op, _jit_compiled_convolution_op while saving (showing 3 of 3). These functions will not be directly callable after loading.\n"
          ]
        },
        {
          "output_type": "stream",
          "name": "stdout",
          "text": [
            "\b\b\b\b\b\b\b\b\b\b\b\b\b\b\b\b\b\b\b\b\b\b\b\b\b\b\b\b\b\b\b\b\b\b\b\b\b\b\b\b\b\b\b\b\b\b\b\b\b\b\b\b\b\b\b\b\b\b\b\b\b\b\b\b\b\b\b\b\b\b\b\b\b\b\b\b\b\b\b\b\b\b\b\b\r212/212 [==============================] - 2s 11ms/step - loss: 0.4886 - accuracy: 0.8473 - val_loss: 0.5054 - val_accuracy: 0.8314\n",
            "Epoch 38/200\n",
            "212/212 [==============================] - ETA: 0s - loss: 0.4776 - accuracy: 0.8435\n",
            "Epoch 38: val_loss improved from 0.50540 to 0.49989, saving model to face_detector.h15\n"
          ]
        },
        {
          "output_type": "stream",
          "name": "stderr",
          "text": [
            "WARNING:absl:Found untraced functions such as _jit_compiled_convolution_op, _jit_compiled_convolution_op, _jit_compiled_convolution_op while saving (showing 3 of 3). These functions will not be directly callable after loading.\n"
          ]
        },
        {
          "output_type": "stream",
          "name": "stdout",
          "text": [
            "\b\b\b\b\b\b\b\b\b\b\b\b\b\b\b\b\b\b\b\b\b\b\b\b\b\b\b\b\b\b\b\b\b\b\b\b\b\b\b\b\b\b\b\b\b\b\b\b\b\b\b\b\b\b\b\b\b\b\b\b\b\b\b\b\b\b\b\b\b\b\b\b\b\b\b\b\b\b\b\b\b\b\b\b\r212/212 [==============================] - 2s 11ms/step - loss: 0.4776 - accuracy: 0.8435 - val_loss: 0.4999 - val_accuracy: 0.8302\n",
            "Epoch 39/200\n",
            "200/212 [===========================>..] - ETA: 0s - loss: 0.4800 - accuracy: 0.8453\n",
            "Epoch 39: val_loss did not improve from 0.49989\n",
            "212/212 [==============================] - 1s 5ms/step - loss: 0.4749 - accuracy: 0.8473 - val_loss: 0.5009 - val_accuracy: 0.8373\n",
            "Epoch 40/200\n",
            "202/212 [===========================>..] - ETA: 0s - loss: 0.4716 - accuracy: 0.8502\n",
            "Epoch 40: val_loss improved from 0.49989 to 0.49009, saving model to face_detector.h15\n"
          ]
        },
        {
          "output_type": "stream",
          "name": "stderr",
          "text": [
            "WARNING:absl:Found untraced functions such as _jit_compiled_convolution_op, _jit_compiled_convolution_op, _jit_compiled_convolution_op while saving (showing 3 of 3). These functions will not be directly callable after loading.\n"
          ]
        },
        {
          "output_type": "stream",
          "name": "stdout",
          "text": [
            "\b\b\b\b\b\b\b\b\b\b\b\b\b\b\b\b\b\b\b\b\b\b\b\b\b\b\b\b\b\b\b\b\b\b\b\b\b\b\b\b\b\b\b\b\b\b\b\b\b\b\b\b\b\b\b\b\b\b\b\b\b\b\b\b\b\b\b\b\b\b\b\b\b\b\b\b\b\b\b\b\b\b\b\b\r212/212 [==============================] - 3s 12ms/step - loss: 0.4735 - accuracy: 0.8499 - val_loss: 0.4901 - val_accuracy: 0.8420\n",
            "Epoch 41/200\n",
            "210/212 [============================>.] - ETA: 0s - loss: 0.4620 - accuracy: 0.8583\n",
            "Epoch 41: val_loss improved from 0.49009 to 0.48726, saving model to face_detector.h15\n"
          ]
        },
        {
          "output_type": "stream",
          "name": "stderr",
          "text": [
            "WARNING:absl:Found untraced functions such as _jit_compiled_convolution_op, _jit_compiled_convolution_op, _jit_compiled_convolution_op while saving (showing 3 of 3). These functions will not be directly callable after loading.\n"
          ]
        },
        {
          "output_type": "stream",
          "name": "stdout",
          "text": [
            "\b\b\b\b\b\b\b\b\b\b\b\b\b\b\b\b\b\b\b\b\b\b\b\b\b\b\b\b\b\b\b\b\b\b\b\b\b\b\b\b\b\b\b\b\b\b\b\b\b\b\b\b\b\b\b\b\b\b\b\b\b\b\b\b\b\b\b\b\b\b\b\b\b\b\b\b\b\b\b\b\b\b\b\b\r212/212 [==============================] - 2s 11ms/step - loss: 0.4615 - accuracy: 0.8594 - val_loss: 0.4873 - val_accuracy: 0.8325\n",
            "Epoch 42/200\n",
            "212/212 [==============================] - ETA: 0s - loss: 0.4537 - accuracy: 0.8555\n",
            "Epoch 42: val_loss did not improve from 0.48726\n",
            "212/212 [==============================] - 1s 5ms/step - loss: 0.4537 - accuracy: 0.8555 - val_loss: 0.4890 - val_accuracy: 0.8361\n",
            "Epoch 43/200\n",
            "199/212 [===========================>..] - ETA: 0s - loss: 0.4584 - accuracy: 0.8518\n",
            "Epoch 43: val_loss improved from 0.48726 to 0.48369, saving model to face_detector.h15\n"
          ]
        },
        {
          "output_type": "stream",
          "name": "stderr",
          "text": [
            "WARNING:absl:Found untraced functions such as _jit_compiled_convolution_op, _jit_compiled_convolution_op, _jit_compiled_convolution_op while saving (showing 3 of 3). These functions will not be directly callable after loading.\n"
          ]
        },
        {
          "output_type": "stream",
          "name": "stdout",
          "text": [
            "\b\b\b\b\b\b\b\b\b\b\b\b\b\b\b\b\b\b\b\b\b\b\b\b\b\b\b\b\b\b\b\b\b\b\b\b\b\b\b\b\b\b\b\b\b\b\b\b\b\b\b\b\b\b\b\b\b\b\b\b\b\b\b\b\b\b\b\b\b\b\b\b\b\b\b\b\b\b\b\b\b\b\b\b\r212/212 [==============================] - 2s 11ms/step - loss: 0.4529 - accuracy: 0.8529 - val_loss: 0.4837 - val_accuracy: 0.8314\n",
            "Epoch 44/200\n",
            "205/212 [============================>.] - ETA: 0s - loss: 0.4440 - accuracy: 0.8530\n",
            "Epoch 44: val_loss improved from 0.48369 to 0.46680, saving model to face_detector.h15\n"
          ]
        },
        {
          "output_type": "stream",
          "name": "stderr",
          "text": [
            "WARNING:absl:Found untraced functions such as _jit_compiled_convolution_op, _jit_compiled_convolution_op, _jit_compiled_convolution_op while saving (showing 3 of 3). These functions will not be directly callable after loading.\n"
          ]
        },
        {
          "output_type": "stream",
          "name": "stdout",
          "text": [
            "\b\b\b\b\b\b\b\b\b\b\b\b\b\b\b\b\b\b\b\b\b\b\b\b\b\b\b\b\b\b\b\b\b\b\b\b\b\b\b\b\b\b\b\b\b\b\b\b\b\b\b\b\b\b\b\b\b\b\b\b\b\b\b\b\b\b\b\b\b\b\b\b\b\b\b\b\b\b\b\b\b\b\b\b\r212/212 [==============================] - 2s 11ms/step - loss: 0.4401 - accuracy: 0.8552 - val_loss: 0.4668 - val_accuracy: 0.8455\n",
            "Epoch 45/200\n",
            "206/212 [============================>.] - ETA: 0s - loss: 0.4377 - accuracy: 0.8580\n",
            "Epoch 45: val_loss improved from 0.46680 to 0.46537, saving model to face_detector.h15\n"
          ]
        },
        {
          "output_type": "stream",
          "name": "stderr",
          "text": [
            "WARNING:absl:Found untraced functions such as _jit_compiled_convolution_op, _jit_compiled_convolution_op, _jit_compiled_convolution_op while saving (showing 3 of 3). These functions will not be directly callable after loading.\n"
          ]
        },
        {
          "output_type": "stream",
          "name": "stdout",
          "text": [
            "\b\b\b\b\b\b\b\b\b\b\b\b\b\b\b\b\b\b\b\b\b\b\b\b\b\b\b\b\b\b\b\b\b\b\b\b\b\b\b\b\b\b\b\b\b\b\b\b\b\b\b\b\b\b\b\b\b\b\b\b\b\b\b\b\b\b\b\b\b\b\b\b\b\b\b\b\b\b\b\b\b\b\b\b\r212/212 [==============================] - 3s 12ms/step - loss: 0.4354 - accuracy: 0.8603 - val_loss: 0.4654 - val_accuracy: 0.8396\n",
            "Epoch 46/200\n",
            "200/212 [===========================>..] - ETA: 0s - loss: 0.4364 - accuracy: 0.8578\n",
            "Epoch 46: val_loss improved from 0.46537 to 0.46465, saving model to face_detector.h15\n"
          ]
        },
        {
          "output_type": "stream",
          "name": "stderr",
          "text": [
            "WARNING:absl:Found untraced functions such as _jit_compiled_convolution_op, _jit_compiled_convolution_op, _jit_compiled_convolution_op while saving (showing 3 of 3). These functions will not be directly callable after loading.\n"
          ]
        },
        {
          "output_type": "stream",
          "name": "stdout",
          "text": [
            "\b\b\b\b\b\b\b\b\b\b\b\b\b\b\b\b\b\b\b\b\b\b\b\b\b\b\b\b\b\b\b\b\b\b\b\b\b\b\b\b\b\b\b\b\b\b\b\b\b\b\b\b\b\b\b\b\b\b\b\b\b\b\b\b\b\b\b\b\b\b\b\b\b\b\b\b\b\b\b\b\b\b\b\b\r212/212 [==============================] - 2s 11ms/step - loss: 0.4373 - accuracy: 0.8570 - val_loss: 0.4647 - val_accuracy: 0.8396\n",
            "Epoch 47/200\n",
            "200/212 [===========================>..] - ETA: 0s - loss: 0.4243 - accuracy: 0.8703\n",
            "Epoch 47: val_loss improved from 0.46465 to 0.46216, saving model to face_detector.h15\n"
          ]
        },
        {
          "output_type": "stream",
          "name": "stderr",
          "text": [
            "WARNING:absl:Found untraced functions such as _jit_compiled_convolution_op, _jit_compiled_convolution_op, _jit_compiled_convolution_op while saving (showing 3 of 3). These functions will not be directly callable after loading.\n"
          ]
        },
        {
          "output_type": "stream",
          "name": "stdout",
          "text": [
            "\b\b\b\b\b\b\b\b\b\b\b\b\b\b\b\b\b\b\b\b\b\b\b\b\b\b\b\b\b\b\b\b\b\b\b\b\b\b\b\b\b\b\b\b\b\b\b\b\b\b\b\b\b\b\b\b\b\b\b\b\b\b\b\b\b\b\b\b\b\b\b\b\b\b\b\b\b\b\b\b\b\b\b\b\r212/212 [==============================] - 2s 11ms/step - loss: 0.4266 - accuracy: 0.8691 - val_loss: 0.4622 - val_accuracy: 0.8479\n",
            "Epoch 48/200\n",
            "208/212 [============================>.] - ETA: 0s - loss: 0.4146 - accuracy: 0.8780\n",
            "Epoch 48: val_loss improved from 0.46216 to 0.45858, saving model to face_detector.h15\n"
          ]
        },
        {
          "output_type": "stream",
          "name": "stderr",
          "text": [
            "WARNING:absl:Found untraced functions such as _jit_compiled_convolution_op, _jit_compiled_convolution_op, _jit_compiled_convolution_op while saving (showing 3 of 3). These functions will not be directly callable after loading.\n"
          ]
        },
        {
          "output_type": "stream",
          "name": "stdout",
          "text": [
            "\b\b\b\b\b\b\b\b\b\b\b\b\b\b\b\b\b\b\b\b\b\b\b\b\b\b\b\b\b\b\b\b\b\b\b\b\b\b\b\b\b\b\b\b\b\b\b\b\b\b\b\b\b\b\b\b\b\b\b\b\b\b\b\b\b\b\b\b\b\b\b\b\b\b\b\b\b\b\b\b\b\b\b\b\r212/212 [==============================] - 2s 11ms/step - loss: 0.4125 - accuracy: 0.8791 - val_loss: 0.4586 - val_accuracy: 0.8420\n",
            "Epoch 49/200\n",
            "202/212 [===========================>..] - ETA: 0s - loss: 0.4125 - accuracy: 0.8666\n",
            "Epoch 49: val_loss did not improve from 0.45858\n",
            "212/212 [==============================] - 1s 5ms/step - loss: 0.4086 - accuracy: 0.8688 - val_loss: 0.4593 - val_accuracy: 0.8384\n",
            "Epoch 50/200\n",
            "207/212 [============================>.] - ETA: 0s - loss: 0.4108 - accuracy: 0.8732\n",
            "Epoch 50: val_loss improved from 0.45858 to 0.44728, saving model to face_detector.h15\n"
          ]
        },
        {
          "output_type": "stream",
          "name": "stderr",
          "text": [
            "WARNING:absl:Found untraced functions such as _jit_compiled_convolution_op, _jit_compiled_convolution_op, _jit_compiled_convolution_op while saving (showing 3 of 3). These functions will not be directly callable after loading.\n"
          ]
        },
        {
          "output_type": "stream",
          "name": "stdout",
          "text": [
            "\b\b\b\b\b\b\b\b\b\b\b\b\b\b\b\b\b\b\b\b\b\b\b\b\b\b\b\b\b\b\b\b\b\b\b\b\b\b\b\b\b\b\b\b\b\b\b\b\b\b\b\b\b\b\b\b\b\b\b\b\b\b\b\b\b\b\b\b\b\b\b\b\b\b\b\b\b\b\b\b\b\b\b\b\r212/212 [==============================] - 4s 21ms/step - loss: 0.4096 - accuracy: 0.8738 - val_loss: 0.4473 - val_accuracy: 0.8443\n",
            "Epoch 51/200\n",
            "208/212 [============================>.] - ETA: 0s - loss: 0.3962 - accuracy: 0.8741\n",
            "Epoch 51: val_loss improved from 0.44728 to 0.44202, saving model to face_detector.h15\n"
          ]
        },
        {
          "output_type": "stream",
          "name": "stderr",
          "text": [
            "WARNING:absl:Found untraced functions such as _jit_compiled_convolution_op, _jit_compiled_convolution_op, _jit_compiled_convolution_op while saving (showing 3 of 3). These functions will not be directly callable after loading.\n"
          ]
        },
        {
          "output_type": "stream",
          "name": "stdout",
          "text": [
            "\b\b\b\b\b\b\b\b\b\b\b\b\b\b\b\b\b\b\b\b\b\b\b\b\b\b\b\b\b\b\b\b\b\b\b\b\b\b\b\b\b\b\b\b\b\b\b\b\b\b\b\b\b\b\b\b\b\b\b\b\b\b\b\b\b\b\b\b\b\b\b\b\b\b\b\b\b\b\b\b\b\b\b\b\r212/212 [==============================] - 3s 15ms/step - loss: 0.3962 - accuracy: 0.8747 - val_loss: 0.4420 - val_accuracy: 0.8573\n",
            "Epoch 52/200\n",
            "204/212 [===========================>..] - ETA: 0s - loss: 0.4067 - accuracy: 0.8707\n",
            "Epoch 52: val_loss did not improve from 0.44202\n",
            "212/212 [==============================] - 1s 5ms/step - loss: 0.4038 - accuracy: 0.8721 - val_loss: 0.4495 - val_accuracy: 0.8644\n",
            "Epoch 53/200\n",
            "205/212 [============================>.] - ETA: 0s - loss: 0.3877 - accuracy: 0.8784\n",
            "Epoch 53: val_loss improved from 0.44202 to 0.43794, saving model to face_detector.h15\n"
          ]
        },
        {
          "output_type": "stream",
          "name": "stderr",
          "text": [
            "WARNING:absl:Found untraced functions such as _jit_compiled_convolution_op, _jit_compiled_convolution_op, _jit_compiled_convolution_op while saving (showing 3 of 3). These functions will not be directly callable after loading.\n"
          ]
        },
        {
          "output_type": "stream",
          "name": "stdout",
          "text": [
            "\b\b\b\b\b\b\b\b\b\b\b\b\b\b\b\b\b\b\b\b\b\b\b\b\b\b\b\b\b\b\b\b\b\b\b\b\b\b\b\b\b\b\b\b\b\b\b\b\b\b\b\b\b\b\b\b\b\b\b\b\b\b\b\b\b\b\b\b\b\b\b\b\b\b\b\b\b\b\b\b\b\b\b\b\r212/212 [==============================] - 2s 11ms/step - loss: 0.3875 - accuracy: 0.8774 - val_loss: 0.4379 - val_accuracy: 0.8585\n",
            "Epoch 54/200\n",
            "211/212 [============================>.] - ETA: 0s - loss: 0.3935 - accuracy: 0.8750\n",
            "Epoch 54: val_loss did not improve from 0.43794\n",
            "212/212 [==============================] - 1s 5ms/step - loss: 0.3928 - accuracy: 0.8753 - val_loss: 0.4446 - val_accuracy: 0.8538\n",
            "Epoch 55/200\n",
            "201/212 [===========================>..] - ETA: 0s - loss: 0.3886 - accuracy: 0.8784\n",
            "Epoch 55: val_loss improved from 0.43794 to 0.42905, saving model to face_detector.h15\n"
          ]
        },
        {
          "output_type": "stream",
          "name": "stderr",
          "text": [
            "WARNING:absl:Found untraced functions such as _jit_compiled_convolution_op, _jit_compiled_convolution_op, _jit_compiled_convolution_op while saving (showing 3 of 3). These functions will not be directly callable after loading.\n"
          ]
        },
        {
          "output_type": "stream",
          "name": "stdout",
          "text": [
            "\b\b\b\b\b\b\b\b\b\b\b\b\b\b\b\b\b\b\b\b\b\b\b\b\b\b\b\b\b\b\b\b\b\b\b\b\b\b\b\b\b\b\b\b\b\b\b\b\b\b\b\b\b\b\b\b\b\b\b\b\b\b\b\b\b\b\b\b\b\b\b\b\b\b\b\b\b\b\b\b\b\b\b\b\r212/212 [==============================] - 2s 11ms/step - loss: 0.3845 - accuracy: 0.8803 - val_loss: 0.4291 - val_accuracy: 0.8644\n",
            "Epoch 56/200\n",
            "202/212 [===========================>..] - ETA: 0s - loss: 0.3710 - accuracy: 0.8846\n",
            "Epoch 56: val_loss improved from 0.42905 to 0.42733, saving model to face_detector.h15\n"
          ]
        },
        {
          "output_type": "stream",
          "name": "stderr",
          "text": [
            "WARNING:absl:Found untraced functions such as _jit_compiled_convolution_op, _jit_compiled_convolution_op, _jit_compiled_convolution_op while saving (showing 3 of 3). These functions will not be directly callable after loading.\n"
          ]
        },
        {
          "output_type": "stream",
          "name": "stdout",
          "text": [
            "\b\b\b\b\b\b\b\b\b\b\b\b\b\b\b\b\b\b\b\b\b\b\b\b\b\b\b\b\b\b\b\b\b\b\b\b\b\b\b\b\b\b\b\b\b\b\b\b\b\b\b\b\b\b\b\b\b\b\b\b\b\b\b\b\b\b\b\b\b\b\b\b\b\b\b\b\b\b\b\b\b\b\b\b\r212/212 [==============================] - 3s 12ms/step - loss: 0.3708 - accuracy: 0.8844 - val_loss: 0.4273 - val_accuracy: 0.8585\n",
            "Epoch 57/200\n",
            "207/212 [============================>.] - ETA: 0s - loss: 0.3705 - accuracy: 0.8832\n",
            "Epoch 57: val_loss did not improve from 0.42733\n",
            "212/212 [==============================] - 1s 5ms/step - loss: 0.3708 - accuracy: 0.8830 - val_loss: 0.4292 - val_accuracy: 0.8597\n",
            "Epoch 58/200\n",
            "208/212 [============================>.] - ETA: 0s - loss: 0.3623 - accuracy: 0.8870\n",
            "Epoch 58: val_loss improved from 0.42733 to 0.41327, saving model to face_detector.h15\n"
          ]
        },
        {
          "output_type": "stream",
          "name": "stderr",
          "text": [
            "WARNING:absl:Found untraced functions such as _jit_compiled_convolution_op, _jit_compiled_convolution_op, _jit_compiled_convolution_op while saving (showing 3 of 3). These functions will not be directly callable after loading.\n"
          ]
        },
        {
          "output_type": "stream",
          "name": "stdout",
          "text": [
            "\b\b\b\b\b\b\b\b\b\b\b\b\b\b\b\b\b\b\b\b\b\b\b\b\b\b\b\b\b\b\b\b\b\b\b\b\b\b\b\b\b\b\b\b\b\b\b\b\b\b\b\b\b\b\b\b\b\b\b\b\b\b\b\b\b\b\b\b\b\b\b\b\b\b\b\b\b\b\b\b\b\b\b\b\r212/212 [==============================] - 2s 11ms/step - loss: 0.3602 - accuracy: 0.8874 - val_loss: 0.4133 - val_accuracy: 0.8644\n",
            "Epoch 59/200\n",
            "210/212 [============================>.] - ETA: 0s - loss: 0.3640 - accuracy: 0.8860\n",
            "Epoch 59: val_loss did not improve from 0.41327\n",
            "212/212 [==============================] - 1s 5ms/step - loss: 0.3622 - accuracy: 0.8868 - val_loss: 0.4205 - val_accuracy: 0.8573\n",
            "Epoch 60/200\n",
            "206/212 [============================>.] - ETA: 0s - loss: 0.3573 - accuracy: 0.8887\n",
            "Epoch 60: val_loss did not improve from 0.41327\n",
            "212/212 [==============================] - 1s 5ms/step - loss: 0.3557 - accuracy: 0.8897 - val_loss: 0.4140 - val_accuracy: 0.8691\n",
            "Epoch 61/200\n",
            "209/212 [============================>.] - ETA: 0s - loss: 0.3516 - accuracy: 0.8885\n",
            "Epoch 61: val_loss did not improve from 0.41327\n",
            "212/212 [==============================] - 1s 5ms/step - loss: 0.3544 - accuracy: 0.8874 - val_loss: 0.4151 - val_accuracy: 0.8738\n",
            "Epoch 62/200\n",
            "208/212 [============================>.] - ETA: 0s - loss: 0.3361 - accuracy: 0.8966\n",
            "Epoch 62: val_loss improved from 0.41327 to 0.40551, saving model to face_detector.h15\n"
          ]
        },
        {
          "output_type": "stream",
          "name": "stderr",
          "text": [
            "WARNING:absl:Found untraced functions such as _jit_compiled_convolution_op, _jit_compiled_convolution_op, _jit_compiled_convolution_op while saving (showing 3 of 3). These functions will not be directly callable after loading.\n"
          ]
        },
        {
          "output_type": "stream",
          "name": "stdout",
          "text": [
            "\b\b\b\b\b\b\b\b\b\b\b\b\b\b\b\b\b\b\b\b\b\b\b\b\b\b\b\b\b\b\b\b\b\b\b\b\b\b\b\b\b\b\b\b\b\b\b\b\b\b\b\b\b\b\b\b\b\b\b\b\b\b\b\b\b\b\b\b\b\b\b\b\b\b\b\b\b\b\b\b\b\b\b\b\r212/212 [==============================] - 2s 11ms/step - loss: 0.3364 - accuracy: 0.8968 - val_loss: 0.4055 - val_accuracy: 0.8750\n",
            "Epoch 63/200\n",
            "203/212 [===========================>..] - ETA: 0s - loss: 0.3384 - accuracy: 0.9006\n",
            "Epoch 63: val_loss did not improve from 0.40551\n",
            "212/212 [==============================] - 1s 5ms/step - loss: 0.3419 - accuracy: 0.8983 - val_loss: 0.4097 - val_accuracy: 0.8726\n",
            "Epoch 64/200\n",
            "210/212 [============================>.] - ETA: 0s - loss: 0.3359 - accuracy: 0.9003\n",
            "Epoch 64: val_loss improved from 0.40551 to 0.40299, saving model to face_detector.h15\n"
          ]
        },
        {
          "output_type": "stream",
          "name": "stderr",
          "text": [
            "WARNING:absl:Found untraced functions such as _jit_compiled_convolution_op, _jit_compiled_convolution_op, _jit_compiled_convolution_op while saving (showing 3 of 3). These functions will not be directly callable after loading.\n"
          ]
        },
        {
          "output_type": "stream",
          "name": "stdout",
          "text": [
            "\b\b\b\b\b\b\b\b\b\b\b\b\b\b\b\b\b\b\b\b\b\b\b\b\b\b\b\b\b\b\b\b\b\b\b\b\b\b\b\b\b\b\b\b\b\b\b\b\b\b\b\b\b\b\b\b\b\b\b\b\b\b\b\b\b\b\b\b\b\b\b\b\b\b\b\b\b\b\b\b\b\b\b\b\r212/212 [==============================] - 2s 11ms/step - loss: 0.3371 - accuracy: 0.9004 - val_loss: 0.4030 - val_accuracy: 0.8691\n",
            "Epoch 65/200\n",
            "202/212 [===========================>..] - ETA: 0s - loss: 0.3379 - accuracy: 0.8982\n",
            "Epoch 65: val_loss improved from 0.40299 to 0.40185, saving model to face_detector.h15\n"
          ]
        },
        {
          "output_type": "stream",
          "name": "stderr",
          "text": [
            "WARNING:absl:Found untraced functions such as _jit_compiled_convolution_op, _jit_compiled_convolution_op, _jit_compiled_convolution_op while saving (showing 3 of 3). These functions will not be directly callable after loading.\n"
          ]
        },
        {
          "output_type": "stream",
          "name": "stdout",
          "text": [
            "\b\b\b\b\b\b\b\b\b\b\b\b\b\b\b\b\b\b\b\b\b\b\b\b\b\b\b\b\b\b\b\b\b\b\b\b\b\b\b\b\b\b\b\b\b\b\b\b\b\b\b\b\b\b\b\b\b\b\b\b\b\b\b\b\b\b\b\b\b\b\b\b\b\b\b\b\b\b\b\b\b\b\b\b\r212/212 [==============================] - 2s 11ms/step - loss: 0.3369 - accuracy: 0.8986 - val_loss: 0.4018 - val_accuracy: 0.8726\n",
            "Epoch 66/200\n",
            "210/212 [============================>.] - ETA: 0s - loss: 0.3274 - accuracy: 0.9051\n",
            "Epoch 66: val_loss improved from 0.40185 to 0.39334, saving model to face_detector.h15\n"
          ]
        },
        {
          "output_type": "stream",
          "name": "stderr",
          "text": [
            "WARNING:absl:Found untraced functions such as _jit_compiled_convolution_op, _jit_compiled_convolution_op, _jit_compiled_convolution_op while saving (showing 3 of 3). These functions will not be directly callable after loading.\n"
          ]
        },
        {
          "output_type": "stream",
          "name": "stdout",
          "text": [
            "\b\b\b\b\b\b\b\b\b\b\b\b\b\b\b\b\b\b\b\b\b\b\b\b\b\b\b\b\b\b\b\b\b\b\b\b\b\b\b\b\b\b\b\b\b\b\b\b\b\b\b\b\b\b\b\b\b\b\b\b\b\b\b\b\b\b\b\b\b\b\b\b\b\b\b\b\b\b\b\b\b\b\b\b\r212/212 [==============================] - 3s 12ms/step - loss: 0.3278 - accuracy: 0.9048 - val_loss: 0.3933 - val_accuracy: 0.8750\n",
            "Epoch 67/200\n",
            "208/212 [============================>.] - ETA: 0s - loss: 0.3255 - accuracy: 0.9035\n",
            "Epoch 67: val_loss did not improve from 0.39334\n",
            "212/212 [==============================] - 1s 5ms/step - loss: 0.3265 - accuracy: 0.9033 - val_loss: 0.3943 - val_accuracy: 0.8774\n",
            "Epoch 68/200\n",
            "212/212 [==============================] - ETA: 0s - loss: 0.3212 - accuracy: 0.9009\n",
            "Epoch 68: val_loss did not improve from 0.39334\n",
            "212/212 [==============================] - 1s 5ms/step - loss: 0.3212 - accuracy: 0.9009 - val_loss: 0.3982 - val_accuracy: 0.8691\n",
            "Epoch 69/200\n",
            "212/212 [==============================] - ETA: 0s - loss: 0.3225 - accuracy: 0.9033\n",
            "Epoch 69: val_loss improved from 0.39334 to 0.38256, saving model to face_detector.h15\n"
          ]
        },
        {
          "output_type": "stream",
          "name": "stderr",
          "text": [
            "WARNING:absl:Found untraced functions such as _jit_compiled_convolution_op, _jit_compiled_convolution_op, _jit_compiled_convolution_op while saving (showing 3 of 3). These functions will not be directly callable after loading.\n"
          ]
        },
        {
          "output_type": "stream",
          "name": "stdout",
          "text": [
            "\b\b\b\b\b\b\b\b\b\b\b\b\b\b\b\b\b\b\b\b\b\b\b\b\b\b\b\b\b\b\b\b\b\b\b\b\b\b\b\b\b\b\b\b\b\b\b\b\b\b\b\b\b\b\b\b\b\b\b\b\b\b\b\b\b\b\b\b\b\b\b\b\b\b\b\b\b\b\b\b\b\b\b\b\r212/212 [==============================] - 2s 11ms/step - loss: 0.3225 - accuracy: 0.9033 - val_loss: 0.3826 - val_accuracy: 0.8821\n",
            "Epoch 70/200\n",
            "209/212 [============================>.] - ETA: 0s - loss: 0.3071 - accuracy: 0.9046\n",
            "Epoch 70: val_loss did not improve from 0.38256\n",
            "212/212 [==============================] - 1s 5ms/step - loss: 0.3079 - accuracy: 0.9042 - val_loss: 0.4226 - val_accuracy: 0.8585\n",
            "Epoch 71/200\n",
            "206/212 [============================>.] - ETA: 0s - loss: 0.3143 - accuracy: 0.9059\n",
            "Epoch 71: val_loss did not improve from 0.38256\n",
            "212/212 [==============================] - 1s 5ms/step - loss: 0.3132 - accuracy: 0.9062 - val_loss: 0.3904 - val_accuracy: 0.8715\n",
            "Epoch 72/200\n",
            "203/212 [===========================>..] - ETA: 0s - loss: 0.3130 - accuracy: 0.9039\n",
            "Epoch 72: val_loss did not improve from 0.38256\n",
            "212/212 [==============================] - 1s 4ms/step - loss: 0.3120 - accuracy: 0.9048 - val_loss: 0.3850 - val_accuracy: 0.8750\n",
            "Epoch 73/200\n",
            "211/212 [============================>.] - ETA: 0s - loss: 0.3061 - accuracy: 0.9094\n",
            "Epoch 73: val_loss improved from 0.38256 to 0.38024, saving model to face_detector.h15\n"
          ]
        },
        {
          "output_type": "stream",
          "name": "stderr",
          "text": [
            "WARNING:absl:Found untraced functions such as _jit_compiled_convolution_op, _jit_compiled_convolution_op, _jit_compiled_convolution_op while saving (showing 3 of 3). These functions will not be directly callable after loading.\n"
          ]
        },
        {
          "output_type": "stream",
          "name": "stdout",
          "text": [
            "\b\b\b\b\b\b\b\b\b\b\b\b\b\b\b\b\b\b\b\b\b\b\b\b\b\b\b\b\b\b\b\b\b\b\b\b\b\b\b\b\b\b\b\b\b\b\b\b\b\b\b\b\b\b\b\b\b\b\b\b\b\b\b\b\b\b\b\b\b\b\b\b\b\b\b\b\b\b\b\b\b\b\b\b\r212/212 [==============================] - 2s 11ms/step - loss: 0.3055 - accuracy: 0.9098 - val_loss: 0.3802 - val_accuracy: 0.8774\n",
            "Epoch 74/200\n",
            "201/212 [===========================>..] - ETA: 0s - loss: 0.2990 - accuracy: 0.9117\n",
            "Epoch 74: val_loss improved from 0.38024 to 0.37875, saving model to face_detector.h15\n"
          ]
        },
        {
          "output_type": "stream",
          "name": "stderr",
          "text": [
            "WARNING:absl:Found untraced functions such as _jit_compiled_convolution_op, _jit_compiled_convolution_op, _jit_compiled_convolution_op while saving (showing 3 of 3). These functions will not be directly callable after loading.\n"
          ]
        },
        {
          "output_type": "stream",
          "name": "stdout",
          "text": [
            "\b\b\b\b\b\b\b\b\b\b\b\b\b\b\b\b\b\b\b\b\b\b\b\b\b\b\b\b\b\b\b\b\b\b\b\b\b\b\b\b\b\b\b\b\b\b\b\b\b\b\b\b\b\b\b\b\b\b\b\b\b\b\b\b\b\b\b\b\b\b\b\b\b\b\b\b\b\b\b\b\b\b\b\b\r212/212 [==============================] - 2s 11ms/step - loss: 0.3018 - accuracy: 0.9095 - val_loss: 0.3787 - val_accuracy: 0.8844\n",
            "Epoch 75/200\n",
            "203/212 [===========================>..] - ETA: 0s - loss: 0.2974 - accuracy: 0.9101\n",
            "Epoch 75: val_loss did not improve from 0.37875\n",
            "212/212 [==============================] - 1s 5ms/step - loss: 0.2973 - accuracy: 0.9110 - val_loss: 0.3865 - val_accuracy: 0.8715\n",
            "Epoch 76/200\n",
            "201/212 [===========================>..] - ETA: 0s - loss: 0.2995 - accuracy: 0.9095\n",
            "Epoch 76: val_loss improved from 0.37875 to 0.37308, saving model to face_detector.h15\n"
          ]
        },
        {
          "output_type": "stream",
          "name": "stderr",
          "text": [
            "WARNING:absl:Found untraced functions such as _jit_compiled_convolution_op, _jit_compiled_convolution_op, _jit_compiled_convolution_op while saving (showing 3 of 3). These functions will not be directly callable after loading.\n"
          ]
        },
        {
          "output_type": "stream",
          "name": "stdout",
          "text": [
            "\b\b\b\b\b\b\b\b\b\b\b\b\b\b\b\b\b\b\b\b\b\b\b\b\b\b\b\b\b\b\b\b\b\b\b\b\b\b\b\b\b\b\b\b\b\b\b\b\b\b\b\b\b\b\b\b\b\b\b\b\b\b\b\b\b\b\b\b\b\b\b\b\b\b\b\b\b\b\b\b\b\b\b\b\r212/212 [==============================] - 2s 12ms/step - loss: 0.3027 - accuracy: 0.9086 - val_loss: 0.3731 - val_accuracy: 0.8809\n",
            "Epoch 77/200\n",
            "208/212 [============================>.] - ETA: 0s - loss: 0.2862 - accuracy: 0.9180\n",
            "Epoch 77: val_loss improved from 0.37308 to 0.36845, saving model to face_detector.h15\n"
          ]
        },
        {
          "output_type": "stream",
          "name": "stderr",
          "text": [
            "WARNING:absl:Found untraced functions such as _jit_compiled_convolution_op, _jit_compiled_convolution_op, _jit_compiled_convolution_op while saving (showing 3 of 3). These functions will not be directly callable after loading.\n"
          ]
        },
        {
          "output_type": "stream",
          "name": "stdout",
          "text": [
            "\b\b\b\b\b\b\b\b\b\b\b\b\b\b\b\b\b\b\b\b\b\b\b\b\b\b\b\b\b\b\b\b\b\b\b\b\b\b\b\b\b\b\b\b\b\b\b\b\b\b\b\b\b\b\b\b\b\b\b\b\b\b\b\b\b\b\b\b\b\b\b\b\b\b\b\b\b\b\b\b\b\b\b\b\r212/212 [==============================] - 2s 11ms/step - loss: 0.2850 - accuracy: 0.9186 - val_loss: 0.3684 - val_accuracy: 0.8809\n",
            "Epoch 78/200\n",
            "201/212 [===========================>..] - ETA: 0s - loss: 0.2765 - accuracy: 0.9248\n",
            "Epoch 78: val_loss did not improve from 0.36845\n",
            "212/212 [==============================] - 1s 5ms/step - loss: 0.2741 - accuracy: 0.9260 - val_loss: 0.3844 - val_accuracy: 0.8750\n",
            "Epoch 79/200\n",
            "210/212 [============================>.] - ETA: 0s - loss: 0.2804 - accuracy: 0.9217\n",
            "Epoch 79: val_loss did not improve from 0.36845\n",
            "212/212 [==============================] - 1s 5ms/step - loss: 0.2792 - accuracy: 0.9222 - val_loss: 0.3716 - val_accuracy: 0.8797\n",
            "Epoch 80/200\n",
            "205/212 [============================>.] - ETA: 0s - loss: 0.2750 - accuracy: 0.9238\n",
            "Epoch 80: val_loss did not improve from 0.36845\n",
            "212/212 [==============================] - 1s 5ms/step - loss: 0.2740 - accuracy: 0.9251 - val_loss: 0.3751 - val_accuracy: 0.8738\n",
            "Epoch 81/200\n",
            "211/212 [============================>.] - ETA: 0s - loss: 0.2659 - accuracy: 0.9230\n",
            "Epoch 81: val_loss improved from 0.36845 to 0.35955, saving model to face_detector.h15\n"
          ]
        },
        {
          "output_type": "stream",
          "name": "stderr",
          "text": [
            "WARNING:absl:Found untraced functions such as _jit_compiled_convolution_op, _jit_compiled_convolution_op, _jit_compiled_convolution_op while saving (showing 3 of 3). These functions will not be directly callable after loading.\n"
          ]
        },
        {
          "output_type": "stream",
          "name": "stdout",
          "text": [
            "\b\b\b\b\b\b\b\b\b\b\b\b\b\b\b\b\b\b\b\b\b\b\b\b\b\b\b\b\b\b\b\b\b\b\b\b\b\b\b\b\b\b\b\b\b\b\b\b\b\b\b\b\b\b\b\b\b\b\b\b\b\b\b\b\b\b\b\b\b\b\b\b\b\b\b\b\b\b\b\b\b\b\b\b\r212/212 [==============================] - 2s 11ms/step - loss: 0.2656 - accuracy: 0.9228 - val_loss: 0.3595 - val_accuracy: 0.8903\n",
            "Epoch 82/200\n",
            "200/212 [===========================>..] - ETA: 0s - loss: 0.2628 - accuracy: 0.9269\n",
            "Epoch 82: val_loss did not improve from 0.35955\n",
            "212/212 [==============================] - 1s 5ms/step - loss: 0.2654 - accuracy: 0.9257 - val_loss: 0.3597 - val_accuracy: 0.8880\n",
            "Epoch 83/200\n",
            "199/212 [===========================>..] - ETA: 0s - loss: 0.2639 - accuracy: 0.9221\n",
            "Epoch 83: val_loss did not improve from 0.35955\n",
            "212/212 [==============================] - 1s 5ms/step - loss: 0.2649 - accuracy: 0.9225 - val_loss: 0.3610 - val_accuracy: 0.8821\n",
            "Epoch 84/200\n",
            "211/212 [============================>.] - ETA: 0s - loss: 0.2537 - accuracy: 0.9280\n",
            "Epoch 84: val_loss did not improve from 0.35955\n",
            "212/212 [==============================] - 1s 5ms/step - loss: 0.2537 - accuracy: 0.9281 - val_loss: 0.3617 - val_accuracy: 0.8844\n",
            "Epoch 85/200\n",
            "211/212 [============================>.] - ETA: 0s - loss: 0.2620 - accuracy: 0.9236\n",
            "Epoch 85: val_loss did not improve from 0.35955\n",
            "212/212 [==============================] - 1s 5ms/step - loss: 0.2626 - accuracy: 0.9236 - val_loss: 0.3649 - val_accuracy: 0.8726\n",
            "Epoch 86/200\n",
            "208/212 [============================>.] - ETA: 0s - loss: 0.2628 - accuracy: 0.9255\n",
            "Epoch 86: val_loss improved from 0.35955 to 0.35258, saving model to face_detector.h15\n"
          ]
        },
        {
          "output_type": "stream",
          "name": "stderr",
          "text": [
            "WARNING:absl:Found untraced functions such as _jit_compiled_convolution_op, _jit_compiled_convolution_op, _jit_compiled_convolution_op while saving (showing 3 of 3). These functions will not be directly callable after loading.\n"
          ]
        },
        {
          "output_type": "stream",
          "name": "stdout",
          "text": [
            "\b\b\b\b\b\b\b\b\b\b\b\b\b\b\b\b\b\b\b\b\b\b\b\b\b\b\b\b\b\b\b\b\b\b\b\b\b\b\b\b\b\b\b\b\b\b\b\b\b\b\b\b\b\b\b\b\b\b\b\b\b\b\b\b\b\b\b\b\b\b\b\b\b\b\b\b\b\b\b\b\b\b\b\b\r212/212 [==============================] - 2s 11ms/step - loss: 0.2621 - accuracy: 0.9263 - val_loss: 0.3526 - val_accuracy: 0.8892\n",
            "Epoch 87/200\n",
            "200/212 [===========================>..] - ETA: 0s - loss: 0.2586 - accuracy: 0.9234\n",
            "Epoch 87: val_loss did not improve from 0.35258\n",
            "212/212 [==============================] - 1s 5ms/step - loss: 0.2601 - accuracy: 0.9222 - val_loss: 0.3610 - val_accuracy: 0.8809\n",
            "Epoch 88/200\n",
            "202/212 [===========================>..] - ETA: 0s - loss: 0.2461 - accuracy: 0.9301\n",
            "Epoch 88: val_loss improved from 0.35258 to 0.34839, saving model to face_detector.h15\n"
          ]
        },
        {
          "output_type": "stream",
          "name": "stderr",
          "text": [
            "WARNING:absl:Found untraced functions such as _jit_compiled_convolution_op, _jit_compiled_convolution_op, _jit_compiled_convolution_op while saving (showing 3 of 3). These functions will not be directly callable after loading.\n"
          ]
        },
        {
          "output_type": "stream",
          "name": "stdout",
          "text": [
            "\b\b\b\b\b\b\b\b\b\b\b\b\b\b\b\b\b\b\b\b\b\b\b\b\b\b\b\b\b\b\b\b\b\b\b\b\b\b\b\b\b\b\b\b\b\b\b\b\b\b\b\b\b\b\b\b\b\b\b\b\b\b\b\b\b\b\b\b\b\b\b\b\b\b\b\b\b\b\b\b\b\b\b\b\r212/212 [==============================] - 3s 12ms/step - loss: 0.2491 - accuracy: 0.9290 - val_loss: 0.3484 - val_accuracy: 0.8915\n",
            "Epoch 89/200\n",
            "208/212 [============================>.] - ETA: 0s - loss: 0.2457 - accuracy: 0.9264\n",
            "Epoch 89: val_loss did not improve from 0.34839\n",
            "212/212 [==============================] - 1s 5ms/step - loss: 0.2447 - accuracy: 0.9266 - val_loss: 0.3527 - val_accuracy: 0.8856\n",
            "Epoch 90/200\n",
            "208/212 [============================>.] - ETA: 0s - loss: 0.2403 - accuracy: 0.9306\n",
            "Epoch 90: val_loss did not improve from 0.34839\n",
            "212/212 [==============================] - 1s 5ms/step - loss: 0.2405 - accuracy: 0.9304 - val_loss: 0.3641 - val_accuracy: 0.8844\n",
            "Epoch 91/200\n",
            "209/212 [============================>.] - ETA: 0s - loss: 0.2452 - accuracy: 0.9279\n",
            "Epoch 91: val_loss did not improve from 0.34839\n",
            "212/212 [==============================] - 1s 5ms/step - loss: 0.2447 - accuracy: 0.9281 - val_loss: 0.3545 - val_accuracy: 0.8915\n",
            "Epoch 92/200\n",
            "200/212 [===========================>..] - ETA: 0s - loss: 0.2329 - accuracy: 0.9337\n",
            "Epoch 92: val_loss improved from 0.34839 to 0.34431, saving model to face_detector.h15\n"
          ]
        },
        {
          "output_type": "stream",
          "name": "stderr",
          "text": [
            "WARNING:absl:Found untraced functions such as _jit_compiled_convolution_op, _jit_compiled_convolution_op, _jit_compiled_convolution_op while saving (showing 3 of 3). These functions will not be directly callable after loading.\n"
          ]
        },
        {
          "output_type": "stream",
          "name": "stdout",
          "text": [
            "\b\b\b\b\b\b\b\b\b\b\b\b\b\b\b\b\b\b\b\b\b\b\b\b\b\b\b\b\b\b\b\b\b\b\b\b\b\b\b\b\b\b\b\b\b\b\b\b\b\b\b\b\b\b\b\b\b\b\b\b\b\b\b\b\b\b\b\b\b\b\b\b\b\b\b\b\b\b\b\b\b\b\b\b\r212/212 [==============================] - 2s 11ms/step - loss: 0.2350 - accuracy: 0.9331 - val_loss: 0.3443 - val_accuracy: 0.8950\n",
            "Epoch 93/200\n",
            "210/212 [============================>.] - ETA: 0s - loss: 0.2438 - accuracy: 0.9310\n",
            "Epoch 93: val_loss did not improve from 0.34431\n",
            "212/212 [==============================] - 1s 5ms/step - loss: 0.2435 - accuracy: 0.9310 - val_loss: 0.3457 - val_accuracy: 0.8856\n",
            "Epoch 94/200\n",
            "206/212 [============================>.] - ETA: 0s - loss: 0.2330 - accuracy: 0.9360\n",
            "Epoch 94: val_loss did not improve from 0.34431\n",
            "212/212 [==============================] - 1s 5ms/step - loss: 0.2320 - accuracy: 0.9363 - val_loss: 0.3457 - val_accuracy: 0.8915\n",
            "Epoch 95/200\n",
            "202/212 [===========================>..] - ETA: 0s - loss: 0.2465 - accuracy: 0.9335\n",
            "Epoch 95: val_loss did not improve from 0.34431\n",
            "212/212 [==============================] - 1s 5ms/step - loss: 0.2469 - accuracy: 0.9319 - val_loss: 0.3445 - val_accuracy: 0.8868\n",
            "Epoch 96/200\n",
            "204/212 [===========================>..] - ETA: 0s - loss: 0.2296 - accuracy: 0.9381\n",
            "Epoch 96: val_loss improved from 0.34431 to 0.34175, saving model to face_detector.h15\n"
          ]
        },
        {
          "output_type": "stream",
          "name": "stderr",
          "text": [
            "WARNING:absl:Found untraced functions such as _jit_compiled_convolution_op, _jit_compiled_convolution_op, _jit_compiled_convolution_op while saving (showing 3 of 3). These functions will not be directly callable after loading.\n"
          ]
        },
        {
          "output_type": "stream",
          "name": "stdout",
          "text": [
            "\b\b\b\b\b\b\b\b\b\b\b\b\b\b\b\b\b\b\b\b\b\b\b\b\b\b\b\b\b\b\b\b\b\b\b\b\b\b\b\b\b\b\b\b\b\b\b\b\b\b\b\b\b\b\b\b\b\b\b\b\b\b\b\b\b\b\b\b\b\b\b\b\b\b\b\b\b\b\b\b\b\b\b\b\r212/212 [==============================] - 2s 11ms/step - loss: 0.2301 - accuracy: 0.9381 - val_loss: 0.3418 - val_accuracy: 0.8927\n",
            "Epoch 97/200\n",
            "202/212 [===========================>..] - ETA: 0s - loss: 0.2251 - accuracy: 0.9406\n",
            "Epoch 97: val_loss did not improve from 0.34175\n",
            "212/212 [==============================] - 1s 5ms/step - loss: 0.2226 - accuracy: 0.9413 - val_loss: 0.3469 - val_accuracy: 0.8986\n",
            "Epoch 98/200\n",
            "205/212 [============================>.] - ETA: 0s - loss: 0.2245 - accuracy: 0.9393\n",
            "Epoch 98: val_loss did not improve from 0.34175\n",
            "212/212 [==============================] - 1s 5ms/step - loss: 0.2245 - accuracy: 0.9396 - val_loss: 0.3548 - val_accuracy: 0.8856\n",
            "Epoch 99/200\n",
            "203/212 [===========================>..] - ETA: 0s - loss: 0.2262 - accuracy: 0.9406\n",
            "Epoch 99: val_loss improved from 0.34175 to 0.34069, saving model to face_detector.h15\n"
          ]
        },
        {
          "output_type": "stream",
          "name": "stderr",
          "text": [
            "WARNING:absl:Found untraced functions such as _jit_compiled_convolution_op, _jit_compiled_convolution_op, _jit_compiled_convolution_op while saving (showing 3 of 3). These functions will not be directly callable after loading.\n"
          ]
        },
        {
          "output_type": "stream",
          "name": "stdout",
          "text": [
            "\b\b\b\b\b\b\b\b\b\b\b\b\b\b\b\b\b\b\b\b\b\b\b\b\b\b\b\b\b\b\b\b\b\b\b\b\b\b\b\b\b\b\b\b\b\b\b\b\b\b\b\b\b\b\b\b\b\b\b\b\b\b\b\b\b\b\b\b\b\b\b\b\b\b\b\b\b\b\b\b\b\b\b\b\r212/212 [==============================] - 2s 11ms/step - loss: 0.2259 - accuracy: 0.9410 - val_loss: 0.3407 - val_accuracy: 0.8939\n",
            "Epoch 100/200\n",
            "212/212 [==============================] - ETA: 0s - loss: 0.2190 - accuracy: 0.9407\n",
            "Epoch 100: val_loss improved from 0.34069 to 0.33794, saving model to face_detector.h15\n"
          ]
        },
        {
          "output_type": "stream",
          "name": "stderr",
          "text": [
            "WARNING:absl:Found untraced functions such as _jit_compiled_convolution_op, _jit_compiled_convolution_op, _jit_compiled_convolution_op while saving (showing 3 of 3). These functions will not be directly callable after loading.\n"
          ]
        },
        {
          "output_type": "stream",
          "name": "stdout",
          "text": [
            "\b\b\b\b\b\b\b\b\b\b\b\b\b\b\b\b\b\b\b\b\b\b\b\b\b\b\b\b\b\b\b\b\b\b\b\b\b\b\b\b\b\b\b\b\b\b\b\b\b\b\b\b\b\b\b\b\b\b\b\b\b\b\b\b\b\b\b\b\b\b\b\b\b\b\b\b\b\b\b\b\b\b\b\b\r212/212 [==============================] - 3s 12ms/step - loss: 0.2190 - accuracy: 0.9407 - val_loss: 0.3379 - val_accuracy: 0.8939\n",
            "Epoch 101/200\n",
            "200/212 [===========================>..] - ETA: 0s - loss: 0.2107 - accuracy: 0.9441\n",
            "Epoch 101: val_loss improved from 0.33794 to 0.33125, saving model to face_detector.h15\n"
          ]
        },
        {
          "output_type": "stream",
          "name": "stderr",
          "text": [
            "WARNING:absl:Found untraced functions such as _jit_compiled_convolution_op, _jit_compiled_convolution_op, _jit_compiled_convolution_op while saving (showing 3 of 3). These functions will not be directly callable after loading.\n"
          ]
        },
        {
          "output_type": "stream",
          "name": "stdout",
          "text": [
            "\b\b\b\b\b\b\b\b\b\b\b\b\b\b\b\b\b\b\b\b\b\b\b\b\b\b\b\b\b\b\b\b\b\b\b\b\b\b\b\b\b\b\b\b\b\b\b\b\b\b\b\b\b\b\b\b\b\b\b\b\b\b\b\b\b\b\b\b\b\b\b\b\b\b\b\b\b\b\b\b\b\b\b\b\r212/212 [==============================] - 2s 11ms/step - loss: 0.2105 - accuracy: 0.9440 - val_loss: 0.3312 - val_accuracy: 0.8915\n",
            "Epoch 102/200\n",
            "202/212 [===========================>..] - ETA: 0s - loss: 0.2162 - accuracy: 0.9412\n",
            "Epoch 102: val_loss did not improve from 0.33125\n",
            "212/212 [==============================] - 1s 5ms/step - loss: 0.2152 - accuracy: 0.9407 - val_loss: 0.3375 - val_accuracy: 0.8939\n",
            "Epoch 103/200\n",
            "209/212 [============================>.] - ETA: 0s - loss: 0.2054 - accuracy: 0.9432\n",
            "Epoch 103: val_loss did not improve from 0.33125\n",
            "212/212 [==============================] - 1s 5ms/step - loss: 0.2061 - accuracy: 0.9425 - val_loss: 0.3346 - val_accuracy: 0.8939\n",
            "Epoch 104/200\n",
            "202/212 [===========================>..] - ETA: 0s - loss: 0.2086 - accuracy: 0.9428\n",
            "Epoch 104: val_loss improved from 0.33125 to 0.32403, saving model to face_detector.h15\n"
          ]
        },
        {
          "output_type": "stream",
          "name": "stderr",
          "text": [
            "WARNING:absl:Found untraced functions such as _jit_compiled_convolution_op, _jit_compiled_convolution_op, _jit_compiled_convolution_op while saving (showing 3 of 3). These functions will not be directly callable after loading.\n"
          ]
        },
        {
          "output_type": "stream",
          "name": "stdout",
          "text": [
            "\b\b\b\b\b\b\b\b\b\b\b\b\b\b\b\b\b\b\b\b\b\b\b\b\b\b\b\b\b\b\b\b\b\b\b\b\b\b\b\b\b\b\b\b\b\b\b\b\b\b\b\b\b\b\b\b\b\b\b\b\b\b\b\b\b\b\b\b\b\b\b\b\b\b\b\b\b\b\b\b\b\b\b\b\r212/212 [==============================] - 2s 11ms/step - loss: 0.2069 - accuracy: 0.9431 - val_loss: 0.3240 - val_accuracy: 0.8986\n",
            "Epoch 105/200\n",
            "211/212 [============================>.] - ETA: 0s - loss: 0.2011 - accuracy: 0.9496\n",
            "Epoch 105: val_loss did not improve from 0.32403\n",
            "212/212 [==============================] - 1s 5ms/step - loss: 0.2006 - accuracy: 0.9499 - val_loss: 0.3308 - val_accuracy: 0.8998\n",
            "Epoch 106/200\n",
            "209/212 [============================>.] - ETA: 0s - loss: 0.2100 - accuracy: 0.9441\n",
            "Epoch 106: val_loss did not improve from 0.32403\n",
            "212/212 [==============================] - 1s 5ms/step - loss: 0.2097 - accuracy: 0.9446 - val_loss: 0.3333 - val_accuracy: 0.8998\n",
            "Epoch 107/200\n",
            "206/212 [============================>.] - ETA: 0s - loss: 0.1965 - accuracy: 0.9518\n",
            "Epoch 107: val_loss improved from 0.32403 to 0.31837, saving model to face_detector.h15\n"
          ]
        },
        {
          "output_type": "stream",
          "name": "stderr",
          "text": [
            "WARNING:absl:Found untraced functions such as _jit_compiled_convolution_op, _jit_compiled_convolution_op, _jit_compiled_convolution_op while saving (showing 3 of 3). These functions will not be directly callable after loading.\n"
          ]
        },
        {
          "output_type": "stream",
          "name": "stdout",
          "text": [
            "\b\b\b\b\b\b\b\b\b\b\b\b\b\b\b\b\b\b\b\b\b\b\b\b\b\b\b\b\b\b\b\b\b\b\b\b\b\b\b\b\b\b\b\b\b\b\b\b\b\b\b\b\b\b\b\b\b\b\b\b\b\b\b\b\b\b\b\b\b\b\b\b\b\b\b\b\b\b\b\b\b\b\b\b\r212/212 [==============================] - 2s 11ms/step - loss: 0.1953 - accuracy: 0.9522 - val_loss: 0.3184 - val_accuracy: 0.8986\n",
            "Epoch 108/200\n",
            "207/212 [============================>.] - ETA: 0s - loss: 0.1934 - accuracy: 0.9484\n",
            "Epoch 108: val_loss did not improve from 0.31837\n",
            "212/212 [==============================] - 1s 5ms/step - loss: 0.1930 - accuracy: 0.9484 - val_loss: 0.3255 - val_accuracy: 0.8939\n",
            "Epoch 109/200\n",
            "208/212 [============================>.] - ETA: 0s - loss: 0.1957 - accuracy: 0.9486\n",
            "Epoch 109: val_loss did not improve from 0.31837\n",
            "212/212 [==============================] - 1s 5ms/step - loss: 0.1966 - accuracy: 0.9484 - val_loss: 0.3400 - val_accuracy: 0.8844\n",
            "Epoch 110/200\n",
            "206/212 [============================>.] - ETA: 0s - loss: 0.1996 - accuracy: 0.9481\n",
            "Epoch 110: val_loss did not improve from 0.31837\n",
            "212/212 [==============================] - 1s 5ms/step - loss: 0.1979 - accuracy: 0.9490 - val_loss: 0.3291 - val_accuracy: 0.8939\n",
            "Epoch 111/200\n",
            "202/212 [===========================>..] - ETA: 0s - loss: 0.2067 - accuracy: 0.9449\n",
            "Epoch 111: val_loss did not improve from 0.31837\n",
            "212/212 [==============================] - 1s 5ms/step - loss: 0.2053 - accuracy: 0.9446 - val_loss: 0.3309 - val_accuracy: 0.8962\n",
            "Epoch 112/200\n",
            "203/212 [===========================>..] - ETA: 0s - loss: 0.1955 - accuracy: 0.9510\n",
            "Epoch 112: val_loss did not improve from 0.31837\n",
            "212/212 [==============================] - 1s 5ms/step - loss: 0.1947 - accuracy: 0.9514 - val_loss: 0.3266 - val_accuracy: 0.8927\n",
            "Epoch 113/200\n",
            "203/212 [===========================>..] - ETA: 0s - loss: 0.1859 - accuracy: 0.9538\n",
            "Epoch 113: val_loss did not improve from 0.31837\n",
            "212/212 [==============================] - 1s 5ms/step - loss: 0.1856 - accuracy: 0.9543 - val_loss: 0.3294 - val_accuracy: 0.8962\n",
            "Epoch 114/200\n",
            "206/212 [============================>.] - ETA: 0s - loss: 0.1948 - accuracy: 0.9487\n",
            "Epoch 114: val_loss did not improve from 0.31837\n",
            "212/212 [==============================] - 1s 5ms/step - loss: 0.1955 - accuracy: 0.9487 - val_loss: 0.3221 - val_accuracy: 0.8962\n",
            "Epoch 115/200\n",
            "200/212 [===========================>..] - ETA: 0s - loss: 0.1882 - accuracy: 0.9541\n",
            "Epoch 115: val_loss improved from 0.31837 to 0.31594, saving model to face_detector.h15\n"
          ]
        },
        {
          "output_type": "stream",
          "name": "stderr",
          "text": [
            "WARNING:absl:Found untraced functions such as _jit_compiled_convolution_op, _jit_compiled_convolution_op, _jit_compiled_convolution_op while saving (showing 3 of 3). These functions will not be directly callable after loading.\n"
          ]
        },
        {
          "output_type": "stream",
          "name": "stdout",
          "text": [
            "\b\b\b\b\b\b\b\b\b\b\b\b\b\b\b\b\b\b\b\b\b\b\b\b\b\b\b\b\b\b\b\b\b\b\b\b\b\b\b\b\b\b\b\b\b\b\b\b\b\b\b\b\b\b\b\b\b\b\b\b\b\b\b\b\b\b\b\b\b\b\b\b\b\b\b\b\b\b\b\b\b\b\b\b\r212/212 [==============================] - 3s 12ms/step - loss: 0.1878 - accuracy: 0.9549 - val_loss: 0.3159 - val_accuracy: 0.9009\n",
            "Epoch 116/200\n",
            "208/212 [============================>.] - ETA: 0s - loss: 0.1796 - accuracy: 0.9543\n",
            "Epoch 116: val_loss improved from 0.31594 to 0.31452, saving model to face_detector.h15\n"
          ]
        },
        {
          "output_type": "stream",
          "name": "stderr",
          "text": [
            "WARNING:absl:Found untraced functions such as _jit_compiled_convolution_op, _jit_compiled_convolution_op, _jit_compiled_convolution_op while saving (showing 3 of 3). These functions will not be directly callable after loading.\n"
          ]
        },
        {
          "output_type": "stream",
          "name": "stdout",
          "text": [
            "\b\b\b\b\b\b\b\b\b\b\b\b\b\b\b\b\b\b\b\b\b\b\b\b\b\b\b\b\b\b\b\b\b\b\b\b\b\b\b\b\b\b\b\b\b\b\b\b\b\b\b\b\b\b\b\b\b\b\b\b\b\b\b\b\b\b\b\b\b\b\b\b\b\b\b\b\b\b\b\b\b\b\b\b\r212/212 [==============================] - 2s 11ms/step - loss: 0.1786 - accuracy: 0.9546 - val_loss: 0.3145 - val_accuracy: 0.9009\n",
            "Epoch 117/200\n",
            "202/212 [===========================>..] - ETA: 0s - loss: 0.1825 - accuracy: 0.9554\n",
            "Epoch 117: val_loss did not improve from 0.31452\n",
            "212/212 [==============================] - 1s 5ms/step - loss: 0.1832 - accuracy: 0.9555 - val_loss: 0.3153 - val_accuracy: 0.8974\n",
            "Epoch 118/200\n",
            "212/212 [==============================] - ETA: 0s - loss: 0.1736 - accuracy: 0.9581\n",
            "Epoch 118: val_loss did not improve from 0.31452\n",
            "212/212 [==============================] - 1s 5ms/step - loss: 0.1736 - accuracy: 0.9581 - val_loss: 0.3196 - val_accuracy: 0.8986\n",
            "Epoch 119/200\n",
            "208/212 [============================>.] - ETA: 0s - loss: 0.1780 - accuracy: 0.9558\n",
            "Epoch 119: val_loss did not improve from 0.31452\n",
            "212/212 [==============================] - 1s 5ms/step - loss: 0.1774 - accuracy: 0.9558 - val_loss: 0.3170 - val_accuracy: 0.9057\n",
            "Epoch 120/200\n",
            "206/212 [============================>.] - ETA: 0s - loss: 0.1665 - accuracy: 0.9596\n",
            "Epoch 120: val_loss improved from 0.31452 to 0.30986, saving model to face_detector.h15\n"
          ]
        },
        {
          "output_type": "stream",
          "name": "stderr",
          "text": [
            "WARNING:absl:Found untraced functions such as _jit_compiled_convolution_op, _jit_compiled_convolution_op, _jit_compiled_convolution_op while saving (showing 3 of 3). These functions will not be directly callable after loading.\n"
          ]
        },
        {
          "output_type": "stream",
          "name": "stdout",
          "text": [
            "\b\b\b\b\b\b\b\b\b\b\b\b\b\b\b\b\b\b\b\b\b\b\b\b\b\b\b\b\b\b\b\b\b\b\b\b\b\b\b\b\b\b\b\b\b\b\b\b\b\b\b\b\b\b\b\b\b\b\b\b\b\b\b\b\b\b\b\b\b\b\b\b\b\b\b\b\b\b\b\b\b\b\b\b\r212/212 [==============================] - 2s 11ms/step - loss: 0.1655 - accuracy: 0.9602 - val_loss: 0.3099 - val_accuracy: 0.8986\n",
            "Epoch 121/200\n",
            "201/212 [===========================>..] - ETA: 0s - loss: 0.1713 - accuracy: 0.9605\n",
            "Epoch 121: val_loss did not improve from 0.30986\n",
            "212/212 [==============================] - 1s 5ms/step - loss: 0.1689 - accuracy: 0.9605 - val_loss: 0.3182 - val_accuracy: 0.9057\n",
            "Epoch 122/200\n",
            "210/212 [============================>.] - ETA: 0s - loss: 0.1688 - accuracy: 0.9565\n",
            "Epoch 122: val_loss improved from 0.30986 to 0.30330, saving model to face_detector.h15\n"
          ]
        },
        {
          "output_type": "stream",
          "name": "stderr",
          "text": [
            "WARNING:absl:Found untraced functions such as _jit_compiled_convolution_op, _jit_compiled_convolution_op, _jit_compiled_convolution_op while saving (showing 3 of 3). These functions will not be directly callable after loading.\n"
          ]
        },
        {
          "output_type": "stream",
          "name": "stdout",
          "text": [
            "\b\b\b\b\b\b\b\b\b\b\b\b\b\b\b\b\b\b\b\b\b\b\b\b\b\b\b\b\b\b\b\b\b\b\b\b\b\b\b\b\b\b\b\b\b\b\b\b\b\b\b\b\b\b\b\b\b\b\b\b\b\b\b\b\b\b\b\b\b\b\b\b\b\b\b\b\b\b\b\b\b\b\b\b\r212/212 [==============================] - 4s 17ms/step - loss: 0.1685 - accuracy: 0.9570 - val_loss: 0.3033 - val_accuracy: 0.9057\n",
            "Epoch 123/200\n",
            "209/212 [============================>.] - ETA: 0s - loss: 0.1662 - accuracy: 0.9602\n",
            "Epoch 123: val_loss did not improve from 0.30330\n",
            "212/212 [==============================] - 2s 7ms/step - loss: 0.1665 - accuracy: 0.9599 - val_loss: 0.3254 - val_accuracy: 0.9033\n",
            "Epoch 124/200\n",
            "209/212 [============================>.] - ETA: 0s - loss: 0.1724 - accuracy: 0.9572\n",
            "Epoch 124: val_loss did not improve from 0.30330\n",
            "212/212 [==============================] - 2s 8ms/step - loss: 0.1714 - accuracy: 0.9575 - val_loss: 0.3165 - val_accuracy: 0.9045\n",
            "Epoch 125/200\n",
            "203/212 [===========================>..] - ETA: 0s - loss: 0.1716 - accuracy: 0.9566\n",
            "Epoch 125: val_loss did not improve from 0.30330\n",
            "212/212 [==============================] - 1s 5ms/step - loss: 0.1729 - accuracy: 0.9561 - val_loss: 0.3055 - val_accuracy: 0.9068\n",
            "Epoch 126/200\n",
            "208/212 [============================>.] - ETA: 0s - loss: 0.1649 - accuracy: 0.9612\n",
            "Epoch 126: val_loss did not improve from 0.30330\n",
            "212/212 [==============================] - 1s 5ms/step - loss: 0.1654 - accuracy: 0.9605 - val_loss: 0.3214 - val_accuracy: 0.8974\n",
            "Epoch 127/200\n",
            "204/212 [===========================>..] - ETA: 0s - loss: 0.1702 - accuracy: 0.9596\n",
            "Epoch 127: val_loss did not improve from 0.30330\n",
            "212/212 [==============================] - 1s 5ms/step - loss: 0.1687 - accuracy: 0.9602 - val_loss: 0.3076 - val_accuracy: 0.9092\n",
            "Epoch 128/200\n",
            "208/212 [============================>.] - ETA: 0s - loss: 0.1578 - accuracy: 0.9672\n",
            "Epoch 128: val_loss did not improve from 0.30330\n",
            "212/212 [==============================] - 1s 5ms/step - loss: 0.1568 - accuracy: 0.9679 - val_loss: 0.3307 - val_accuracy: 0.8927\n",
            "Epoch 129/200\n",
            "210/212 [============================>.] - ETA: 0s - loss: 0.1575 - accuracy: 0.9646\n",
            "Epoch 129: val_loss did not improve from 0.30330\n",
            "212/212 [==============================] - 1s 5ms/step - loss: 0.1567 - accuracy: 0.9649 - val_loss: 0.3109 - val_accuracy: 0.9021\n",
            "Epoch 130/200\n",
            "203/212 [===========================>..] - ETA: 0s - loss: 0.1444 - accuracy: 0.9692\n",
            "Epoch 130: val_loss did not improve from 0.30330\n",
            "212/212 [==============================] - 1s 5ms/step - loss: 0.1481 - accuracy: 0.9685 - val_loss: 0.3125 - val_accuracy: 0.9033\n",
            "Epoch 131/200\n",
            "211/212 [============================>.] - ETA: 0s - loss: 0.1490 - accuracy: 0.9650\n",
            "Epoch 131: val_loss did not improve from 0.30330\n",
            "212/212 [==============================] - 1s 5ms/step - loss: 0.1507 - accuracy: 0.9646 - val_loss: 0.3164 - val_accuracy: 0.9045\n",
            "Epoch 132/200\n",
            "212/212 [==============================] - ETA: 0s - loss: 0.1515 - accuracy: 0.9637\n",
            "Epoch 132: val_loss did not improve from 0.30330\n",
            "212/212 [==============================] - 1s 5ms/step - loss: 0.1515 - accuracy: 0.9637 - val_loss: 0.3288 - val_accuracy: 0.9045\n",
            "Epoch 133/200\n",
            "210/212 [============================>.] - ETA: 0s - loss: 0.1540 - accuracy: 0.9649\n",
            "Epoch 133: val_loss did not improve from 0.30330\n",
            "212/212 [==============================] - 1s 5ms/step - loss: 0.1538 - accuracy: 0.9649 - val_loss: 0.3132 - val_accuracy: 0.9009\n",
            "Epoch 134/200\n",
            "208/212 [============================>.] - ETA: 0s - loss: 0.1505 - accuracy: 0.9663\n",
            "Epoch 134: val_loss did not improve from 0.30330\n",
            "212/212 [==============================] - 1s 5ms/step - loss: 0.1497 - accuracy: 0.9667 - val_loss: 0.3217 - val_accuracy: 0.9045\n",
            "Epoch 135/200\n",
            "203/212 [===========================>..] - ETA: 0s - loss: 0.1504 - accuracy: 0.9634\n",
            "Epoch 135: val_loss did not improve from 0.30330\n",
            "212/212 [==============================] - 1s 5ms/step - loss: 0.1516 - accuracy: 0.9631 - val_loss: 0.3099 - val_accuracy: 0.9009\n",
            "Epoch 136/200\n",
            "205/212 [============================>.] - ETA: 0s - loss: 0.1458 - accuracy: 0.9695\n",
            "Epoch 136: val_loss did not improve from 0.30330\n",
            "212/212 [==============================] - 1s 5ms/step - loss: 0.1450 - accuracy: 0.9696 - val_loss: 0.3211 - val_accuracy: 0.9057\n",
            "Epoch 137/200\n",
            "212/212 [==============================] - ETA: 0s - loss: 0.1473 - accuracy: 0.9643\n",
            "Epoch 137: val_loss did not improve from 0.30330\n",
            "212/212 [==============================] - 1s 5ms/step - loss: 0.1473 - accuracy: 0.9643 - val_loss: 0.3103 - val_accuracy: 0.9045\n",
            "Epoch 138/200\n",
            "204/212 [===========================>..] - ETA: 0s - loss: 0.1447 - accuracy: 0.9672\n",
            "Epoch 138: val_loss did not improve from 0.30330\n",
            "212/212 [==============================] - 1s 5ms/step - loss: 0.1441 - accuracy: 0.9676 - val_loss: 0.3094 - val_accuracy: 0.9045\n",
            "Epoch 139/200\n",
            "212/212 [==============================] - ETA: 0s - loss: 0.1401 - accuracy: 0.9685\n",
            "Epoch 139: val_loss improved from 0.30330 to 0.29572, saving model to face_detector.h15\n"
          ]
        },
        {
          "output_type": "stream",
          "name": "stderr",
          "text": [
            "WARNING:absl:Found untraced functions such as _jit_compiled_convolution_op, _jit_compiled_convolution_op, _jit_compiled_convolution_op while saving (showing 3 of 3). These functions will not be directly callable after loading.\n"
          ]
        },
        {
          "output_type": "stream",
          "name": "stdout",
          "text": [
            "\b\b\b\b\b\b\b\b\b\b\b\b\b\b\b\b\b\b\b\b\b\b\b\b\b\b\b\b\b\b\b\b\b\b\b\b\b\b\b\b\b\b\b\b\b\b\b\b\b\b\b\b\b\b\b\b\b\b\b\b\b\b\b\b\b\b\b\b\b\b\b\b\b\b\b\b\b\b\b\b\b\b\b\b\r212/212 [==============================] - 3s 12ms/step - loss: 0.1401 - accuracy: 0.9685 - val_loss: 0.2957 - val_accuracy: 0.9104\n",
            "Epoch 140/200\n",
            "204/212 [===========================>..] - ETA: 0s - loss: 0.1424 - accuracy: 0.9697\n",
            "Epoch 140: val_loss did not improve from 0.29572\n",
            "212/212 [==============================] - 1s 5ms/step - loss: 0.1435 - accuracy: 0.9690 - val_loss: 0.3130 - val_accuracy: 0.9057\n",
            "Epoch 141/200\n",
            "207/212 [============================>.] - ETA: 0s - loss: 0.1520 - accuracy: 0.9641\n",
            "Epoch 141: val_loss did not improve from 0.29572\n",
            "212/212 [==============================] - 1s 5ms/step - loss: 0.1520 - accuracy: 0.9640 - val_loss: 0.3014 - val_accuracy: 0.9175\n",
            "Epoch 142/200\n",
            "210/212 [============================>.] - ETA: 0s - loss: 0.1319 - accuracy: 0.9702\n",
            "Epoch 142: val_loss did not improve from 0.29572\n",
            "212/212 [==============================] - 1s 5ms/step - loss: 0.1323 - accuracy: 0.9702 - val_loss: 0.3189 - val_accuracy: 0.9021\n",
            "Epoch 143/200\n",
            "202/212 [===========================>..] - ETA: 0s - loss: 0.1407 - accuracy: 0.9675\n",
            "Epoch 143: val_loss did not improve from 0.29572\n",
            "212/212 [==============================] - 1s 5ms/step - loss: 0.1407 - accuracy: 0.9670 - val_loss: 0.3224 - val_accuracy: 0.9057\n",
            "Epoch 144/200\n",
            "202/212 [===========================>..] - ETA: 0s - loss: 0.1328 - accuracy: 0.9681\n",
            "Epoch 144: val_loss did not improve from 0.29572\n",
            "212/212 [==============================] - 1s 5ms/step - loss: 0.1311 - accuracy: 0.9688 - val_loss: 0.3345 - val_accuracy: 0.8974\n",
            "Epoch 145/200\n",
            "202/212 [===========================>..] - ETA: 0s - loss: 0.1405 - accuracy: 0.9715\n",
            "Epoch 145: val_loss did not improve from 0.29572\n",
            "212/212 [==============================] - 1s 5ms/step - loss: 0.1407 - accuracy: 0.9711 - val_loss: 0.3034 - val_accuracy: 0.9104\n",
            "Epoch 146/200\n",
            "212/212 [==============================] - ETA: 0s - loss: 0.1330 - accuracy: 0.9688\n",
            "Epoch 146: val_loss improved from 0.29572 to 0.29476, saving model to face_detector.h15\n"
          ]
        },
        {
          "output_type": "stream",
          "name": "stderr",
          "text": [
            "WARNING:absl:Found untraced functions such as _jit_compiled_convolution_op, _jit_compiled_convolution_op, _jit_compiled_convolution_op while saving (showing 3 of 3). These functions will not be directly callable after loading.\n"
          ]
        },
        {
          "output_type": "stream",
          "name": "stdout",
          "text": [
            "\b\b\b\b\b\b\b\b\b\b\b\b\b\b\b\b\b\b\b\b\b\b\b\b\b\b\b\b\b\b\b\b\b\b\b\b\b\b\b\b\b\b\b\b\b\b\b\b\b\b\b\b\b\b\b\b\b\b\b\b\b\b\b\b\b\b\b\b\b\b\b\b\b\b\b\b\b\b\b\b\b\b\b\b\r212/212 [==============================] - 2s 11ms/step - loss: 0.1330 - accuracy: 0.9688 - val_loss: 0.2948 - val_accuracy: 0.9163\n",
            "Epoch 147/200\n",
            "202/212 [===========================>..] - ETA: 0s - loss: 0.1345 - accuracy: 0.9684\n",
            "Epoch 147: val_loss did not improve from 0.29476\n",
            "212/212 [==============================] - 1s 5ms/step - loss: 0.1341 - accuracy: 0.9685 - val_loss: 0.3068 - val_accuracy: 0.9092\n",
            "Epoch 148/200\n",
            "203/212 [===========================>..] - ETA: 0s - loss: 0.1362 - accuracy: 0.9692\n",
            "Epoch 148: val_loss did not improve from 0.29476\n",
            "212/212 [==============================] - 1s 5ms/step - loss: 0.1363 - accuracy: 0.9690 - val_loss: 0.3073 - val_accuracy: 0.9033\n",
            "Epoch 149/200\n",
            "202/212 [===========================>..] - ETA: 0s - loss: 0.1251 - accuracy: 0.9731\n",
            "Epoch 149: val_loss did not improve from 0.29476\n",
            "212/212 [==============================] - 1s 5ms/step - loss: 0.1254 - accuracy: 0.9726 - val_loss: 0.2950 - val_accuracy: 0.9139\n",
            "Epoch 150/200\n",
            "203/212 [===========================>..] - ETA: 0s - loss: 0.1319 - accuracy: 0.9689\n",
            "Epoch 150: val_loss did not improve from 0.29476\n",
            "212/212 [==============================] - 1s 5ms/step - loss: 0.1326 - accuracy: 0.9685 - val_loss: 0.3290 - val_accuracy: 0.8974\n",
            "Epoch 151/200\n",
            "203/212 [===========================>..] - ETA: 0s - loss: 0.1303 - accuracy: 0.9717\n",
            "Epoch 151: val_loss did not improve from 0.29476\n",
            "212/212 [==============================] - 1s 5ms/step - loss: 0.1305 - accuracy: 0.9711 - val_loss: 0.2981 - val_accuracy: 0.9151\n",
            "Epoch 152/200\n",
            "206/212 [============================>.] - ETA: 0s - loss: 0.1261 - accuracy: 0.9706\n",
            "Epoch 152: val_loss did not improve from 0.29476\n",
            "212/212 [==============================] - 1s 5ms/step - loss: 0.1260 - accuracy: 0.9708 - val_loss: 0.2992 - val_accuracy: 0.9104\n",
            "Epoch 153/200\n",
            "211/212 [============================>.] - ETA: 0s - loss: 0.1275 - accuracy: 0.9713\n",
            "Epoch 153: val_loss did not improve from 0.29476\n",
            "212/212 [==============================] - 1s 5ms/step - loss: 0.1273 - accuracy: 0.9714 - val_loss: 0.2978 - val_accuracy: 0.9057\n",
            "Epoch 154/200\n",
            "212/212 [==============================] - ETA: 0s - loss: 0.1281 - accuracy: 0.9746\n",
            "Epoch 154: val_loss improved from 0.29476 to 0.29220, saving model to face_detector.h15\n"
          ]
        },
        {
          "output_type": "stream",
          "name": "stderr",
          "text": [
            "WARNING:absl:Found untraced functions such as _jit_compiled_convolution_op, _jit_compiled_convolution_op, _jit_compiled_convolution_op while saving (showing 3 of 3). These functions will not be directly callable after loading.\n"
          ]
        },
        {
          "output_type": "stream",
          "name": "stdout",
          "text": [
            "\b\b\b\b\b\b\b\b\b\b\b\b\b\b\b\b\b\b\b\b\b\b\b\b\b\b\b\b\b\b\b\b\b\b\b\b\b\b\b\b\b\b\b\b\b\b\b\b\b\b\b\b\b\b\b\b\b\b\b\b\b\b\b\b\b\b\b\b\b\b\b\b\b\b\b\b\b\b\b\b\b\b\b\b\r212/212 [==============================] - 2s 11ms/step - loss: 0.1281 - accuracy: 0.9746 - val_loss: 0.2922 - val_accuracy: 0.9104\n",
            "Epoch 155/200\n",
            "205/212 [============================>.] - ETA: 0s - loss: 0.1212 - accuracy: 0.9735\n",
            "Epoch 155: val_loss improved from 0.29220 to 0.28581, saving model to face_detector.h15\n"
          ]
        },
        {
          "output_type": "stream",
          "name": "stderr",
          "text": [
            "WARNING:absl:Found untraced functions such as _jit_compiled_convolution_op, _jit_compiled_convolution_op, _jit_compiled_convolution_op while saving (showing 3 of 3). These functions will not be directly callable after loading.\n"
          ]
        },
        {
          "output_type": "stream",
          "name": "stdout",
          "text": [
            "\b\b\b\b\b\b\b\b\b\b\b\b\b\b\b\b\b\b\b\b\b\b\b\b\b\b\b\b\b\b\b\b\b\b\b\b\b\b\b\b\b\b\b\b\b\b\b\b\b\b\b\b\b\b\b\b\b\b\b\b\b\b\b\b\b\b\b\b\b\b\b\b\b\b\b\b\b\b\b\b\b\b\b\b\r212/212 [==============================] - 2s 11ms/step - loss: 0.1221 - accuracy: 0.9732 - val_loss: 0.2858 - val_accuracy: 0.9151\n",
            "Epoch 156/200\n",
            "207/212 [============================>.] - ETA: 0s - loss: 0.1300 - accuracy: 0.9731\n",
            "Epoch 156: val_loss did not improve from 0.28581\n",
            "212/212 [==============================] - 1s 5ms/step - loss: 0.1293 - accuracy: 0.9735 - val_loss: 0.3075 - val_accuracy: 0.9033\n",
            "Epoch 157/200\n",
            "207/212 [============================>.] - ETA: 0s - loss: 0.1223 - accuracy: 0.9734\n",
            "Epoch 157: val_loss did not improve from 0.28581\n",
            "212/212 [==============================] - 1s 5ms/step - loss: 0.1213 - accuracy: 0.9738 - val_loss: 0.3006 - val_accuracy: 0.9057\n",
            "Epoch 158/200\n",
            "204/212 [===========================>..] - ETA: 0s - loss: 0.1218 - accuracy: 0.9746\n",
            "Epoch 158: val_loss did not improve from 0.28581\n",
            "212/212 [==============================] - 1s 5ms/step - loss: 0.1219 - accuracy: 0.9746 - val_loss: 0.2895 - val_accuracy: 0.9139\n",
            "Epoch 159/200\n",
            "208/212 [============================>.] - ETA: 0s - loss: 0.1178 - accuracy: 0.9757\n",
            "Epoch 159: val_loss did not improve from 0.28581\n",
            "212/212 [==============================] - 1s 5ms/step - loss: 0.1183 - accuracy: 0.9755 - val_loss: 0.3007 - val_accuracy: 0.9068\n",
            "Epoch 160/200\n",
            "203/212 [===========================>..] - ETA: 0s - loss: 0.1148 - accuracy: 0.9744\n",
            "Epoch 160: val_loss did not improve from 0.28581\n",
            "212/212 [==============================] - 1s 5ms/step - loss: 0.1144 - accuracy: 0.9746 - val_loss: 0.3055 - val_accuracy: 0.9057\n",
            "Epoch 161/200\n",
            "207/212 [============================>.] - ETA: 0s - loss: 0.1209 - accuracy: 0.9737\n",
            "Epoch 161: val_loss did not improve from 0.28581\n",
            "212/212 [==============================] - 1s 5ms/step - loss: 0.1198 - accuracy: 0.9741 - val_loss: 0.3105 - val_accuracy: 0.9068\n",
            "Epoch 162/200\n",
            "208/212 [============================>.] - ETA: 0s - loss: 0.1130 - accuracy: 0.9772\n",
            "Epoch 162: val_loss did not improve from 0.28581\n",
            "212/212 [==============================] - 1s 5ms/step - loss: 0.1137 - accuracy: 0.9767 - val_loss: 0.3080 - val_accuracy: 0.9033\n",
            "Epoch 163/200\n",
            "204/212 [===========================>..] - ETA: 0s - loss: 0.1154 - accuracy: 0.9789\n",
            "Epoch 163: val_loss did not improve from 0.28581\n",
            "212/212 [==============================] - 1s 5ms/step - loss: 0.1168 - accuracy: 0.9782 - val_loss: 0.3098 - val_accuracy: 0.9080\n",
            "Epoch 164/200\n",
            "207/212 [============================>.] - ETA: 0s - loss: 0.1098 - accuracy: 0.9786\n",
            "Epoch 164: val_loss did not improve from 0.28581\n",
            "212/212 [==============================] - 1s 5ms/step - loss: 0.1085 - accuracy: 0.9791 - val_loss: 0.2944 - val_accuracy: 0.9104\n",
            "Epoch 165/200\n",
            "207/212 [============================>.] - ETA: 0s - loss: 0.1134 - accuracy: 0.9761\n",
            "Epoch 165: val_loss did not improve from 0.28581\n",
            "212/212 [==============================] - 1s 5ms/step - loss: 0.1126 - accuracy: 0.9764 - val_loss: 0.2949 - val_accuracy: 0.9057\n",
            "Epoch 166/200\n",
            "209/212 [============================>.] - ETA: 0s - loss: 0.1193 - accuracy: 0.9761\n",
            "Epoch 166: val_loss did not improve from 0.28581\n",
            "212/212 [==============================] - 1s 5ms/step - loss: 0.1192 - accuracy: 0.9761 - val_loss: 0.3020 - val_accuracy: 0.9092\n",
            "Epoch 167/200\n",
            "204/212 [===========================>..] - ETA: 0s - loss: 0.1038 - accuracy: 0.9792\n",
            "Epoch 167: val_loss did not improve from 0.28581\n",
            "212/212 [==============================] - 1s 5ms/step - loss: 0.1041 - accuracy: 0.9797 - val_loss: 0.3052 - val_accuracy: 0.9033\n",
            "Epoch 168/200\n",
            "203/212 [===========================>..] - ETA: 0s - loss: 0.1128 - accuracy: 0.9757\n",
            "Epoch 168: val_loss did not improve from 0.28581\n",
            "212/212 [==============================] - 1s 5ms/step - loss: 0.1121 - accuracy: 0.9764 - val_loss: 0.2935 - val_accuracy: 0.9080\n",
            "Epoch 169/200\n",
            "207/212 [============================>.] - ETA: 0s - loss: 0.1139 - accuracy: 0.9758\n",
            "Epoch 169: val_loss did not improve from 0.28581\n",
            "212/212 [==============================] - 1s 5ms/step - loss: 0.1129 - accuracy: 0.9764 - val_loss: 0.2975 - val_accuracy: 0.9104\n",
            "Epoch 170/200\n",
            "204/212 [===========================>..] - ETA: 0s - loss: 0.1131 - accuracy: 0.9767\n",
            "Epoch 170: val_loss did not improve from 0.28581\n",
            "212/212 [==============================] - 1s 5ms/step - loss: 0.1136 - accuracy: 0.9767 - val_loss: 0.2921 - val_accuracy: 0.9163\n",
            "Epoch 171/200\n",
            "206/212 [============================>.] - ETA: 0s - loss: 0.1134 - accuracy: 0.9760\n",
            "Epoch 171: val_loss did not improve from 0.28581\n",
            "212/212 [==============================] - 1s 5ms/step - loss: 0.1141 - accuracy: 0.9755 - val_loss: 0.2976 - val_accuracy: 0.9116\n",
            "Epoch 172/200\n",
            "211/212 [============================>.] - ETA: 0s - loss: 0.1103 - accuracy: 0.9796\n",
            "Epoch 172: val_loss did not improve from 0.28581\n",
            "212/212 [==============================] - 1s 5ms/step - loss: 0.1101 - accuracy: 0.9797 - val_loss: 0.2924 - val_accuracy: 0.9092\n",
            "Epoch 173/200\n",
            "205/212 [============================>.] - ETA: 0s - loss: 0.1075 - accuracy: 0.9759\n",
            "Epoch 173: val_loss did not improve from 0.28581\n",
            "212/212 [==============================] - 1s 5ms/step - loss: 0.1082 - accuracy: 0.9758 - val_loss: 0.3282 - val_accuracy: 0.8927\n",
            "Epoch 174/200\n",
            "206/212 [============================>.] - ETA: 0s - loss: 0.1109 - accuracy: 0.9772\n",
            "Epoch 174: val_loss did not improve from 0.28581\n",
            "212/212 [==============================] - 1s 5ms/step - loss: 0.1117 - accuracy: 0.9770 - val_loss: 0.3052 - val_accuracy: 0.9116\n",
            "Epoch 175/200\n",
            "207/212 [============================>.] - ETA: 0s - loss: 0.1099 - accuracy: 0.9737\n",
            "Epoch 175: val_loss did not improve from 0.28581\n",
            "212/212 [==============================] - 1s 5ms/step - loss: 0.1093 - accuracy: 0.9738 - val_loss: 0.2859 - val_accuracy: 0.9210\n",
            "Epoch 176/200\n",
            "201/212 [===========================>..] - ETA: 0s - loss: 0.0975 - accuracy: 0.9820\n",
            "Epoch 176: val_loss did not improve from 0.28581\n",
            "212/212 [==============================] - 1s 5ms/step - loss: 0.0993 - accuracy: 0.9811 - val_loss: 0.2867 - val_accuracy: 0.9175\n",
            "Epoch 177/200\n",
            "207/212 [============================>.] - ETA: 0s - loss: 0.1023 - accuracy: 0.9786\n",
            "Epoch 177: val_loss improved from 0.28581 to 0.27856, saving model to face_detector.h15\n"
          ]
        },
        {
          "output_type": "stream",
          "name": "stderr",
          "text": [
            "WARNING:absl:Found untraced functions such as _jit_compiled_convolution_op, _jit_compiled_convolution_op, _jit_compiled_convolution_op while saving (showing 3 of 3). These functions will not be directly callable after loading.\n"
          ]
        },
        {
          "output_type": "stream",
          "name": "stdout",
          "text": [
            "\b\b\b\b\b\b\b\b\b\b\b\b\b\b\b\b\b\b\b\b\b\b\b\b\b\b\b\b\b\b\b\b\b\b\b\b\b\b\b\b\b\b\b\b\b\b\b\b\b\b\b\b\b\b\b\b\b\b\b\b\b\b\b\b\b\b\b\b\b\b\b\b\b\b\b\b\b\b\b\b\b\b\b\b\r212/212 [==============================] - 3s 12ms/step - loss: 0.1020 - accuracy: 0.9788 - val_loss: 0.2786 - val_accuracy: 0.9281\n",
            "Epoch 178/200\n",
            "206/212 [============================>.] - ETA: 0s - loss: 0.1036 - accuracy: 0.9788\n",
            "Epoch 178: val_loss did not improve from 0.27856\n",
            "212/212 [==============================] - 1s 5ms/step - loss: 0.1036 - accuracy: 0.9785 - val_loss: 0.2834 - val_accuracy: 0.9127\n",
            "Epoch 179/200\n",
            "206/212 [============================>.] - ETA: 0s - loss: 0.0994 - accuracy: 0.9800\n",
            "Epoch 179: val_loss did not improve from 0.27856\n",
            "212/212 [==============================] - 1s 5ms/step - loss: 0.0994 - accuracy: 0.9797 - val_loss: 0.3022 - val_accuracy: 0.9175\n",
            "Epoch 180/200\n",
            "209/212 [============================>.] - ETA: 0s - loss: 0.0989 - accuracy: 0.9791\n",
            "Epoch 180: val_loss did not improve from 0.27856\n",
            "212/212 [==============================] - 1s 5ms/step - loss: 0.0987 - accuracy: 0.9794 - val_loss: 0.2984 - val_accuracy: 0.9104\n",
            "Epoch 181/200\n",
            "203/212 [===========================>..] - ETA: 0s - loss: 0.0965 - accuracy: 0.9800\n",
            "Epoch 181: val_loss did not improve from 0.27856\n",
            "212/212 [==============================] - 1s 5ms/step - loss: 0.0961 - accuracy: 0.9800 - val_loss: 0.3150 - val_accuracy: 0.9068\n",
            "Epoch 182/200\n",
            "212/212 [==============================] - ETA: 0s - loss: 0.1020 - accuracy: 0.9802\n",
            "Epoch 182: val_loss did not improve from 0.27856\n",
            "212/212 [==============================] - 1s 5ms/step - loss: 0.1020 - accuracy: 0.9802 - val_loss: 0.3178 - val_accuracy: 0.9021\n",
            "Epoch 183/200\n",
            "207/212 [============================>.] - ETA: 0s - loss: 0.0927 - accuracy: 0.9840\n",
            "Epoch 183: val_loss did not improve from 0.27856\n",
            "212/212 [==============================] - 1s 5ms/step - loss: 0.0918 - accuracy: 0.9844 - val_loss: 0.3063 - val_accuracy: 0.9092\n",
            "Epoch 184/200\n",
            "207/212 [============================>.] - ETA: 0s - loss: 0.1034 - accuracy: 0.9780\n",
            "Epoch 184: val_loss did not improve from 0.27856\n",
            "212/212 [==============================] - 1s 5ms/step - loss: 0.1034 - accuracy: 0.9782 - val_loss: 0.3444 - val_accuracy: 0.8974\n",
            "Epoch 185/200\n",
            "204/212 [===========================>..] - ETA: 0s - loss: 0.0983 - accuracy: 0.9770\n",
            "Epoch 185: val_loss did not improve from 0.27856\n",
            "212/212 [==============================] - 1s 5ms/step - loss: 0.0976 - accuracy: 0.9776 - val_loss: 0.2905 - val_accuracy: 0.9163\n",
            "Epoch 186/200\n",
            "211/212 [============================>.] - ETA: 0s - loss: 0.1056 - accuracy: 0.9754\n",
            "Epoch 186: val_loss did not improve from 0.27856\n",
            "212/212 [==============================] - 1s 5ms/step - loss: 0.1062 - accuracy: 0.9752 - val_loss: 0.3101 - val_accuracy: 0.9033\n",
            "Epoch 187/200\n",
            "211/212 [============================>.] - ETA: 0s - loss: 0.0939 - accuracy: 0.9834\n",
            "Epoch 187: val_loss did not improve from 0.27856\n",
            "212/212 [==============================] - 1s 5ms/step - loss: 0.0939 - accuracy: 0.9835 - val_loss: 0.3059 - val_accuracy: 0.9116\n",
            "Epoch 188/200\n",
            "212/212 [==============================] - ETA: 0s - loss: 0.0988 - accuracy: 0.9800\n",
            "Epoch 188: val_loss did not improve from 0.27856\n",
            "212/212 [==============================] - 1s 5ms/step - loss: 0.0988 - accuracy: 0.9800 - val_loss: 0.2828 - val_accuracy: 0.9139\n",
            "Epoch 189/200\n",
            "206/212 [============================>.] - ETA: 0s - loss: 0.0937 - accuracy: 0.9824\n",
            "Epoch 189: val_loss did not improve from 0.27856\n",
            "212/212 [==============================] - 1s 5ms/step - loss: 0.0936 - accuracy: 0.9823 - val_loss: 0.2865 - val_accuracy: 0.9198\n",
            "Epoch 190/200\n",
            "212/212 [==============================] - ETA: 0s - loss: 0.0892 - accuracy: 0.9826\n",
            "Epoch 190: val_loss did not improve from 0.27856\n",
            "212/212 [==============================] - 1s 5ms/step - loss: 0.0892 - accuracy: 0.9826 - val_loss: 0.2837 - val_accuracy: 0.9092\n",
            "Epoch 191/200\n",
            "201/212 [===========================>..] - ETA: 0s - loss: 0.0870 - accuracy: 0.9851\n",
            "Epoch 191: val_loss did not improve from 0.27856\n",
            "212/212 [==============================] - 1s 5ms/step - loss: 0.0871 - accuracy: 0.9850 - val_loss: 0.2918 - val_accuracy: 0.9151\n",
            "Epoch 192/200\n",
            "203/212 [===========================>..] - ETA: 0s - loss: 0.0966 - accuracy: 0.9797\n",
            "Epoch 192: val_loss did not improve from 0.27856\n",
            "212/212 [==============================] - 1s 5ms/step - loss: 0.0953 - accuracy: 0.9802 - val_loss: 0.2929 - val_accuracy: 0.9139\n",
            "Epoch 193/200\n",
            "201/212 [===========================>..] - ETA: 0s - loss: 0.0944 - accuracy: 0.9817\n",
            "Epoch 193: val_loss did not improve from 0.27856\n",
            "212/212 [==============================] - 1s 5ms/step - loss: 0.0937 - accuracy: 0.9820 - val_loss: 0.2926 - val_accuracy: 0.9116\n",
            "Epoch 194/200\n",
            "202/212 [===========================>..] - ETA: 0s - loss: 0.0950 - accuracy: 0.9796\n",
            "Epoch 194: val_loss did not improve from 0.27856\n",
            "212/212 [==============================] - 1s 5ms/step - loss: 0.0942 - accuracy: 0.9800 - val_loss: 0.3062 - val_accuracy: 0.9116\n",
            "Epoch 195/200\n",
            "209/212 [============================>.] - ETA: 0s - loss: 0.0924 - accuracy: 0.9818\n",
            "Epoch 195: val_loss did not improve from 0.27856\n",
            "212/212 [==============================] - 1s 5ms/step - loss: 0.0925 - accuracy: 0.9817 - val_loss: 0.2932 - val_accuracy: 0.9139\n",
            "Epoch 196/200\n",
            "205/212 [============================>.] - ETA: 0s - loss: 0.0928 - accuracy: 0.9814\n",
            "Epoch 196: val_loss did not improve from 0.27856\n",
            "212/212 [==============================] - 1s 5ms/step - loss: 0.0917 - accuracy: 0.9820 - val_loss: 0.2980 - val_accuracy: 0.9045\n",
            "Epoch 197/200\n",
            "208/212 [============================>.] - ETA: 0s - loss: 0.0916 - accuracy: 0.9826\n",
            "Epoch 197: val_loss did not improve from 0.27856\n",
            "212/212 [==============================] - 1s 5ms/step - loss: 0.0926 - accuracy: 0.9823 - val_loss: 0.2863 - val_accuracy: 0.9175\n",
            "Epoch 198/200\n",
            "203/212 [===========================>..] - ETA: 0s - loss: 0.0954 - accuracy: 0.9797\n",
            "Epoch 198: val_loss did not improve from 0.27856\n",
            "212/212 [==============================] - 1s 5ms/step - loss: 0.0949 - accuracy: 0.9797 - val_loss: 0.3113 - val_accuracy: 0.9198\n",
            "Epoch 199/200\n",
            "207/212 [============================>.] - ETA: 0s - loss: 0.0841 - accuracy: 0.9843\n",
            "Epoch 199: val_loss did not improve from 0.27856\n",
            "212/212 [==============================] - 1s 5ms/step - loss: 0.0854 - accuracy: 0.9841 - val_loss: 0.3022 - val_accuracy: 0.9092\n",
            "Epoch 200/200\n",
            "201/212 [===========================>..] - ETA: 0s - loss: 0.0785 - accuracy: 0.9882\n",
            "Epoch 200: val_loss did not improve from 0.27856\n",
            "212/212 [==============================] - 1s 5ms/step - loss: 0.0801 - accuracy: 0.9873 - val_loss: 0.3047 - val_accuracy: 0.9080\n"
          ]
        }
      ]
    },
    {
      "cell_type": "code",
      "source": [
        "# model.save_weights(\"/content/drive/MyDrive/model/best_model_weights.h5\")\n",
        "# model.save('/content/drive/MyDrive/model/best_model.h5')\n",
        "# print(\"Saved model to disk\")\n",
        "# from tensorflow.keras.layers import Conv2D, MaxPooling2D\n",
        "# from tensorflow.keras.regularizers import l2\n",
        "\n",
        "# # BUILD 1D CNN LAYERS\n",
        "model = keras.models.load_model('/content/drive/MyDrive/model/best_model.h5')\n"
      ],
      "metadata": {
        "id": "tRc3CyifaZNP"
      },
      "execution_count": null,
      "outputs": []
    },
    {
      "cell_type": "code",
      "execution_count": null,
      "metadata": {
        "id": "ddBseUrQK6VQ",
        "colab": {
          "base_uri": "https://localhost:8080/",
          "height": 573
        },
        "outputId": "52c9dabc-96b1-4680-e936-8fe1517af5f1"
      },
      "outputs": [
        {
          "output_type": "display_data",
          "data": {
            "text/plain": [
              "<Figure size 432x288 with 1 Axes>"
            ],
            "image/png": "[encoded data removed]"
          },
          "metadata": {
            "needs_background": "light"
          }
        },
        {
          "output_type": "display_data",
          "data": {
            "text/plain": [
              "<Figure size 432x288 with 1 Axes>"
            ],
            "image/png": "[encoded data removed]"
          },
          "metadata": {
            "needs_background": "light"
          }
        }
      ],
      "source": [
        "# PRINT MODEL HISTORY OF ACCURACY AND LOSS OVER EPOCHS\n",
        "plt.plot(model_history.history['accuracy'])\n",
        "plt.plot(model_history.history['val_accuracy'])\n",
        "plt.title('model accuracy')\n",
        "plt.ylabel('accuracy')\n",
        "plt.xlabel('epoch')\n",
        "plt.legend(['train', 'test'], loc='upper left')\n",
        "plt.savefig('Augmented_Model_Accuracy.png')\n",
        "plt.show()\n",
        "# summarize history for loss\n",
        "plt.plot(model_history.history['loss'])\n",
        "plt.plot(model_history.history['val_loss'])\n",
        "plt.title('model loss')\n",
        "plt.ylabel('loss')\n",
        "plt.xlabel('epoch')\n",
        "plt.legend(['train', 'test'], loc='upper left')\n",
        "plt.savefig('Augmented_Model_Loss.png')\n",
        "plt.show()"
      ]
    },
    {
      "cell_type": "code",
      "source": [
        "# PREDICTION LABELS\n",
        "# model = tf.keras.models.load_model('/home/adarsh/Downloads/best_model.h5')\n",
        "# model.load_weights('/home/adarsh/Downloads/best_model_weights.h5')\n",
        "predictions = model.predict(X_test)\n",
        "predictions=predictions.argmax(axis=1)\n",
        "predictions\n",
        "predictions = predictions.astype(int).flatten()\n",
        "predictions = (lb.inverse_transform((predictions)))\n",
        "predictions = pd.DataFrame({'Predicted Values': predictions})\n",
        "# ACTUAL LABELS\n",
        "actual=y_test.argmax(axis=1)\n",
        "actual = actual.astype(int).flatten()\n",
        "actual = (lb.inverse_transform((actual)))\n",
        "actual = pd.DataFrame({'Actual Values': actual})\n",
        "predictions\n",
        "# # COMBINE PREDICTION AND ACTUAL LABELS\n",
        "pred = pd.concat([predictions,actual],axis=1,ignore_index=True)\n",
        "pred\n",
        "# # # predictions\n",
        "# # actual"
      ],
      "metadata": {
        "colab": {
          "base_uri": "https://localhost:8080/",
          "height": 441
        },
        "id": "C2Czbc1DbvsA",
        "outputId": "2a21e38f-7e30-4984-d943-a442c0900eda"
      },
      "execution_count": null,
      "outputs": [
        {
          "output_type": "stream",
          "name": "stdout",
          "text": [
            "27/27 [==============================] - 1s 10ms/step\n"
          ]
        },
        {
          "output_type": "execute_result",
          "data": {
            "text/plain": [
              "           0        1\n",
              "0    neutral  neutral\n",
              "1       fear     fear\n",
              "2    neutral  neutral\n",
              "3      happy    happy\n",
              "4        sad      sad\n",
              "..       ...      ...\n",
              "843    happy    happy\n",
              "844     fear     fear\n",
              "845  neutral  neutral\n",
              "846    angry    angry\n",
              "847    happy    happy\n",
              "\n",
              "[848 rows x 2 columns]"
            ],
            "text/html": [
              "\n",
              "  <div id=\"df-ee5ed204-83dc-4ac5-8af3-8a2d1ddb5c73\">\n",
              "    <div class=\"colab-df-container\">\n",
              "      <div>\n",
              "<style scoped>\n",
              "    .dataframe tbody tr th:only-of-type {\n",
              "        vertical-align: middle;\n",
              "    }\n",
              "\n",
              "    .dataframe tbody tr th {\n",
              "        vertical-align: top;\n",
              "    }\n",
              "\n",
              "    .dataframe thead th {\n",
              "        text-align: right;\n",
              "    }\n",
              "</style>\n",
              "<table border=\"1\" class=\"dataframe\">\n",
              "  <thead>\n",
              "    <tr style=\"text-align: right;\">\n",
              "      <th></th>\n",
              "      <th>0</th>\n",
              "      <th>1</th>\n",
              "    </tr>\n",
              "  </thead>\n",
              "  <tbody>\n",
              "    <tr>\n",
              "      <th>0</th>\n",
              "      <td>neutral</td>\n",
              "      <td>neutral</td>\n",
              "    </tr>\n",
              "    <tr>\n",
              "      <th>1</th>\n",
              "      <td>fear</td>\n",
              "      <td>fear</td>\n",
              "    </tr>\n",
              "    <tr>\n",
              "      <th>2</th>\n",
              "      <td>neutral</td>\n",
              "      <td>neutral</td>\n",
              "    </tr>\n",
              "    <tr>\n",
              "      <th>3</th>\n",
              "      <td>happy</td>\n",
              "      <td>happy</td>\n",
              "    </tr>\n",
              "    <tr>\n",
              "      <th>4</th>\n",
              "      <td>sad</td>\n",
              "      <td>sad</td>\n",
              "    </tr>\n",
              "    <tr>\n",
              "      <th>...</th>\n",
              "      <td>...</td>\n",
              "      <td>...</td>\n",
              "    </tr>\n",
              "    <tr>\n",
              "      <th>843</th>\n",
              "      <td>happy</td>\n",
              "      <td>happy</td>\n",
              "    </tr>\n",
              "    <tr>\n",
              "      <th>844</th>\n",
              "      <td>fear</td>\n",
              "      <td>fear</td>\n",
              "    </tr>\n",
              "    <tr>\n",
              "      <th>845</th>\n",
              "      <td>neutral</td>\n",
              "      <td>neutral</td>\n",
              "    </tr>\n",
              "    <tr>\n",
              "      <th>846</th>\n",
              "      <td>angry</td>\n",
              "      <td>angry</td>\n",
              "    </tr>\n",
              "    <tr>\n",
              "      <th>847</th>\n",
              "      <td>happy</td>\n",
              "      <td>happy</td>\n",
              "    </tr>\n",
              "  </tbody>\n",
              "</table>\n",
              "<p>848 rows × 2 columns</p>\n",
              "</div>\n",
              "      <button class=\"colab-df-convert\" onclick=\"convertToInteractive('df-ee5ed204-83dc-4ac5-8af3-8a2d1ddb5c73')\"\n",
              "              title=\"Convert this dataframe to an interactive table.\"\n",
              "              style=\"display:none;\">\n",
              "        \n",
              "  <svg xmlns=\"http://www.w3.org/2000/svg\" height=\"24px\"viewBox=\"0 0 24 24\"\n",
              "       width=\"24px\">\n",
              "    <path d=\"M0 0h24v24H0V0z\" fill=\"none\"/>\n",
              "    <path d=\"M18.56 5.44l.94 2.06.94-2.06 2.06-.94-2.06-.94-.94-2.06-.94 2.06-2.06.94zm-11 1L8.5 8.5l.94-2.06 2.06-.94-2.06-.94L8.5 2.5l-.94 2.06-2.06.94zm10 10l.94 2.06.94-2.06 2.06-.94-2.06-.94-.94-2.06-.94 2.06-2.06.94z\"/><path d=\"M17.41 7.96l-1.37-1.37c-.4-.4-.92-.59-1.43-.59-.52 0-1.04.2-1.43.59L10.3 9.45l-7.72 7.72c-.78.78-.78 2.05 0 2.83L4 21.41c.39.39.9.59 1.41.59.51 0 1.02-.2 1.41-.59l7.78-7.78 2.81-2.81c.8-.78.8-2.07 0-2.86zM5.41 20L4 18.59l7.72-7.72 1.47 1.35L5.41 20z\"/>\n",
              "  </svg>\n",
              "      </button>\n",
              "      \n",
              "  <style>\n",
              "    .colab-df-container {\n",
              "      display:flex;\n",
              "      flex-wrap:wrap;\n",
              "      gap: 12px;\n",
              "    }\n",
              "\n",
              "    .colab-df-convert {\n",
              "      background-color: #E8F0FE;\n",
              "      border: none;\n",
              "      border-radius: 50%;\n",
              "      cursor: pointer;\n",
              "      display: none;\n",
              "      fill: #1967D2;\n",
              "      height: 32px;\n",
              "      padding: 0 0 0 0;\n",
              "      width: 32px;\n",
              "    }\n",
              "\n",
              "    .colab-df-convert:hover {\n",
              "      background-color: #E2EBFA;\n",
              "      box-shadow: 0px 1px 2px rgba(60, 64, 67, 0.3), 0px 1px 3px 1px rgba(60, 64, 67, 0.15);\n",
              "      fill: #174EA6;\n",
              "    }\n",
              "\n",
              "    [theme=dark] .colab-df-convert {\n",
              "      background-color: #3B4455;\n",
              "      fill: #D2E3FC;\n",
              "    }\n",
              "\n",
              "    [theme=dark] .colab-df-convert:hover {\n",
              "      background-color: #434B5C;\n",
              "      box-shadow: 0px 1px 3px 1px rgba(0, 0, 0, 0.15);\n",
              "      filter: drop-shadow(0px 1px 2px rgba(0, 0, 0, 0.3));\n",
              "      fill: #FFFFFF;\n",
              "    }\n",
              "  </style>\n",
              "\n",
              "      <script>\n",
              "        const buttonEl =\n",
              "          document.querySelector('#df-ee5ed204-83dc-4ac5-8af3-8a2d1ddb5c73 button.colab-df-convert');\n",
              "        buttonEl.style.display =\n",
              "          google.colab.kernel.accessAllowed ? 'block' : 'none';\n",
              "\n",
              "        async function convertToInteractive(key) {\n",
              "          const element = document.querySelector('#df-ee5ed204-83dc-4ac5-8af3-8a2d1ddb5c73');\n",
              "          const dataTable =\n",
              "            await google.colab.kernel.invokeFunction('convertToInteractive',\n",
              "                                                     [key], {});\n",
              "          if (!dataTable) return;\n",
              "\n",
              "          const docLinkHtml = 'Like what you see? Visit the ' +\n",
              "            '<a target=\"_blank\" href=https://colab.research.google.com/notebooks/data_table.ipynb>data table notebook</a>'\n",
              "            + ' to learn more about interactive tables.';\n",
              "          element.innerHTML = '';\n",
              "          dataTable['output_type'] = 'display_data';\n",
              "          await google.colab.output.renderOutput(dataTable, element);\n",
              "          const docLink = document.createElement('div');\n",
              "          docLink.innerHTML = docLinkHtml;\n",
              "          element.appendChild(docLink);\n",
              "        }\n",
              "      </script>\n",
              "    </div>\n",
              "  </div>\n",
              "  "
            ]
          },
          "metadata": {},
          "execution_count": 22
        }
      ]
    },
    {
      "cell_type": "code",
      "execution_count": null,
      "metadata": {
        "id": "eSNcJV4TK6VR",
        "colab": {
          "base_uri": "https://localhost:8080/",
          "height": 630
        },
        "outputId": "465325b4-59a6-4343-98b1-f179db5be82e"
      },
      "outputs": [
        {
          "output_type": "display_data",
          "data": {
            "text/plain": [
              "<Figure size 864x720 with 2 Axes>"
            ],
            "image/png": "[encoded data removed]"
          },
          "metadata": {
            "needs_background": "light"
          }
        }
      ],
      "source": [
        "# CREATE CONFUSION MATRIX OF ACTUAL VS. PREDICTION \n",
        "from sklearn.metrics import confusion_matrix\n",
        "import seaborn as sns\n",
        "\n",
        "cm = confusion_matrix(actual, predictions)\n",
        "plt.figure(figsize = (12, 10))\n",
        "cm = pd.DataFrame(cm , index = [i for i in lb.classes_] , columns = [i for i in lb.classes_])\n",
        "ax = sns.heatmap(cm, linecolor='white', cmap='Blues', linewidth=1, annot=True, fmt='')\n",
        "bottom, top = ax.get_ylim()\n",
        "ax.set_ylim(bottom + 0.5, top - 0.5)\n",
        "plt.title('Confusion Matrix', size=20)\n",
        "plt.xlabel('Predicted Labels', size=14)\n",
        "plt.ylabel('Actual Labels', size=14)\n",
        "plt.savefig('Augmented_Model_Confusion_Matrix.png')\n",
        "plt.show()"
      ]
    },
    {
      "cell_type": "code",
      "source": [
        "from IPython.display import Audio\n",
        "from IPython.display import Javascript\n",
        "from google.colab import output\n",
        "from base64 import b64decode\n",
        "\n",
        "RECORD = \"\"\"\n",
        "const sleep  = time => new Promise(resolve => setTimeout(resolve, time))\n",
        "const b2text = blob => new Promise(resolve => {\n",
        "  const reader = new FileReader()\n",
        "  reader.onloadend = e => resolve(e.srcElement.result)\n",
        "  reader.readAsDataURL(blob)\n",
        "})\n",
        "var record = time => new Promise(async resolve => {\n",
        "  stream = await navigator.mediaDevices.getUserMedia({ audio: true })\n",
        "  recorder = new MediaRecorder(stream)\n",
        "  chunks = []\n",
        "  recorder.ondataavailable = e => chunks.push(e.data)\n",
        "  recorder.start()\n",
        "  await sleep(time)\n",
        "  recorder.onstop = async ()=>{\n",
        "    blob = new Blob(chunks)\n",
        "    text = await b2text(blob)\n",
        "    resolve(text)\n",
        "  }\n",
        "  recorder.stop()\n",
        "})\n",
        "\"\"\"\n",
        "\n",
        "def record(sec=3):\n",
        "  display(Javascript(RECORD))\n",
        "  s = output.eval_js('record(%d)' % (sec*1000))\n",
        "  b = b64decode(s.split(',')[1])\n",
        "  with open('audio.wav','wb') as f:\n",
        "    f.write(b)\n",
        "  return 'audio.wav' \n",
        "record(4)\n",
        "x1,sr1 = librosa.load('/content/drive/MyDrive/zAjJYkUnTEs_160.wav')\n",
        "Audio(data=x1,rate=sr1)"
      ],
      "metadata": {
        "colab": {
          "base_uri": "https://localhost:8080/",
          "height": 61
        },
        "id": "pkiBtciQdb52",
        "outputId": "a514f73f-1218-43cd-e0a6-21e4623937c1"
      },
      "execution_count": null,
      "outputs": [
        {
          "output_type": "execute_result",
          "data": {
            "text/plain": [
              "<IPython.lib.display.Audio object>"
            ],
            "text/html": [
              "\n",
              "                <audio  controls=\"controls\" >\n",
              "                    <source src=\"data:audio/wav;base64,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\" type=\"audio/wav\" />\n",
              "                    Your browser does not support the audio element.\n",
              "                </audio>\n",
              "              "
            ]
          },
          "metadata": {},
          "execution_count": 49
        }
      ]
    },
    {
      "cell_type": "code",
      "source": [
        "test_aud = extract_mfcc('/content/drive/MyDrive/zAjJYkUnTEs_160.wav')\n",
        "test_aud\n",
        "# mean = np.mean(test_aud,axis=0)\n",
        "# std = np.std(test_aud,axis=0)\n",
        "test_auddf = (test_aud-mean)/std\n",
        "test_auddf = np.array([test_auddf])\n",
        "test_auddf\n",
        "test_auddf = test_auddf[:,:,np.newaxis]\n",
        "test_auddf\n",
        "# livedf2= pd.DataFrame(data=test_auddf)\n",
        "# livedf2 = livedf2.stack().to_frame().T\n",
        "# twodim= np.expand_dims(livedf2, axis=2)"
      ],
      "metadata": {
        "id": "UQSdTZ74eMyv",
        "colab": {
          "base_uri": "https://localhost:8080/"
        },
        "outputId": "231bf78d-b5fa-49e7-f538-9ab8f805289f"
      },
      "execution_count": null,
      "outputs": [
        {
          "output_type": "execute_result",
          "data": {
            "text/plain": [
              "array([[[ 2.72527023],\n",
              "        [ 1.16438384],\n",
              "        [-4.32883747],\n",
              "        [ 0.13429235],\n",
              "        [-0.64291901],\n",
              "        [-0.78333992],\n",
              "        [-1.40138036],\n",
              "        [ 1.4225936 ],\n",
              "        [-1.30628537],\n",
              "        [-1.89921331],\n",
              "        [-0.61054812],\n",
              "        [-1.03457022],\n",
              "        [-1.41601823],\n",
              "        [-0.73403843],\n",
              "        [-1.10739089],\n",
              "        [ 0.79688795],\n",
              "        [-2.22294005],\n",
              "        [-0.4722919 ],\n",
              "        [-0.73640322],\n",
              "        [-0.09364983],\n",
              "        [-1.21911745],\n",
              "        [-0.16858645],\n",
              "        [-0.4212943 ],\n",
              "        [-0.23124067],\n",
              "        [-0.65634   ],\n",
              "        [-0.45583578],\n",
              "        [-0.843504  ],\n",
              "        [-0.60331759],\n",
              "        [-0.78901621],\n",
              "        [-0.42054673],\n",
              "        [-0.70794029],\n",
              "        [-0.14165978],\n",
              "        [-0.31454498],\n",
              "        [-0.34930673],\n",
              "        [-0.88570694],\n",
              "        [-0.7380118 ],\n",
              "        [-0.78194274],\n",
              "        [-0.63023345],\n",
              "        [-0.55305104],\n",
              "        [-0.57845227]]])"
            ]
          },
          "metadata": {},
          "execution_count": 75
        }
      ]
    },
    {
      "cell_type": "code",
      "source": [
        "\n",
        "predictions = model.predict(test_auddf,batch_size=1)\n",
        "predictions=predictions.argmax(axis=1)\n",
        "predictions\n",
        "\n",
        "predictions = predictions.astype(int).flatten()\n",
        "predictions\n",
        "# predictions = (lb.inverse_transform((predictions)))\n",
        "# predictions"
      ],
      "metadata": {
        "colab": {
          "base_uri": "https://localhost:8080/"
        },
        "id": "DBZ3_4Q6flJV",
        "outputId": "60c2c6c2-8531-4e36-82cc-632f9e9deb75"
      },
      "execution_count": null,
      "outputs": [
        {
          "output_type": "stream",
          "name": "stdout",
          "text": [
            "1/1 [==============================] - 0s 23ms/step\n"
          ]
        },
        {
          "output_type": "execute_result",
          "data": {
            "text/plain": [
              "array([0])"
            ]
          },
          "metadata": {},
          "execution_count": 76
        }
      ]
    }
  ]
}